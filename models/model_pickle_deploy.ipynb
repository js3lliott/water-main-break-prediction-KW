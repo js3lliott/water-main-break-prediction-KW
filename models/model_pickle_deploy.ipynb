{
 "cells": [
  {
   "cell_type": "code",
   "execution_count": 10,
   "id": "6ae35c25",
   "metadata": {},
   "outputs": [],
   "source": [
    "import pandas as pd\n",
    "from sklearn.ensemble import RandomForestRegressor"
   ]
  },
  {
   "cell_type": "code",
   "execution_count": 11,
   "id": "66f68f8d",
   "metadata": {},
   "outputs": [
    {
     "data": {
      "text/html": [
       "<div>\n",
       "<style scoped>\n",
       "    .dataframe tbody tr th:only-of-type {\n",
       "        vertical-align: middle;\n",
       "    }\n",
       "\n",
       "    .dataframe tbody tr th {\n",
       "        vertical-align: top;\n",
       "    }\n",
       "\n",
       "    .dataframe thead th {\n",
       "        text-align: right;\n",
       "    }\n",
       "</style>\n",
       "<table border=\"1\" class=\"dataframe\">\n",
       "  <thead>\n",
       "    <tr style=\"text-align: right;\">\n",
       "      <th></th>\n",
       "      <th>break_type</th>\n",
       "      <th>break_nature</th>\n",
       "      <th>break_apparent_cause</th>\n",
       "      <th>break_categorization</th>\n",
       "      <th>asset_size</th>\n",
       "      <th>asset_material</th>\n",
       "      <th>num_breaks</th>\n",
       "      <th>age_at_break</th>\n",
       "      <th>positive_pressure_maintaned</th>\n",
       "      <th>air_gap_maintaned</th>\n",
       "      <th>mechanical_removal</th>\n",
       "      <th>flushing_excavation</th>\n",
       "      <th>higher_velocity_flushing</th>\n",
       "      <th>anode_installed</th>\n",
       "      <th>asset_exists</th>\n",
       "      <th>failure_rate</th>\n",
       "    </tr>\n",
       "  </thead>\n",
       "  <tbody>\n",
       "    <tr>\n",
       "      <th>1629</th>\n",
       "      <td>0</td>\n",
       "      <td>4</td>\n",
       "      <td>4</td>\n",
       "      <td>0</td>\n",
       "      <td>150.0</td>\n",
       "      <td>1</td>\n",
       "      <td>5</td>\n",
       "      <td>53</td>\n",
       "      <td>1</td>\n",
       "      <td>1</td>\n",
       "      <td>1</td>\n",
       "      <td>1</td>\n",
       "      <td>1</td>\n",
       "      <td>1</td>\n",
       "      <td>1</td>\n",
       "      <td>0.0943</td>\n",
       "    </tr>\n",
       "    <tr>\n",
       "      <th>1938</th>\n",
       "      <td>0</td>\n",
       "      <td>4</td>\n",
       "      <td>4</td>\n",
       "      <td>0</td>\n",
       "      <td>150.0</td>\n",
       "      <td>4</td>\n",
       "      <td>2</td>\n",
       "      <td>55</td>\n",
       "      <td>1</td>\n",
       "      <td>1</td>\n",
       "      <td>1</td>\n",
       "      <td>1</td>\n",
       "      <td>1</td>\n",
       "      <td>1</td>\n",
       "      <td>1</td>\n",
       "      <td>0.0364</td>\n",
       "    </tr>\n",
       "    <tr>\n",
       "      <th>1873</th>\n",
       "      <td>0</td>\n",
       "      <td>0</td>\n",
       "      <td>0</td>\n",
       "      <td>0</td>\n",
       "      <td>300.0</td>\n",
       "      <td>1</td>\n",
       "      <td>3</td>\n",
       "      <td>57</td>\n",
       "      <td>1</td>\n",
       "      <td>1</td>\n",
       "      <td>1</td>\n",
       "      <td>1</td>\n",
       "      <td>1</td>\n",
       "      <td>1</td>\n",
       "      <td>1</td>\n",
       "      <td>0.0526</td>\n",
       "    </tr>\n",
       "    <tr>\n",
       "      <th>323</th>\n",
       "      <td>0</td>\n",
       "      <td>4</td>\n",
       "      <td>4</td>\n",
       "      <td>0</td>\n",
       "      <td>150.0</td>\n",
       "      <td>1</td>\n",
       "      <td>3</td>\n",
       "      <td>45</td>\n",
       "      <td>1</td>\n",
       "      <td>1</td>\n",
       "      <td>1</td>\n",
       "      <td>1</td>\n",
       "      <td>1</td>\n",
       "      <td>1</td>\n",
       "      <td>1</td>\n",
       "      <td>0.0667</td>\n",
       "    </tr>\n",
       "    <tr>\n",
       "      <th>123</th>\n",
       "      <td>0</td>\n",
       "      <td>0</td>\n",
       "      <td>1</td>\n",
       "      <td>0</td>\n",
       "      <td>150.0</td>\n",
       "      <td>1</td>\n",
       "      <td>6</td>\n",
       "      <td>43</td>\n",
       "      <td>1</td>\n",
       "      <td>1</td>\n",
       "      <td>1</td>\n",
       "      <td>1</td>\n",
       "      <td>1</td>\n",
       "      <td>1</td>\n",
       "      <td>1</td>\n",
       "      <td>0.1395</td>\n",
       "    </tr>\n",
       "  </tbody>\n",
       "</table>\n",
       "</div>"
      ],
      "text/plain": [
       "      break_type  break_nature  break_apparent_cause  break_categorization  \\\n",
       "1629           0             4                     4                     0   \n",
       "1938           0             4                     4                     0   \n",
       "1873           0             0                     0                     0   \n",
       "323            0             4                     4                     0   \n",
       "123            0             0                     1                     0   \n",
       "\n",
       "      asset_size  asset_material  num_breaks  age_at_break  \\\n",
       "1629       150.0               1           5            53   \n",
       "1938       150.0               4           2            55   \n",
       "1873       300.0               1           3            57   \n",
       "323        150.0               1           3            45   \n",
       "123        150.0               1           6            43   \n",
       "\n",
       "      positive_pressure_maintaned  air_gap_maintaned  mechanical_removal  \\\n",
       "1629                            1                  1                   1   \n",
       "1938                            1                  1                   1   \n",
       "1873                            1                  1                   1   \n",
       "323                             1                  1                   1   \n",
       "123                             1                  1                   1   \n",
       "\n",
       "      flushing_excavation  higher_velocity_flushing  anode_installed  \\\n",
       "1629                    1                         1                1   \n",
       "1938                    1                         1                1   \n",
       "1873                    1                         1                1   \n",
       "323                     1                         1                1   \n",
       "123                     1                         1                1   \n",
       "\n",
       "      asset_exists  failure_rate  \n",
       "1629             1        0.0943  \n",
       "1938             1        0.0364  \n",
       "1873             1        0.0526  \n",
       "323              1        0.0667  \n",
       "123              1        0.1395  "
      ]
     },
     "execution_count": 11,
     "metadata": {},
     "output_type": "execute_result"
    }
   ],
   "source": [
    "df = pd.read_csv('../data/processed/model_data.csv')\n",
    "df.sample(5)"
   ]
  },
  {
   "cell_type": "code",
   "execution_count": 12,
   "id": "685bf754",
   "metadata": {},
   "outputs": [
    {
     "data": {
      "text/plain": [
       "break_type                     0\n",
       "break_nature                   0\n",
       "break_apparent_cause           0\n",
       "break_categorization           0\n",
       "asset_size                     0\n",
       "asset_material                 0\n",
       "num_breaks                     0\n",
       "age_at_break                   0\n",
       "positive_pressure_maintaned    0\n",
       "air_gap_maintaned              0\n",
       "mechanical_removal             0\n",
       "flushing_excavation            0\n",
       "higher_velocity_flushing       0\n",
       "anode_installed                0\n",
       "asset_exists                   0\n",
       "failure_rate                   0\n",
       "dtype: int64"
      ]
     },
     "execution_count": 12,
     "metadata": {},
     "output_type": "execute_result"
    }
   ],
   "source": [
    "df.isna().sum()"
   ]
  },
  {
   "cell_type": "code",
   "execution_count": 13,
   "id": "89df5523",
   "metadata": {},
   "outputs": [
    {
     "data": {
      "text/plain": [
       "((1628, 15), (1628,), (408, 15), (408,))"
      ]
     },
     "execution_count": 13,
     "metadata": {},
     "output_type": "execute_result"
    }
   ],
   "source": [
    "from sklearn.model_selection import train_test_split\n",
    "\n",
    "X = df.drop('failure_rate', axis=1)\n",
    "y = df['failure_rate']\n",
    "\n",
    "X_train, X_test, y_train, y_test = train_test_split(X, y, test_size=0.2, random_state=42)\n",
    "X_train.shape, y_train.shape, X_test.shape, y_test.shape"
   ]
  },
  {
   "cell_type": "code",
   "execution_count": 14,
   "id": "95257010",
   "metadata": {},
   "outputs": [
    {
     "data": {
      "text/plain": [
       "0.9357764446557406"
      ]
     },
     "execution_count": 14,
     "metadata": {},
     "output_type": "execute_result"
    }
   ],
   "source": [
    "rf_model = RandomForestRegressor()\n",
    "rf_model.fit(X_train, y_train)\n",
    "rf_model.score(X_train, y_train)"
   ]
  },
  {
   "cell_type": "code",
   "execution_count": 15,
   "id": "ff062380",
   "metadata": {},
   "outputs": [],
   "source": [
    "import pickle\n",
    "pickle.dump(rf_model, open('rf_model.pkl', 'wb'))"
   ]
  },
  {
   "cell_type": "code",
   "execution_count": 16,
   "id": "531ebddb",
   "metadata": {},
   "outputs": [
    {
     "data": {
      "text/plain": [
       "'{\"break_type\": 0, \"break_nature\": 4, \"break_apparent_cause\": 4, \"break_categorization\": 2, \"asset_size\": 150.0, \"asset_material\": 1, \"num_breaks\": 9, \"age_at_break\": 62, \"positive_pressure_maintaned\": 1, \"air_gap_maintaned\": 1, \"mechanical_removal\": 1, \"flushing_excavation\": 1, \"higher_velocity_flushing\": 1, \"anode_installed\": 1, \"asset_exists\": 1}'"
      ]
     },
     "execution_count": 16,
     "metadata": {},
     "output_type": "execute_result"
    }
   ],
   "source": [
    "import requests\n",
    "import json\n",
    "\n",
    "# local url\n",
    "url = 'http://127.0.0.1:5000'\n",
    "\n",
    "# sample data\n",
    "data = {\n",
    "    'break_type': 0,\n",
    "    'break_nature': 4,\n",
    "    'break_apparent_cause': 4,\n",
    "    'break_categorization': 2,\n",
    "    'asset_size': 150.0,\n",
    "    'asset_material': 1,\n",
    "    'num_breaks': 9,\n",
    "    'age_at_break': 62,\n",
    "    'positive_pressure_maintaned': 1,\n",
    "    'air_gap_maintaned': 1,\n",
    "    'mechanical_removal': 1,\n",
    "    'flushing_excavation': 1,\n",
    "    'higher_velocity_flushing': 1,\n",
    "    'anode_installed': 1,\n",
    "    'asset_exists': 1\n",
    "}\n",
    "\n",
    "data = json.dumps(data)\n",
    "data"
   ]
  },
  {
   "cell_type": "code",
   "execution_count": 17,
   "id": "6baf7191",
   "metadata": {},
   "outputs": [
    {
     "name": "stdout",
     "output_type": "stream",
     "text": [
      "<Response [200]>\n"
     ]
    }
   ],
   "source": [
    "send_request = requests.post(url, data)\n",
    "print(send_request)"
   ]
  },
  {
   "cell_type": "code",
   "execution_count": null,
   "id": "ac5403d5",
   "metadata": {},
   "outputs": [],
   "source": []
  },
  {
   "cell_type": "code",
   "execution_count": 18,
   "id": "0948b2c0",
   "metadata": {},
   "outputs": [
    {
     "name": "stdout",
     "output_type": "stream",
     "text": [
      "{'results': {'results': 0.14510099999999976}}\n"
     ]
    }
   ],
   "source": [
    "print(send_request.json())"
   ]
  },
  {
   "cell_type": "code",
   "execution_count": null,
   "id": "f6a7cfcf",
   "metadata": {},
   "outputs": [],
   "source": []
  },
  {
   "cell_type": "code",
   "execution_count": 19,
   "id": "10ad9df3",
   "metadata": {},
   "outputs": [
    {
     "data": {
      "text/plain": [
       "'{\"break_type\": 1, \"break_nature\": 2, \"break_apparent_cause\": 3, \"break_categorization\": 2, \"asset_size\": 300.0, \"asset_material\": 1, \"num_breaks\": 4, \"age_at_break\": 54, \"positive_pressure_maintaned\": 1, \"air_gap_maintaned\": 1, \"mechanical_removal\": 1, \"flushing_excavation\": 1, \"higher_velocity_flushing\": 1, \"anode_installed\": 1, \"asset_exists\": 1}'"
      ]
     },
     "execution_count": 19,
     "metadata": {},
     "output_type": "execute_result"
    }
   ],
   "source": [
    "# heroku url\n",
    "heroku_url = 'https://pipe-break-flask-app.herokuapp.com/'\n",
    "\n",
    "data = {\n",
    "    'break_type': 1,\n",
    "    'break_nature': 2,\n",
    "    'break_apparent_cause': 3,\n",
    "    'break_categorization': 2,\n",
    "    'asset_size': 300.0,\n",
    "    'asset_material': 1,\n",
    "    'num_breaks': 4,\n",
    "    'age_at_break': 54,\n",
    "    'positive_pressure_maintaned': 1,\n",
    "    'air_gap_maintaned': 1,\n",
    "    'mechanical_removal': 1,\n",
    "    'flushing_excavation': 1,\n",
    "    'higher_velocity_flushing': 1,\n",
    "    'anode_installed': 1,\n",
    "    'asset_exists': 1\n",
    "}\n",
    "data = json.dumps(data)\n",
    "data"
   ]
  },
  {
   "cell_type": "code",
   "execution_count": 20,
   "id": "4aeac6e6",
   "metadata": {},
   "outputs": [
    {
     "name": "stdout",
     "output_type": "stream",
     "text": [
      "<Response [503]>\n"
     ]
    }
   ],
   "source": [
    "send_request = requests.post(heroku_url)\n",
    "print(send_request)"
   ]
  },
  {
   "cell_type": "code",
   "execution_count": null,
   "id": "45344987",
   "metadata": {},
   "outputs": [],
   "source": []
  }
 ],
 "metadata": {
  "kernelspec": {
   "display_name": "Python 3 (ipykernel)",
   "language": "python",
   "name": "python3"
  },
  "language_info": {
   "codemirror_mode": {
    "name": "ipython",
    "version": 3
   },
   "file_extension": ".py",
   "mimetype": "text/x-python",
   "name": "python",
   "nbconvert_exporter": "python",
   "pygments_lexer": "ipython3",
   "version": "3.10.6"
  },
  "toc": {
   "base_numbering": 1,
   "nav_menu": {},
   "number_sections": true,
   "sideBar": true,
   "skip_h1_title": false,
   "title_cell": "Table of Contents",
   "title_sidebar": "Contents",
   "toc_cell": false,
   "toc_position": {},
   "toc_section_display": true,
   "toc_window_display": false
  },
  "varInspector": {
   "cols": {
    "lenName": 16,
    "lenType": 16,
    "lenVar": 40
   },
   "kernels_config": {
    "python": {
     "delete_cmd_postfix": "",
     "delete_cmd_prefix": "del ",
     "library": "var_list.py",
     "varRefreshCmd": "print(var_dic_list())"
    },
    "r": {
     "delete_cmd_postfix": ") ",
     "delete_cmd_prefix": "rm(",
     "library": "var_list.r",
     "varRefreshCmd": "cat(var_dic_list()) "
    }
   },
   "types_to_exclude": [
    "module",
    "function",
    "builtin_function_or_method",
    "instance",
    "_Feature"
   ],
   "window_display": false
  }
 },
 "nbformat": 4,
 "nbformat_minor": 5
}
