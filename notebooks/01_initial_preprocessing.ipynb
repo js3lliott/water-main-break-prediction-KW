{
 "cells": [
  {
   "cell_type": "markdown",
   "id": "e9bcd71b",
   "metadata": {},
   "source": [
    "## Initial Pre-processing\n",
    "\n",
    "This notebook demonstrates my pre-processing steps for water main break data. I download and import the most recently available data from the [regional database](https://open-kitchenergis.opendata.arcgis.com/datasets/KitchenerGIS::water-main-breaks/about) and get rid of the unnecessary columns so we can focus on the features that are going to essential for our model later on.\n",
    "\n",
    "Let's dive in!"
   ]
  },
  {
   "cell_type": "code",
   "execution_count": 163,
   "id": "6099c17d",
   "metadata": {},
   "outputs": [],
   "source": [
    "# Basic imports\n",
    "\n",
    "import pandas as pd\n",
    "import numpy as np\n",
    "import matplotlib.pyplot as plt\n",
    "import seaborn as sns\n",
    "\n",
    "# Configuration\n",
    "%matplotlib inline"
   ]
  },
  {
   "cell_type": "code",
   "execution_count": 164,
   "id": "dc04bba3",
   "metadata": {},
   "outputs": [
    {
     "data": {
      "text/html": [
       "<div>\n",
       "<style scoped>\n",
       "    .dataframe tbody tr th:only-of-type {\n",
       "        vertical-align: middle;\n",
       "    }\n",
       "\n",
       "    .dataframe tbody tr th {\n",
       "        vertical-align: top;\n",
       "    }\n",
       "\n",
       "    .dataframe thead th {\n",
       "        text-align: right;\n",
       "    }\n",
       "</style>\n",
       "<table border=\"1\" class=\"dataframe\">\n",
       "  <thead>\n",
       "    <tr style=\"text-align: right;\">\n",
       "      <th></th>\n",
       "      <th>X</th>\n",
       "      <th>Y</th>\n",
       "      <th>OBJECTID</th>\n",
       "      <th>WATBREAKINCIDENTID</th>\n",
       "      <th>INCIDENT_DATE</th>\n",
       "      <th>BREAK_TYPE</th>\n",
       "      <th>ROAD_CLOSED</th>\n",
       "      <th>SIDEWALK_CLOSED</th>\n",
       "      <th>HOUR_IMPACTED</th>\n",
       "      <th>UNITS_IMPACTED</th>\n",
       "      <th>...</th>\n",
       "      <th>CIVIC_NUMBER</th>\n",
       "      <th>STREET</th>\n",
       "      <th>ASSETID</th>\n",
       "      <th>ASSET_DEPTH</th>\n",
       "      <th>FROST_DEPTH</th>\n",
       "      <th>ASSET_SIZE</th>\n",
       "      <th>ASSET_YEAR_INSTALLED</th>\n",
       "      <th>ASSET_MATERIAL</th>\n",
       "      <th>ASSET_EXISTS</th>\n",
       "      <th>GLOBALID</th>\n",
       "    </tr>\n",
       "  </thead>\n",
       "  <tbody>\n",
       "    <tr>\n",
       "      <th>2697</th>\n",
       "      <td>-80.502843</td>\n",
       "      <td>43.423353</td>\n",
       "      <td>52801</td>\n",
       "      <td>145554</td>\n",
       "      <td>2022/03/03 10:39:37+00</td>\n",
       "      <td>MAIN</td>\n",
       "      <td>Partially Closed</td>\n",
       "      <td>Open</td>\n",
       "      <td>12-16 hours</td>\n",
       "      <td>0-50</td>\n",
       "      <td>...</td>\n",
       "      <td>387</td>\n",
       "      <td>WESTMOUNT RD E</td>\n",
       "      <td>42650</td>\n",
       "      <td>NaN</td>\n",
       "      <td>NaN</td>\n",
       "      <td>300.0</td>\n",
       "      <td>1968.0</td>\n",
       "      <td>DI</td>\n",
       "      <td>Y</td>\n",
       "      <td>786b5507-c0a7-4463-8e81-a4a5be8ea46f</td>\n",
       "    </tr>\n",
       "    <tr>\n",
       "      <th>2230</th>\n",
       "      <td>-80.486899</td>\n",
       "      <td>43.434152</td>\n",
       "      <td>10215</td>\n",
       "      <td>1136</td>\n",
       "      <td>2007/06/19 00:00:00+00</td>\n",
       "      <td>MAIN</td>\n",
       "      <td>Open</td>\n",
       "      <td>Open</td>\n",
       "      <td>8-12 hours</td>\n",
       "      <td>NaN</td>\n",
       "      <td>...</td>\n",
       "      <td>9</td>\n",
       "      <td>KEHL ST</td>\n",
       "      <td>134906</td>\n",
       "      <td>NaN</td>\n",
       "      <td>NaN</td>\n",
       "      <td>200.0</td>\n",
       "      <td>2017.0</td>\n",
       "      <td>PVCO</td>\n",
       "      <td>N</td>\n",
       "      <td>a4f18ded-5357-465e-9026-05b7408a918a</td>\n",
       "    </tr>\n",
       "    <tr>\n",
       "      <th>922</th>\n",
       "      <td>-80.516719</td>\n",
       "      <td>43.405269</td>\n",
       "      <td>8907</td>\n",
       "      <td>1998</td>\n",
       "      <td>2014/07/11 00:00:00+00</td>\n",
       "      <td>MAIN</td>\n",
       "      <td>Open</td>\n",
       "      <td>Open</td>\n",
       "      <td>8-12 hours</td>\n",
       "      <td>NaN</td>\n",
       "      <td>...</td>\n",
       "      <td>3</td>\n",
       "      <td>BERRY MOSS ST</td>\n",
       "      <td>62930</td>\n",
       "      <td>NaN</td>\n",
       "      <td>NaN</td>\n",
       "      <td>150.0</td>\n",
       "      <td>1999.0</td>\n",
       "      <td>PVC</td>\n",
       "      <td>Y</td>\n",
       "      <td>d9b8bfeb-6350-4bbb-ac6e-cd07942303ea</td>\n",
       "    </tr>\n",
       "    <tr>\n",
       "      <th>439</th>\n",
       "      <td>-80.460568</td>\n",
       "      <td>43.461327</td>\n",
       "      <td>8424</td>\n",
       "      <td>546</td>\n",
       "      <td>2004/02/25 00:00:00+00</td>\n",
       "      <td>MAIN</td>\n",
       "      <td>Open</td>\n",
       "      <td>Open</td>\n",
       "      <td>8-12 hours</td>\n",
       "      <td>NaN</td>\n",
       "      <td>...</td>\n",
       "      <td>203</td>\n",
       "      <td>ROSEMOUNT DR</td>\n",
       "      <td>33440</td>\n",
       "      <td>NaN</td>\n",
       "      <td>NaN</td>\n",
       "      <td>150.0</td>\n",
       "      <td>1959.0</td>\n",
       "      <td>CI</td>\n",
       "      <td>Y</td>\n",
       "      <td>4951c889-7bd1-46b1-b4c9-e6fb3e5ab5f7</td>\n",
       "    </tr>\n",
       "    <tr>\n",
       "      <th>321</th>\n",
       "      <td>-80.433821</td>\n",
       "      <td>43.434587</td>\n",
       "      <td>8306</td>\n",
       "      <td>643</td>\n",
       "      <td>1999/12/31 00:00:00+00</td>\n",
       "      <td>MAIN</td>\n",
       "      <td>Open</td>\n",
       "      <td>Open</td>\n",
       "      <td>8-12 hours</td>\n",
       "      <td>NaN</td>\n",
       "      <td>...</td>\n",
       "      <td>116</td>\n",
       "      <td>RUTHERFORD DR</td>\n",
       "      <td>33810</td>\n",
       "      <td>NaN</td>\n",
       "      <td>NaN</td>\n",
       "      <td>150.0</td>\n",
       "      <td>1964.0</td>\n",
       "      <td>CI</td>\n",
       "      <td>Y</td>\n",
       "      <td>397a9a68-ad08-4ede-accc-a9326711e9f4</td>\n",
       "    </tr>\n",
       "    <tr>\n",
       "      <th>817</th>\n",
       "      <td>-80.479139</td>\n",
       "      <td>43.432708</td>\n",
       "      <td>8802</td>\n",
       "      <td>128</td>\n",
       "      <td>1998/12/23 00:00:00+00</td>\n",
       "      <td>MAIN</td>\n",
       "      <td>Open</td>\n",
       "      <td>Open</td>\n",
       "      <td>8-12 hours</td>\n",
       "      <td>NaN</td>\n",
       "      <td>...</td>\n",
       "      <td>395</td>\n",
       "      <td>OTTAWA ST S</td>\n",
       "      <td>29680</td>\n",
       "      <td>NaN</td>\n",
       "      <td>NaN</td>\n",
       "      <td>NaN</td>\n",
       "      <td>NaN</td>\n",
       "      <td>NaN</td>\n",
       "      <td>N</td>\n",
       "      <td>4314f748-ee67-4cc1-bc86-b372b21a189d</td>\n",
       "    </tr>\n",
       "    <tr>\n",
       "      <th>1394</th>\n",
       "      <td>-80.459231</td>\n",
       "      <td>43.457360</td>\n",
       "      <td>9379</td>\n",
       "      <td>1287</td>\n",
       "      <td>2001/12/30 00:00:00+00</td>\n",
       "      <td>MAIN</td>\n",
       "      <td>Open</td>\n",
       "      <td>Open</td>\n",
       "      <td>8-12 hours</td>\n",
       "      <td>NaN</td>\n",
       "      <td>...</td>\n",
       "      <td>21</td>\n",
       "      <td>KENSINGTON AVE</td>\n",
       "      <td>21140</td>\n",
       "      <td>NaN</td>\n",
       "      <td>NaN</td>\n",
       "      <td>150.0</td>\n",
       "      <td>1954.0</td>\n",
       "      <td>CI</td>\n",
       "      <td>Y</td>\n",
       "      <td>b804d9b5-4c49-4e43-b2ab-637231dc2135</td>\n",
       "    </tr>\n",
       "    <tr>\n",
       "      <th>2352</th>\n",
       "      <td>-80.513657</td>\n",
       "      <td>43.423335</td>\n",
       "      <td>10337</td>\n",
       "      <td>2309</td>\n",
       "      <td>2017/12/16 00:00:00+00</td>\n",
       "      <td>MAIN</td>\n",
       "      <td>Open</td>\n",
       "      <td>Open</td>\n",
       "      <td>8-12 hours</td>\n",
       "      <td>NaN</td>\n",
       "      <td>...</td>\n",
       "      <td>29</td>\n",
       "      <td>UPLANDS DR</td>\n",
       "      <td>38860</td>\n",
       "      <td>NaN</td>\n",
       "      <td>NaN</td>\n",
       "      <td>150.0</td>\n",
       "      <td>1974.0</td>\n",
       "      <td>CI</td>\n",
       "      <td>Y</td>\n",
       "      <td>49adc186-1e45-4d1b-bf2c-c482cdcdf3c2</td>\n",
       "    </tr>\n",
       "    <tr>\n",
       "      <th>2181</th>\n",
       "      <td>-80.466996</td>\n",
       "      <td>43.450178</td>\n",
       "      <td>10166</td>\n",
       "      <td>225</td>\n",
       "      <td>2001/01/27 00:00:00+00</td>\n",
       "      <td>MAIN</td>\n",
       "      <td>Open</td>\n",
       "      <td>Open</td>\n",
       "      <td>8-12 hours</td>\n",
       "      <td>NaN</td>\n",
       "      <td>...</td>\n",
       "      <td>317</td>\n",
       "      <td>MELROSE AVE</td>\n",
       "      <td>76692</td>\n",
       "      <td>NaN</td>\n",
       "      <td>NaN</td>\n",
       "      <td>150.0</td>\n",
       "      <td>2010.0</td>\n",
       "      <td>PVC</td>\n",
       "      <td>N</td>\n",
       "      <td>af090f31-0a39-4ff1-b3b3-f025eeccf518</td>\n",
       "    </tr>\n",
       "    <tr>\n",
       "      <th>2259</th>\n",
       "      <td>-80.459771</td>\n",
       "      <td>43.438550</td>\n",
       "      <td>10244</td>\n",
       "      <td>2416</td>\n",
       "      <td>2018/01/01 00:00:00+00</td>\n",
       "      <td>MAIN</td>\n",
       "      <td>Open</td>\n",
       "      <td>Open</td>\n",
       "      <td>8-12 hours</td>\n",
       "      <td>NaN</td>\n",
       "      <td>...</td>\n",
       "      <td>801</td>\n",
       "      <td>WEBER ST E</td>\n",
       "      <td>41030</td>\n",
       "      <td>NaN</td>\n",
       "      <td>NaN</td>\n",
       "      <td>150.0</td>\n",
       "      <td>1952.0</td>\n",
       "      <td>CI</td>\n",
       "      <td>Y</td>\n",
       "      <td>198b1d9e-8e5e-4490-b0bc-185280db2b5c</td>\n",
       "    </tr>\n",
       "  </tbody>\n",
       "</table>\n",
       "<p>10 rows × 52 columns</p>\n",
       "</div>"
      ],
      "text/plain": [
       "              X          Y  OBJECTID  WATBREAKINCIDENTID  \\\n",
       "2697 -80.502843  43.423353     52801              145554   \n",
       "2230 -80.486899  43.434152     10215                1136   \n",
       "922  -80.516719  43.405269      8907                1998   \n",
       "439  -80.460568  43.461327      8424                 546   \n",
       "321  -80.433821  43.434587      8306                 643   \n",
       "817  -80.479139  43.432708      8802                 128   \n",
       "1394 -80.459231  43.457360      9379                1287   \n",
       "2352 -80.513657  43.423335     10337                2309   \n",
       "2181 -80.466996  43.450178     10166                 225   \n",
       "2259 -80.459771  43.438550     10244                2416   \n",
       "\n",
       "               INCIDENT_DATE BREAK_TYPE       ROAD_CLOSED SIDEWALK_CLOSED  \\\n",
       "2697  2022/03/03 10:39:37+00       MAIN  Partially Closed            Open   \n",
       "2230  2007/06/19 00:00:00+00       MAIN              Open            Open   \n",
       "922   2014/07/11 00:00:00+00       MAIN              Open            Open   \n",
       "439   2004/02/25 00:00:00+00       MAIN              Open            Open   \n",
       "321   1999/12/31 00:00:00+00       MAIN              Open            Open   \n",
       "817   1998/12/23 00:00:00+00       MAIN              Open            Open   \n",
       "1394  2001/12/30 00:00:00+00       MAIN              Open            Open   \n",
       "2352  2017/12/16 00:00:00+00       MAIN              Open            Open   \n",
       "2181  2001/01/27 00:00:00+00       MAIN              Open            Open   \n",
       "2259  2018/01/01 00:00:00+00       MAIN              Open            Open   \n",
       "\n",
       "     HOUR_IMPACTED UNITS_IMPACTED  ...  CIVIC_NUMBER          STREET ASSETID  \\\n",
       "2697   12-16 hours           0-50  ...           387  WESTMOUNT RD E   42650   \n",
       "2230    8-12 hours            NaN  ...             9         KEHL ST  134906   \n",
       "922     8-12 hours            NaN  ...             3   BERRY MOSS ST   62930   \n",
       "439     8-12 hours            NaN  ...           203    ROSEMOUNT DR   33440   \n",
       "321     8-12 hours            NaN  ...           116   RUTHERFORD DR   33810   \n",
       "817     8-12 hours            NaN  ...           395     OTTAWA ST S   29680   \n",
       "1394    8-12 hours            NaN  ...            21  KENSINGTON AVE   21140   \n",
       "2352    8-12 hours            NaN  ...            29      UPLANDS DR   38860   \n",
       "2181    8-12 hours            NaN  ...           317     MELROSE AVE   76692   \n",
       "2259    8-12 hours            NaN  ...           801      WEBER ST E   41030   \n",
       "\n",
       "      ASSET_DEPTH FROST_DEPTH ASSET_SIZE ASSET_YEAR_INSTALLED ASSET_MATERIAL  \\\n",
       "2697          NaN         NaN      300.0               1968.0             DI   \n",
       "2230          NaN         NaN      200.0               2017.0           PVCO   \n",
       "922           NaN         NaN      150.0               1999.0            PVC   \n",
       "439           NaN         NaN      150.0               1959.0             CI   \n",
       "321           NaN         NaN      150.0               1964.0             CI   \n",
       "817           NaN         NaN        NaN                  NaN            NaN   \n",
       "1394          NaN         NaN      150.0               1954.0             CI   \n",
       "2352          NaN         NaN      150.0               1974.0             CI   \n",
       "2181          NaN         NaN      150.0               2010.0            PVC   \n",
       "2259          NaN         NaN      150.0               1952.0             CI   \n",
       "\n",
       "      ASSET_EXISTS                              GLOBALID  \n",
       "2697             Y  786b5507-c0a7-4463-8e81-a4a5be8ea46f  \n",
       "2230             N  a4f18ded-5357-465e-9026-05b7408a918a  \n",
       "922              Y  d9b8bfeb-6350-4bbb-ac6e-cd07942303ea  \n",
       "439              Y  4951c889-7bd1-46b1-b4c9-e6fb3e5ab5f7  \n",
       "321              Y  397a9a68-ad08-4ede-accc-a9326711e9f4  \n",
       "817              N  4314f748-ee67-4cc1-bc86-b372b21a189d  \n",
       "1394             Y  b804d9b5-4c49-4e43-b2ab-637231dc2135  \n",
       "2352             Y  49adc186-1e45-4d1b-bf2c-c482cdcdf3c2  \n",
       "2181             N  af090f31-0a39-4ff1-b3b3-f025eeccf518  \n",
       "2259             Y  198b1d9e-8e5e-4490-b0bc-185280db2b5c  \n",
       "\n",
       "[10 rows x 52 columns]"
      ]
     },
     "execution_count": 164,
     "metadata": {},
     "output_type": "execute_result"
    }
   ],
   "source": [
    "# Import our most recent data and check out a sample\n",
    "data = \"../data/raw/Nov_10_22_Water_Main_Breaks.csv\"\n",
    "\n",
    "break_data = pd.read_csv(data)\n",
    "break_data.sample(10)"
   ]
  },
  {
   "cell_type": "code",
   "execution_count": 165,
   "id": "08d0a12d",
   "metadata": {},
   "outputs": [
    {
     "data": {
      "text/plain": [
       "(2750, 52)"
      ]
     },
     "execution_count": 165,
     "metadata": {},
     "output_type": "execute_result"
    }
   ],
   "source": [
    "break_data.shape"
   ]
  },
  {
   "cell_type": "markdown",
   "id": "980a211d",
   "metadata": {},
   "source": [
    "It seems like we have lots of columns that don't give us any useful information. Let's have a look and determine which columns we'd like to keep."
   ]
  },
  {
   "cell_type": "code",
   "execution_count": 166,
   "id": "1e3bf217",
   "metadata": {},
   "outputs": [
    {
     "data": {
      "text/plain": [
       "Index(['X', 'Y', 'OBJECTID', 'WATBREAKINCIDENTID', 'INCIDENT_DATE',\n",
       "       'BREAK_TYPE', 'ROAD_CLOSED', 'SIDEWALK_CLOSED', 'HOUR_IMPACTED',\n",
       "       'UNITS_IMPACTED', 'CW_SERVICE_REQUEST', 'STATUS', 'STATUS_DATE',\n",
       "       'WORKORDER', 'RETURN_TO_NORMAL', 'BREAK_NATURE', 'BREAK_APPARENT_CAUSE',\n",
       "       'REPAIR_TYPE', 'NEW_SECTION_LENGTH', 'MAINTENANCE_DESC',\n",
       "       'VALVES_CLOSED', 'VALVES_OPENED', 'HYDRANTS_CALLED_OUT',\n",
       "       'HYDRANTS_CALLED_BACK_IN', 'POSITIVE_PRESSURE_MAINTANED',\n",
       "       'AIR_GAP_MAINTANED', 'DISINFECTED', 'MECHANICAL_REMOVAL',\n",
       "       'FLUSHING_EXCAVATION', 'HIGHER_VELOCITY_FLUSHING', 'ANODE_INSTALLED',\n",
       "       'BREAK_CATEGORIZATION', 'BACTERIA_TESTING_DATE',\n",
       "       'HEALTH_DEPT_NOTIFICATION', 'MOECC_SAC_NOTIFICATION',\n",
       "       'SAC_REFERENCE_NO', 'LOCAL_MOE_OFFICE', 'BWA_DWA', 'BWA_DWA_DECLARED',\n",
       "       'PROCEEDURES_FOLLOWED', 'RECORD_CHANGE_REQD', 'ROADSEGMENTID',\n",
       "       'CIVIC_NUMBER', 'STREET', 'ASSETID', 'ASSET_DEPTH', 'FROST_DEPTH',\n",
       "       'ASSET_SIZE', 'ASSET_YEAR_INSTALLED', 'ASSET_MATERIAL', 'ASSET_EXISTS',\n",
       "       'GLOBALID'],\n",
       "      dtype='object')"
      ]
     },
     "execution_count": 166,
     "metadata": {},
     "output_type": "execute_result"
    }
   ],
   "source": [
    "break_data.columns"
   ]
  },
  {
   "cell_type": "markdown",
   "id": "c3311146",
   "metadata": {},
   "source": [
    "### Column description breakdown:\n",
    "\n",
    "- Wat Break Incident ID\n",
    "- Incident date\n",
    "- Type of Asset Broken\n",
    "- Does the road need to be closed?\n",
    "- Does the sidewalk need to be closed?\n",
    "- Estimated Hours for Repair\n",
    "- Estimated Number of Units Impacted\n",
    "- CW Service Request Number\n",
    "- Current status of the break\n",
    "- Status last updated date\n",
    "- CW Workorder #\n",
    "- Date operations was returned to normal service\n",
    "- Nature of Break\n",
    "- Apparent cause of break\n",
    "- Repair Type\n",
    "- New Section Length (m)\n",
    "- Type of Planned Maintenance\n",
    "- List Valves Closed\n",
    "- List Hydrants Called Out\n",
    "- List Hydrants Called Back In\n",
    "- Positive Pressure Maintained?\n",
    "- Air Gap Maintained thr Repair Process?\n",
    "- Pipe and Press Parts Disinfected?\n",
    "- Mechanical removal of contaminants?\n",
    "- Flushing into the excavation?\n",
    "- Higher velocity flushing after repairs?\n",
    "- Anode Installed?\n",
    "- Categorization of the Break\n",
    "- Bacteria Testing Date Taken\n",
    "- Health Dept Notification\n",
    "- MOECC/SAC Notification\n",
    "- Local MOE Office Notification\n",
    "- BWA/DWA declared\n",
    "- IF BWA / DWA are issued, Date/Time declared\n",
    "- Where proceedures Followed?\n",
    "- Was a record change required?\n",
    "- Road Segment ID\n",
    "- Closest Civic Number\n",
    "- Street\n",
    "- Related Asset ID\n",
    "- Related Asset Depth (m)\n",
    "- Depth of Frost (m)\n",
    "- Asset Size (cm)\n",
    "- Year Asset Installed\n",
    "- Asset Material\n",
    "- Asset Exists"
   ]
  },
  {
   "cell_type": "markdown",
   "id": "4a422c04",
   "metadata": {},
   "source": [
    "We should check for null values in the features to see if it's worth imputing them or to just get rid of them altogether."
   ]
  },
  {
   "cell_type": "code",
   "execution_count": 167,
   "id": "cf5d80a3",
   "metadata": {},
   "outputs": [],
   "source": [
    "def print_null_values(df, column=None):\n",
    "    if column is None:\n",
    "        # print null values for all columns\n",
    "        for col in df.columns:\n",
    "            null_values = df[col].isnull().sum()\n",
    "            print(f\"{col} - \", null_values)\n",
    "    else:\n",
    "        # print null values for a single column\n",
    "        null_values = df[column].isnull().sum()\n",
    "        print(f\"{col} - \", null_values)"
   ]
  },
  {
   "cell_type": "code",
   "execution_count": 168,
   "id": "e9c34d67",
   "metadata": {},
   "outputs": [
    {
     "name": "stdout",
     "output_type": "stream",
     "text": [
      "X -  0\n",
      "Y -  0\n",
      "OBJECTID -  0\n",
      "WATBREAKINCIDENTID -  0\n",
      "INCIDENT_DATE -  0\n",
      "BREAK_TYPE -  0\n",
      "ROAD_CLOSED -  0\n",
      "SIDEWALK_CLOSED -  0\n",
      "HOUR_IMPACTED -  0\n",
      "UNITS_IMPACTED -  2472\n",
      "CW_SERVICE_REQUEST -  2730\n",
      "STATUS -  0\n",
      "STATUS_DATE -  167\n",
      "WORKORDER -  1174\n",
      "RETURN_TO_NORMAL -  2660\n",
      "BREAK_NATURE -  117\n",
      "BREAK_APPARENT_CAUSE -  168\n",
      "REPAIR_TYPE -  2601\n",
      "NEW_SECTION_LENGTH -  2733\n",
      "MAINTENANCE_DESC -  2750\n",
      "VALVES_CLOSED -  2749\n",
      "VALVES_OPENED -  2750\n",
      "HYDRANTS_CALLED_OUT -  2748\n",
      "HYDRANTS_CALLED_BACK_IN -  2748\n",
      "POSITIVE_PRESSURE_MAINTANED -  0\n",
      "AIR_GAP_MAINTANED -  0\n",
      "DISINFECTED -  0\n",
      "MECHANICAL_REMOVAL -  0\n",
      "FLUSHING_EXCAVATION -  0\n",
      "HIGHER_VELOCITY_FLUSHING -  0\n",
      "ANODE_INSTALLED -  0\n",
      "BREAK_CATEGORIZATION -  133\n",
      "BACTERIA_TESTING_DATE -  2743\n",
      "HEALTH_DEPT_NOTIFICATION -  2750\n",
      "MOECC_SAC_NOTIFICATION -  2747\n",
      "SAC_REFERENCE_NO -  2750\n",
      "LOCAL_MOE_OFFICE -  2747\n",
      "BWA_DWA -  0\n",
      "BWA_DWA_DECLARED -  2748\n",
      "PROCEEDURES_FOLLOWED -  0\n",
      "RECORD_CHANGE_REQD -  0\n",
      "ROADSEGMENTID -  0\n",
      "CIVIC_NUMBER -  97\n",
      "STREET -  16\n",
      "ASSETID -  0\n",
      "ASSET_DEPTH -  2733\n",
      "FROST_DEPTH -  2684\n",
      "ASSET_SIZE -  161\n",
      "ASSET_YEAR_INSTALLED -  165\n",
      "ASSET_MATERIAL -  161\n",
      "ASSET_EXISTS -  0\n",
      "GLOBALID -  0\n"
     ]
    }
   ],
   "source": [
    "# break_data.isna().sum()\n",
    "print_null_values(break_data)"
   ]
  },
  {
   "cell_type": "code",
   "execution_count": 169,
   "id": "121eaebe",
   "metadata": {},
   "outputs": [],
   "source": [
    "break_data = break_data.rename(columns={'X': 'LONGITUDE', 'Y': 'LATITUDE'})"
   ]
  },
  {
   "cell_type": "code",
   "execution_count": 170,
   "id": "b5832fe4",
   "metadata": {},
   "outputs": [],
   "source": [
    "break_data['INCIDENT_DATE'] = pd.to_datetime(break_data['INCIDENT_DATE'])"
   ]
  },
  {
   "cell_type": "code",
   "execution_count": 171,
   "id": "cc041b65",
   "metadata": {},
   "outputs": [
    {
     "data": {
      "text/html": [
       "<div>\n",
       "<style scoped>\n",
       "    .dataframe tbody tr th:only-of-type {\n",
       "        vertical-align: middle;\n",
       "    }\n",
       "\n",
       "    .dataframe tbody tr th {\n",
       "        vertical-align: top;\n",
       "    }\n",
       "\n",
       "    .dataframe thead th {\n",
       "        text-align: right;\n",
       "    }\n",
       "</style>\n",
       "<table border=\"1\" class=\"dataframe\">\n",
       "  <thead>\n",
       "    <tr style=\"text-align: right;\">\n",
       "      <th></th>\n",
       "      <th>LONGITUDE</th>\n",
       "      <th>LATITUDE</th>\n",
       "      <th>OBJECTID</th>\n",
       "      <th>WATBREAKINCIDENTID</th>\n",
       "      <th>INCIDENT_DATE</th>\n",
       "      <th>BREAK_TYPE</th>\n",
       "      <th>ROAD_CLOSED</th>\n",
       "      <th>SIDEWALK_CLOSED</th>\n",
       "      <th>HOUR_IMPACTED</th>\n",
       "      <th>UNITS_IMPACTED</th>\n",
       "      <th>...</th>\n",
       "      <th>CIVIC_NUMBER</th>\n",
       "      <th>STREET</th>\n",
       "      <th>ASSETID</th>\n",
       "      <th>ASSET_DEPTH</th>\n",
       "      <th>FROST_DEPTH</th>\n",
       "      <th>ASSET_SIZE</th>\n",
       "      <th>ASSET_YEAR_INSTALLED</th>\n",
       "      <th>ASSET_MATERIAL</th>\n",
       "      <th>ASSET_EXISTS</th>\n",
       "      <th>GLOBALID</th>\n",
       "    </tr>\n",
       "  </thead>\n",
       "  <tbody>\n",
       "    <tr>\n",
       "      <th>0</th>\n",
       "      <td>-80.484005</td>\n",
       "      <td>43.462939</td>\n",
       "      <td>1</td>\n",
       "      <td>2252</td>\n",
       "      <td>2017-12-01 15:15:00+00:00</td>\n",
       "      <td>MAIN</td>\n",
       "      <td>Partially Closed</td>\n",
       "      <td>Open</td>\n",
       "      <td>12-16 hours</td>\n",
       "      <td>47</td>\n",
       "      <td>...</td>\n",
       "      <td>125</td>\n",
       "      <td>LANCASTER ST W</td>\n",
       "      <td>134292</td>\n",
       "      <td>1.6</td>\n",
       "      <td>0.3</td>\n",
       "      <td>450.0</td>\n",
       "      <td>1937.0</td>\n",
       "      <td>CI</td>\n",
       "      <td>Y</td>\n",
       "      <td>3521d297-1a2e-4e7b-a071-fc53ed87e965</td>\n",
       "    </tr>\n",
       "    <tr>\n",
       "      <th>1</th>\n",
       "      <td>-80.515075</td>\n",
       "      <td>43.422742</td>\n",
       "      <td>7874</td>\n",
       "      <td>1311</td>\n",
       "      <td>2001-03-26 00:00:00+00:00</td>\n",
       "      <td>SERVICE</td>\n",
       "      <td>Open</td>\n",
       "      <td>Open</td>\n",
       "      <td>8-12 hours</td>\n",
       "      <td>NaN</td>\n",
       "      <td>...</td>\n",
       "      <td>76</td>\n",
       "      <td>CLOVERDALE CRES</td>\n",
       "      <td>4101323</td>\n",
       "      <td>NaN</td>\n",
       "      <td>NaN</td>\n",
       "      <td>13.0</td>\n",
       "      <td>1965.0</td>\n",
       "      <td>XXX</td>\n",
       "      <td>Y</td>\n",
       "      <td>72445d62-16a8-43c1-9733-56b06015b077</td>\n",
       "    </tr>\n",
       "    <tr>\n",
       "      <th>2</th>\n",
       "      <td>-80.439811</td>\n",
       "      <td>43.445067</td>\n",
       "      <td>7875</td>\n",
       "      <td>1325</td>\n",
       "      <td>2006-09-06 00:00:00+00:00</td>\n",
       "      <td>SERVICE</td>\n",
       "      <td>Open</td>\n",
       "      <td>Open</td>\n",
       "      <td>8-12 hours</td>\n",
       "      <td>NaN</td>\n",
       "      <td>...</td>\n",
       "      <td>47</td>\n",
       "      <td>WREN CRES</td>\n",
       "      <td>4099987</td>\n",
       "      <td>NaN</td>\n",
       "      <td>NaN</td>\n",
       "      <td>25.0</td>\n",
       "      <td>1967.0</td>\n",
       "      <td>XXX</td>\n",
       "      <td>Y</td>\n",
       "      <td>3bdc8931-31c0-4090-a07a-a6847781dd97</td>\n",
       "    </tr>\n",
       "    <tr>\n",
       "      <th>3</th>\n",
       "      <td>-80.510859</td>\n",
       "      <td>43.426478</td>\n",
       "      <td>7876</td>\n",
       "      <td>1328</td>\n",
       "      <td>2006-09-11 00:00:00+00:00</td>\n",
       "      <td>SERVICE</td>\n",
       "      <td>Open</td>\n",
       "      <td>Open</td>\n",
       "      <td>8-12 hours</td>\n",
       "      <td>NaN</td>\n",
       "      <td>...</td>\n",
       "      <td>382</td>\n",
       "      <td>GREENBROOK DR</td>\n",
       "      <td>4642530</td>\n",
       "      <td>NaN</td>\n",
       "      <td>NaN</td>\n",
       "      <td>25.0</td>\n",
       "      <td>1964.0</td>\n",
       "      <td>PVC</td>\n",
       "      <td>Y</td>\n",
       "      <td>f75ad0b1-5b2a-4125-8ad5-2b9a037debd7</td>\n",
       "    </tr>\n",
       "    <tr>\n",
       "      <th>4</th>\n",
       "      <td>-80.457520</td>\n",
       "      <td>43.443201</td>\n",
       "      <td>7877</td>\n",
       "      <td>1308</td>\n",
       "      <td>2000-01-27 00:00:00+00:00</td>\n",
       "      <td>SERVICE</td>\n",
       "      <td>Open</td>\n",
       "      <td>Open</td>\n",
       "      <td>8-12 hours</td>\n",
       "      <td>NaN</td>\n",
       "      <td>...</td>\n",
       "      <td>224</td>\n",
       "      <td>MONTGOMERY RD</td>\n",
       "      <td>4100648</td>\n",
       "      <td>NaN</td>\n",
       "      <td>NaN</td>\n",
       "      <td>25.0</td>\n",
       "      <td>1967.0</td>\n",
       "      <td>XXX</td>\n",
       "      <td>Y</td>\n",
       "      <td>5a3c5d03-0899-4899-95e7-278bc5cbb682</td>\n",
       "    </tr>\n",
       "  </tbody>\n",
       "</table>\n",
       "<p>5 rows × 52 columns</p>\n",
       "</div>"
      ],
      "text/plain": [
       "   LONGITUDE   LATITUDE  OBJECTID  WATBREAKINCIDENTID  \\\n",
       "0 -80.484005  43.462939         1                2252   \n",
       "1 -80.515075  43.422742      7874                1311   \n",
       "2 -80.439811  43.445067      7875                1325   \n",
       "3 -80.510859  43.426478      7876                1328   \n",
       "4 -80.457520  43.443201      7877                1308   \n",
       "\n",
       "              INCIDENT_DATE BREAK_TYPE       ROAD_CLOSED SIDEWALK_CLOSED  \\\n",
       "0 2017-12-01 15:15:00+00:00       MAIN  Partially Closed            Open   \n",
       "1 2001-03-26 00:00:00+00:00    SERVICE              Open            Open   \n",
       "2 2006-09-06 00:00:00+00:00    SERVICE              Open            Open   \n",
       "3 2006-09-11 00:00:00+00:00    SERVICE              Open            Open   \n",
       "4 2000-01-27 00:00:00+00:00    SERVICE              Open            Open   \n",
       "\n",
       "  HOUR_IMPACTED UNITS_IMPACTED  ...  CIVIC_NUMBER           STREET  ASSETID  \\\n",
       "0   12-16 hours             47  ...           125   LANCASTER ST W   134292   \n",
       "1    8-12 hours            NaN  ...            76  CLOVERDALE CRES  4101323   \n",
       "2    8-12 hours            NaN  ...            47        WREN CRES  4099987   \n",
       "3    8-12 hours            NaN  ...           382    GREENBROOK DR  4642530   \n",
       "4    8-12 hours            NaN  ...           224    MONTGOMERY RD  4100648   \n",
       "\n",
       "   ASSET_DEPTH FROST_DEPTH ASSET_SIZE ASSET_YEAR_INSTALLED ASSET_MATERIAL  \\\n",
       "0          1.6         0.3      450.0               1937.0             CI   \n",
       "1          NaN         NaN       13.0               1965.0            XXX   \n",
       "2          NaN         NaN       25.0               1967.0            XXX   \n",
       "3          NaN         NaN       25.0               1964.0            PVC   \n",
       "4          NaN         NaN       25.0               1967.0            XXX   \n",
       "\n",
       "   ASSET_EXISTS                              GLOBALID  \n",
       "0             Y  3521d297-1a2e-4e7b-a071-fc53ed87e965  \n",
       "1             Y  72445d62-16a8-43c1-9733-56b06015b077  \n",
       "2             Y  3bdc8931-31c0-4090-a07a-a6847781dd97  \n",
       "3             Y  f75ad0b1-5b2a-4125-8ad5-2b9a037debd7  \n",
       "4             Y  5a3c5d03-0899-4899-95e7-278bc5cbb682  \n",
       "\n",
       "[5 rows x 52 columns]"
      ]
     },
     "execution_count": 171,
     "metadata": {},
     "output_type": "execute_result"
    }
   ],
   "source": [
    "break_data.head()"
   ]
  },
  {
   "cell_type": "markdown",
   "id": "119ce624",
   "metadata": {},
   "source": [
    "After seeing how many null values some columns have and the type of information they display, it's safe to say that a lot can be dropped. Instead of going through and dropping all of them I'll write out what columns we'll want to keep."
   ]
  },
  {
   "cell_type": "code",
   "execution_count": 172,
   "id": "48a430a6",
   "metadata": {},
   "outputs": [],
   "source": [
    "break_data = break_data[['LONGITUDE', 'LATITUDE', 'OBJECTID', 'WATBREAKINCIDENTID', 'INCIDENT_DATE',\n",
    "                         'BREAK_TYPE', 'HOUR_IMPACTED', 'STATUS', 'BREAK_NATURE',\n",
    "                         'BREAK_APPARENT_CAUSE', 'POSITIVE_PRESSURE_MAINTANED', 'AIR_GAP_MAINTANED',\n",
    "                         'MECHANICAL_REMOVAL', 'FLUSHING_EXCAVATION', 'HIGHER_VELOCITY_FLUSHING', 'ANODE_INSTALLED',\n",
    "                         'BREAK_CATEGORIZATION', 'ROADSEGMENTID', 'STREET', 'ASSETID', 'ASSET_SIZE', 'ASSET_YEAR_INSTALLED',\n",
    "                         'ASSET_MATERIAL', 'ASSET_EXISTS', 'GLOBALID']]"
   ]
  },
  {
   "cell_type": "code",
   "execution_count": 173,
   "id": "02e5a10e",
   "metadata": {},
   "outputs": [
    {
     "name": "stdout",
     "output_type": "stream",
     "text": [
      "(2750, 25)\n"
     ]
    },
    {
     "data": {
      "text/html": [
       "<div>\n",
       "<style scoped>\n",
       "    .dataframe tbody tr th:only-of-type {\n",
       "        vertical-align: middle;\n",
       "    }\n",
       "\n",
       "    .dataframe tbody tr th {\n",
       "        vertical-align: top;\n",
       "    }\n",
       "\n",
       "    .dataframe thead th {\n",
       "        text-align: right;\n",
       "    }\n",
       "</style>\n",
       "<table border=\"1\" class=\"dataframe\">\n",
       "  <thead>\n",
       "    <tr style=\"text-align: right;\">\n",
       "      <th></th>\n",
       "      <th>LONGITUDE</th>\n",
       "      <th>LATITUDE</th>\n",
       "      <th>OBJECTID</th>\n",
       "      <th>WATBREAKINCIDENTID</th>\n",
       "      <th>INCIDENT_DATE</th>\n",
       "      <th>BREAK_TYPE</th>\n",
       "      <th>HOUR_IMPACTED</th>\n",
       "      <th>STATUS</th>\n",
       "      <th>BREAK_NATURE</th>\n",
       "      <th>BREAK_APPARENT_CAUSE</th>\n",
       "      <th>...</th>\n",
       "      <th>ANODE_INSTALLED</th>\n",
       "      <th>BREAK_CATEGORIZATION</th>\n",
       "      <th>ROADSEGMENTID</th>\n",
       "      <th>STREET</th>\n",
       "      <th>ASSETID</th>\n",
       "      <th>ASSET_SIZE</th>\n",
       "      <th>ASSET_YEAR_INSTALLED</th>\n",
       "      <th>ASSET_MATERIAL</th>\n",
       "      <th>ASSET_EXISTS</th>\n",
       "      <th>GLOBALID</th>\n",
       "    </tr>\n",
       "  </thead>\n",
       "  <tbody>\n",
       "    <tr>\n",
       "      <th>770</th>\n",
       "      <td>-80.447364</td>\n",
       "      <td>43.425269</td>\n",
       "      <td>8755</td>\n",
       "      <td>2298</td>\n",
       "      <td>2017-12-01 00:00:00+00:00</td>\n",
       "      <td>MAIN</td>\n",
       "      <td>8-12 hours</td>\n",
       "      <td>REPAIR COMPLETED</td>\n",
       "      <td>UNKNOWN</td>\n",
       "      <td>OTHER</td>\n",
       "      <td>...</td>\n",
       "      <td>Y</td>\n",
       "      <td>CATEGORY 1</td>\n",
       "      <td>104864</td>\n",
       "      <td>FAIRLAWN RD</td>\n",
       "      <td>13800</td>\n",
       "      <td>150.0</td>\n",
       "      <td>1964.0</td>\n",
       "      <td>CI</td>\n",
       "      <td>Y</td>\n",
       "      <td>4cf1edab-bf88-4bba-a3d9-786d9643efe4</td>\n",
       "    </tr>\n",
       "    <tr>\n",
       "      <th>804</th>\n",
       "      <td>-80.490018</td>\n",
       "      <td>43.477562</td>\n",
       "      <td>8789</td>\n",
       "      <td>1256</td>\n",
       "      <td>2008-12-01 00:00:00+00:00</td>\n",
       "      <td>MAIN</td>\n",
       "      <td>8-12 hours</td>\n",
       "      <td>REPAIR COMPLETED</td>\n",
       "      <td>UNKNOWN</td>\n",
       "      <td>OTHER</td>\n",
       "      <td>...</td>\n",
       "      <td>Y</td>\n",
       "      <td>CATEGORY 1</td>\n",
       "      <td>12586</td>\n",
       "      <td>LANG CRES</td>\n",
       "      <td>24390</td>\n",
       "      <td>150.0</td>\n",
       "      <td>1948.0</td>\n",
       "      <td>CI</td>\n",
       "      <td>N</td>\n",
       "      <td>1098da2d-de7d-49ed-a3a0-d7970f0151ad</td>\n",
       "    </tr>\n",
       "    <tr>\n",
       "      <th>845</th>\n",
       "      <td>-80.431917</td>\n",
       "      <td>43.432166</td>\n",
       "      <td>8830</td>\n",
       "      <td>934</td>\n",
       "      <td>2000-12-22 00:00:00+00:00</td>\n",
       "      <td>MAIN</td>\n",
       "      <td>8-12 hours</td>\n",
       "      <td>REPAIR COMPLETED</td>\n",
       "      <td>UNKNOWN</td>\n",
       "      <td>OTHER</td>\n",
       "      <td>...</td>\n",
       "      <td>Y</td>\n",
       "      <td>CATEGORY 1</td>\n",
       "      <td>23060</td>\n",
       "      <td>JANSEN AVE</td>\n",
       "      <td>20580</td>\n",
       "      <td>150.0</td>\n",
       "      <td>1970.0</td>\n",
       "      <td>CI</td>\n",
       "      <td>Y</td>\n",
       "      <td>c3dfb7d8-9678-4dae-a637-1d9d2039ae63</td>\n",
       "    </tr>\n",
       "    <tr>\n",
       "      <th>2354</th>\n",
       "      <td>-80.436134</td>\n",
       "      <td>43.433234</td>\n",
       "      <td>10339</td>\n",
       "      <td>2311</td>\n",
       "      <td>2017-12-22 00:00:00+00:00</td>\n",
       "      <td>MAIN</td>\n",
       "      <td>8-12 hours</td>\n",
       "      <td>REPAIR COMPLETED</td>\n",
       "      <td>UNKNOWN</td>\n",
       "      <td>OTHER</td>\n",
       "      <td>...</td>\n",
       "      <td>Y</td>\n",
       "      <td>CATEGORY 1</td>\n",
       "      <td>23056</td>\n",
       "      <td>KINZIE AVE</td>\n",
       "      <td>22500</td>\n",
       "      <td>150.0</td>\n",
       "      <td>1961.0</td>\n",
       "      <td>CI</td>\n",
       "      <td>Y</td>\n",
       "      <td>0bc06989-9eb7-4281-9a20-d5762eff457c</td>\n",
       "    </tr>\n",
       "    <tr>\n",
       "      <th>2079</th>\n",
       "      <td>-80.450134</td>\n",
       "      <td>43.424308</td>\n",
       "      <td>10064</td>\n",
       "      <td>1559</td>\n",
       "      <td>2010-12-27 00:00:00+00:00</td>\n",
       "      <td>MAIN</td>\n",
       "      <td>8-12 hours</td>\n",
       "      <td>REPAIR COMPLETED</td>\n",
       "      <td>CIRCUMFERENTIAL</td>\n",
       "      <td>COMBINATION</td>\n",
       "      <td>...</td>\n",
       "      <td>Y</td>\n",
       "      <td>CATEGORY 1</td>\n",
       "      <td>22946</td>\n",
       "      <td>BYRON AVE</td>\n",
       "      <td>92734</td>\n",
       "      <td>150.0</td>\n",
       "      <td>1954.0</td>\n",
       "      <td>CI</td>\n",
       "      <td>Y</td>\n",
       "      <td>2033ec20-8243-4db4-9821-fb5348cc0859</td>\n",
       "    </tr>\n",
       "  </tbody>\n",
       "</table>\n",
       "<p>5 rows × 25 columns</p>\n",
       "</div>"
      ],
      "text/plain": [
       "      LONGITUDE   LATITUDE  OBJECTID  WATBREAKINCIDENTID  \\\n",
       "770  -80.447364  43.425269      8755                2298   \n",
       "804  -80.490018  43.477562      8789                1256   \n",
       "845  -80.431917  43.432166      8830                 934   \n",
       "2354 -80.436134  43.433234     10339                2311   \n",
       "2079 -80.450134  43.424308     10064                1559   \n",
       "\n",
       "                 INCIDENT_DATE BREAK_TYPE HOUR_IMPACTED            STATUS  \\\n",
       "770  2017-12-01 00:00:00+00:00       MAIN    8-12 hours  REPAIR COMPLETED   \n",
       "804  2008-12-01 00:00:00+00:00       MAIN    8-12 hours  REPAIR COMPLETED   \n",
       "845  2000-12-22 00:00:00+00:00       MAIN    8-12 hours  REPAIR COMPLETED   \n",
       "2354 2017-12-22 00:00:00+00:00       MAIN    8-12 hours  REPAIR COMPLETED   \n",
       "2079 2010-12-27 00:00:00+00:00       MAIN    8-12 hours  REPAIR COMPLETED   \n",
       "\n",
       "         BREAK_NATURE BREAK_APPARENT_CAUSE  ... ANODE_INSTALLED  \\\n",
       "770           UNKNOWN                OTHER  ...               Y   \n",
       "804           UNKNOWN                OTHER  ...               Y   \n",
       "845           UNKNOWN                OTHER  ...               Y   \n",
       "2354          UNKNOWN                OTHER  ...               Y   \n",
       "2079  CIRCUMFERENTIAL          COMBINATION  ...               Y   \n",
       "\n",
       "     BREAK_CATEGORIZATION ROADSEGMENTID       STREET ASSETID ASSET_SIZE  \\\n",
       "770            CATEGORY 1        104864  FAIRLAWN RD   13800      150.0   \n",
       "804            CATEGORY 1         12586    LANG CRES   24390      150.0   \n",
       "845            CATEGORY 1         23060   JANSEN AVE   20580      150.0   \n",
       "2354           CATEGORY 1         23056   KINZIE AVE   22500      150.0   \n",
       "2079           CATEGORY 1         22946    BYRON AVE   92734      150.0   \n",
       "\n",
       "     ASSET_YEAR_INSTALLED  ASSET_MATERIAL ASSET_EXISTS  \\\n",
       "770                1964.0              CI            Y   \n",
       "804                1948.0              CI            N   \n",
       "845                1970.0              CI            Y   \n",
       "2354               1961.0              CI            Y   \n",
       "2079               1954.0              CI            Y   \n",
       "\n",
       "                                  GLOBALID  \n",
       "770   4cf1edab-bf88-4bba-a3d9-786d9643efe4  \n",
       "804   1098da2d-de7d-49ed-a3a0-d7970f0151ad  \n",
       "845   c3dfb7d8-9678-4dae-a637-1d9d2039ae63  \n",
       "2354  0bc06989-9eb7-4281-9a20-d5762eff457c  \n",
       "2079  2033ec20-8243-4db4-9821-fb5348cc0859  \n",
       "\n",
       "[5 rows x 25 columns]"
      ]
     },
     "execution_count": 173,
     "metadata": {},
     "output_type": "execute_result"
    }
   ],
   "source": [
    "print(break_data.shape)\n",
    "break_data.sample(5)"
   ]
  },
  {
   "cell_type": "markdown",
   "id": "5815d0c9",
   "metadata": {},
   "source": [
    "How many null values do we still need to take care of?"
   ]
  },
  {
   "cell_type": "code",
   "execution_count": 174,
   "id": "fc5737d6",
   "metadata": {},
   "outputs": [
    {
     "name": "stdout",
     "output_type": "stream",
     "text": [
      "LONGITUDE -  0\n",
      "LATITUDE -  0\n",
      "OBJECTID -  0\n",
      "WATBREAKINCIDENTID -  0\n",
      "INCIDENT_DATE -  0\n",
      "BREAK_TYPE -  0\n",
      "HOUR_IMPACTED -  0\n",
      "STATUS -  0\n",
      "BREAK_NATURE -  117\n",
      "BREAK_APPARENT_CAUSE -  168\n",
      "POSITIVE_PRESSURE_MAINTANED -  0\n",
      "AIR_GAP_MAINTANED -  0\n",
      "MECHANICAL_REMOVAL -  0\n",
      "FLUSHING_EXCAVATION -  0\n",
      "HIGHER_VELOCITY_FLUSHING -  0\n",
      "ANODE_INSTALLED -  0\n",
      "BREAK_CATEGORIZATION -  133\n",
      "ROADSEGMENTID -  0\n",
      "STREET -  16\n",
      "ASSETID -  0\n",
      "ASSET_SIZE -  161\n",
      "ASSET_YEAR_INSTALLED -  165\n",
      "ASSET_MATERIAL -  161\n",
      "ASSET_EXISTS -  0\n",
      "GLOBALID -  0\n"
     ]
    }
   ],
   "source": [
    "print_null_values(break_data)"
   ]
  },
  {
   "cell_type": "markdown",
   "id": "7d48d7ff",
   "metadata": {},
   "source": [
    "Let's investigate the types of values there are in the `BREAK_APPARENT_CAUSE` variable and `BREAK_NATURE` variable. There aren't a lot of missing values so I might be able to easily impute them."
   ]
  },
  {
   "cell_type": "code",
   "execution_count": 175,
   "id": "fa6d6311",
   "metadata": {},
   "outputs": [
    {
     "data": {
      "text/plain": [
       "array(['AGE', 'OTHER', 'COMBINATION', 'CORROSION', 'SOILS', 'UNKNOWN',\n",
       "       'PRESSURE', 'FAULTY INSTALL', nan], dtype=object)"
      ]
     },
     "execution_count": 175,
     "metadata": {},
     "output_type": "execute_result"
    }
   ],
   "source": [
    "break_data.BREAK_APPARENT_CAUSE.unique()"
   ]
  },
  {
   "cell_type": "code",
   "execution_count": 176,
   "id": "e5293c93",
   "metadata": {},
   "outputs": [
    {
     "data": {
      "text/plain": [
       "OTHER             2006\n",
       "AGE                232\n",
       "COMBINATION        146\n",
       "CORROSION          112\n",
       "UNKNOWN             34\n",
       "PRESSURE            22\n",
       "SOILS               21\n",
       "FAULTY INSTALL       9\n",
       "Name: BREAK_APPARENT_CAUSE, dtype: int64"
      ]
     },
     "execution_count": 176,
     "metadata": {},
     "output_type": "execute_result"
    }
   ],
   "source": [
    "break_data.BREAK_APPARENT_CAUSE.value_counts()"
   ]
  },
  {
   "cell_type": "markdown",
   "id": "9f8664e6",
   "metadata": {},
   "source": [
    "I'll fill the nan values with 'UNKNOWN'"
   ]
  },
  {
   "cell_type": "code",
   "execution_count": 177,
   "id": "4170b6ad",
   "metadata": {},
   "outputs": [],
   "source": [
    "break_data.BREAK_APPARENT_CAUSE.fillna('UNKNOWN', inplace=True)"
   ]
  },
  {
   "cell_type": "code",
   "execution_count": 178,
   "id": "b4d0d4d6",
   "metadata": {},
   "outputs": [
    {
     "data": {
      "text/plain": [
       "UNKNOWN                                      2005\n",
       "CIRCUMFERENTIAL                               370\n",
       "CORROSION                                      87\n",
       "FITTING/JOINT                                  55\n",
       "LONGITUDINAL                                   29\n",
       "CIRCUMFERENTIAL AND FITTING/JOINT              26\n",
       "CORROSION AND CIRCUMFERENTIAL                  18\n",
       "OTHER                                          14\n",
       "OTHER: WATER SERVICE                            9\n",
       "CORROSION AND LONGITUDINAL                      9\n",
       "CORROSION AND FITTING/JOINT                     6\n",
       "FITTING/JOINT AND LONGITUDINAL                  4\n",
       "CORROSION - ROBAR SADDLE CORRODED AT SEAM       1\n",
       "Name: BREAK_NATURE, dtype: int64"
      ]
     },
     "execution_count": 178,
     "metadata": {},
     "output_type": "execute_result"
    }
   ],
   "source": [
    "break_data.BREAK_NATURE.value_counts()"
   ]
  },
  {
   "cell_type": "code",
   "execution_count": 179,
   "id": "6fba1871",
   "metadata": {},
   "outputs": [],
   "source": [
    "break_data['BREAK_NATURE'] = break_data['BREAK_NATURE'].replace({'OTHER: WATER SERVICE': 'WATER SERVICE'})"
   ]
  },
  {
   "cell_type": "code",
   "execution_count": 180,
   "id": "a0fec75f",
   "metadata": {},
   "outputs": [
    {
     "data": {
      "text/plain": [
       "UNKNOWN                                      2005\n",
       "CIRCUMFERENTIAL                               370\n",
       "CORROSION                                      87\n",
       "FITTING/JOINT                                  55\n",
       "LONGITUDINAL                                   29\n",
       "CIRCUMFERENTIAL AND FITTING/JOINT              26\n",
       "CORROSION AND CIRCUMFERENTIAL                  18\n",
       "OTHER                                          14\n",
       "WATER SERVICE                                   9\n",
       "CORROSION AND LONGITUDINAL                      9\n",
       "CORROSION AND FITTING/JOINT                     6\n",
       "FITTING/JOINT AND LONGITUDINAL                  4\n",
       "CORROSION - ROBAR SADDLE CORRODED AT SEAM       1\n",
       "Name: BREAK_NATURE, dtype: int64"
      ]
     },
     "execution_count": 180,
     "metadata": {},
     "output_type": "execute_result"
    }
   ],
   "source": [
    "break_data.BREAK_NATURE.value_counts()"
   ]
  },
  {
   "cell_type": "code",
   "execution_count": 181,
   "id": "8b777cc1",
   "metadata": {},
   "outputs": [
    {
     "data": {
      "text/plain": [
       "array(['CORROSION AND FITTING/JOINT', 'UNKNOWN', 'CORROSION',\n",
       "       'CIRCUMFERENTIAL', 'CORROSION AND CIRCUMFERENTIAL',\n",
       "       'FITTING/JOINT', 'CIRCUMFERENTIAL AND FITTING/JOINT',\n",
       "       'LONGITUDINAL', 'WATER SERVICE', 'CORROSION AND LONGITUDINAL',\n",
       "       'FITTING/JOINT AND LONGITUDINAL', 'OTHER', nan,\n",
       "       'CORROSION - ROBAR SADDLE CORRODED AT SEAM'], dtype=object)"
      ]
     },
     "execution_count": 181,
     "metadata": {},
     "output_type": "execute_result"
    }
   ],
   "source": [
    "break_data.BREAK_NATURE.unique()"
   ]
  },
  {
   "cell_type": "code",
   "execution_count": 182,
   "id": "fa90add7",
   "metadata": {},
   "outputs": [],
   "source": [
    "break_data.BREAK_NATURE.fillna('UNKNOWN', inplace=True)"
   ]
  },
  {
   "cell_type": "code",
   "execution_count": 183,
   "id": "144344a7",
   "metadata": {},
   "outputs": [
    {
     "data": {
      "text/plain": [
       "UNKNOWN                                      2122\n",
       "CIRCUMFERENTIAL                               370\n",
       "CORROSION                                      87\n",
       "FITTING/JOINT                                  55\n",
       "LONGITUDINAL                                   29\n",
       "CIRCUMFERENTIAL AND FITTING/JOINT              26\n",
       "CORROSION AND CIRCUMFERENTIAL                  18\n",
       "OTHER                                          14\n",
       "WATER SERVICE                                   9\n",
       "CORROSION AND LONGITUDINAL                      9\n",
       "CORROSION AND FITTING/JOINT                     6\n",
       "FITTING/JOINT AND LONGITUDINAL                  4\n",
       "CORROSION - ROBAR SADDLE CORRODED AT SEAM       1\n",
       "Name: BREAK_NATURE, dtype: int64"
      ]
     },
     "execution_count": 183,
     "metadata": {},
     "output_type": "execute_result"
    }
   ],
   "source": [
    "break_data.BREAK_NATURE.value_counts()"
   ]
  },
  {
   "cell_type": "markdown",
   "id": "2fa19203",
   "metadata": {},
   "source": [
    "Most research papers that I've read so far really only include pipe attributes (length, width, diameter, etc.), last break incident, type of break, number of previous breaks, material of pipe, as well as other data not directly related to the pipe. This includes soil moisture, soil resistivity, soil corrosivity, average temperature, and other attributes like this.\n",
    "\n",
    "Disregarding the data about soil, there are still a decent number of features here that don't seem like they would contribute much information to the model."
   ]
  },
  {
   "cell_type": "code",
   "execution_count": 184,
   "id": "fd472d52",
   "metadata": {},
   "outputs": [
    {
     "name": "stdout",
     "output_type": "stream",
     "text": [
      "LONGITUDE -  0\n",
      "LATITUDE -  0\n",
      "OBJECTID -  0\n",
      "WATBREAKINCIDENTID -  0\n",
      "INCIDENT_DATE -  0\n",
      "BREAK_TYPE -  0\n",
      "HOUR_IMPACTED -  0\n",
      "STATUS -  0\n",
      "BREAK_NATURE -  0\n",
      "BREAK_APPARENT_CAUSE -  0\n",
      "POSITIVE_PRESSURE_MAINTANED -  0\n",
      "AIR_GAP_MAINTANED -  0\n",
      "MECHANICAL_REMOVAL -  0\n",
      "FLUSHING_EXCAVATION -  0\n",
      "HIGHER_VELOCITY_FLUSHING -  0\n",
      "ANODE_INSTALLED -  0\n",
      "BREAK_CATEGORIZATION -  133\n",
      "ROADSEGMENTID -  0\n",
      "STREET -  16\n",
      "ASSETID -  0\n",
      "ASSET_SIZE -  161\n",
      "ASSET_YEAR_INSTALLED -  165\n",
      "ASSET_MATERIAL -  161\n",
      "ASSET_EXISTS -  0\n",
      "GLOBALID -  0\n"
     ]
    }
   ],
   "source": [
    "print_null_values(break_data)"
   ]
  },
  {
   "cell_type": "code",
   "execution_count": 185,
   "id": "8a0820d4",
   "metadata": {},
   "outputs": [
    {
     "data": {
      "text/plain": [
       "CATEGORY 1    2603\n",
       "CATEGORY 2      14\n",
       "Name: BREAK_CATEGORIZATION, dtype: int64"
      ]
     },
     "execution_count": 185,
     "metadata": {},
     "output_type": "execute_result"
    }
   ],
   "source": [
    "break_data.BREAK_CATEGORIZATION.value_counts()"
   ]
  },
  {
   "cell_type": "code",
   "execution_count": 186,
   "id": "10183c72",
   "metadata": {},
   "outputs": [],
   "source": [
    "def fill_null_values(df, column, value):\n",
    "    # fill null values in the specified column with the specified value\n",
    "    df[column].fillna(value, inplace=True)"
   ]
  },
  {
   "cell_type": "code",
   "execution_count": 187,
   "id": "99cad740",
   "metadata": {},
   "outputs": [],
   "source": [
    "# break_data.BREAK_CATEGORIZATION.fillna('UNKNOWN', inplace=True)\n",
    "fill_null_values(break_data, 'BREAK_CATEGORIZATION', 'UNKNOWN')"
   ]
  },
  {
   "cell_type": "code",
   "execution_count": 188,
   "id": "f6160b64",
   "metadata": {},
   "outputs": [
    {
     "data": {
      "text/plain": [
       "CATEGORY 1    2603\n",
       "UNKNOWN        133\n",
       "CATEGORY 2      14\n",
       "Name: BREAK_CATEGORIZATION, dtype: int64"
      ]
     },
     "execution_count": 188,
     "metadata": {},
     "output_type": "execute_result"
    }
   ],
   "source": [
    "break_data.BREAK_CATEGORIZATION.value_counts()"
   ]
  },
  {
   "cell_type": "markdown",
   "id": "aab85ba8",
   "metadata": {},
   "source": [
    "We looked at 'BREAK_NATURE' earlier in this notebook, but I'm just noticing now that the feature has both 'UNKNOWN' and 'OTHER' as values. We need to convert these to one or the other so everything stays consistent. Let's first see all of the unique values again, and then fix this issue. Since there are a significant amount of the 'UNKNOWN' value we'll most likely convert 'OTHER' to that."
   ]
  },
  {
   "cell_type": "code",
   "execution_count": 189,
   "id": "860b42bc",
   "metadata": {},
   "outputs": [
    {
     "data": {
      "text/plain": [
       "array(['CORROSION AND FITTING/JOINT', 'UNKNOWN', 'CORROSION',\n",
       "       'CIRCUMFERENTIAL', 'CORROSION AND CIRCUMFERENTIAL',\n",
       "       'FITTING/JOINT', 'CIRCUMFERENTIAL AND FITTING/JOINT',\n",
       "       'LONGITUDINAL', 'WATER SERVICE', 'CORROSION AND LONGITUDINAL',\n",
       "       'FITTING/JOINT AND LONGITUDINAL', 'OTHER',\n",
       "       'CORROSION - ROBAR SADDLE CORRODED AT SEAM'], dtype=object)"
      ]
     },
     "execution_count": 189,
     "metadata": {},
     "output_type": "execute_result"
    }
   ],
   "source": [
    "break_data.BREAK_NATURE.unique()"
   ]
  },
  {
   "cell_type": "code",
   "execution_count": 190,
   "id": "49d66887",
   "metadata": {},
   "outputs": [],
   "source": [
    "break_data['BREAK_NATURE'] = break_data['BREAK_NATURE'].replace({'OTHER': 'UNKNOWN'})"
   ]
  },
  {
   "cell_type": "code",
   "execution_count": 191,
   "id": "111e7cd7",
   "metadata": {},
   "outputs": [
    {
     "data": {
      "text/plain": [
       "array(['CORROSION AND FITTING/JOINT', 'UNKNOWN', 'CORROSION',\n",
       "       'CIRCUMFERENTIAL', 'CORROSION AND CIRCUMFERENTIAL',\n",
       "       'FITTING/JOINT', 'CIRCUMFERENTIAL AND FITTING/JOINT',\n",
       "       'LONGITUDINAL', 'WATER SERVICE', 'CORROSION AND LONGITUDINAL',\n",
       "       'FITTING/JOINT AND LONGITUDINAL',\n",
       "       'CORROSION - ROBAR SADDLE CORRODED AT SEAM'], dtype=object)"
      ]
     },
     "execution_count": 191,
     "metadata": {},
     "output_type": "execute_result"
    }
   ],
   "source": [
    "break_data.BREAK_NATURE.unique()"
   ]
  },
  {
   "cell_type": "code",
   "execution_count": 192,
   "id": "106ab3e1",
   "metadata": {},
   "outputs": [
    {
     "data": {
      "text/plain": [
       "UNKNOWN                                      2136\n",
       "CIRCUMFERENTIAL                               370\n",
       "CORROSION                                      87\n",
       "FITTING/JOINT                                  55\n",
       "LONGITUDINAL                                   29\n",
       "CIRCUMFERENTIAL AND FITTING/JOINT              26\n",
       "CORROSION AND CIRCUMFERENTIAL                  18\n",
       "WATER SERVICE                                   9\n",
       "CORROSION AND LONGITUDINAL                      9\n",
       "CORROSION AND FITTING/JOINT                     6\n",
       "FITTING/JOINT AND LONGITUDINAL                  4\n",
       "CORROSION - ROBAR SADDLE CORRODED AT SEAM       1\n",
       "Name: BREAK_NATURE, dtype: int64"
      ]
     },
     "execution_count": 192,
     "metadata": {},
     "output_type": "execute_result"
    }
   ],
   "source": [
    "break_data.BREAK_NATURE.value_counts()"
   ]
  },
  {
   "cell_type": "code",
   "execution_count": 193,
   "id": "36927b63",
   "metadata": {},
   "outputs": [
    {
     "name": "stdout",
     "output_type": "stream",
     "text": [
      "LONGITUDE -  0\n",
      "LATITUDE -  0\n",
      "OBJECTID -  0\n",
      "WATBREAKINCIDENTID -  0\n",
      "INCIDENT_DATE -  0\n",
      "BREAK_TYPE -  0\n",
      "HOUR_IMPACTED -  0\n",
      "STATUS -  0\n",
      "BREAK_NATURE -  0\n",
      "BREAK_APPARENT_CAUSE -  0\n",
      "POSITIVE_PRESSURE_MAINTANED -  0\n",
      "AIR_GAP_MAINTANED -  0\n",
      "MECHANICAL_REMOVAL -  0\n",
      "FLUSHING_EXCAVATION -  0\n",
      "HIGHER_VELOCITY_FLUSHING -  0\n",
      "ANODE_INSTALLED -  0\n",
      "BREAK_CATEGORIZATION -  0\n",
      "ROADSEGMENTID -  0\n",
      "STREET -  16\n",
      "ASSETID -  0\n",
      "ASSET_SIZE -  161\n",
      "ASSET_YEAR_INSTALLED -  165\n",
      "ASSET_MATERIAL -  161\n",
      "ASSET_EXISTS -  0\n",
      "GLOBALID -  0\n"
     ]
    }
   ],
   "source": [
    "print_null_values(break_data)"
   ]
  },
  {
   "attachments": {},
   "cell_type": "markdown",
   "id": "47fe5c87",
   "metadata": {},
   "source": [
    "We can see there's some `STREET` names missing. It would be best to explore these missing attributes and see how we can possibly impute them. They still contain `LATITUDE` and `LONGITUDE` values so we can possibly identify them by those. Let's see what we can do..."
   ]
  },
  {
   "cell_type": "code",
   "execution_count": 194,
   "id": "05a6ca5b",
   "metadata": {},
   "outputs": [
    {
     "data": {
      "text/html": [
       "<div>\n",
       "<style scoped>\n",
       "    .dataframe tbody tr th:only-of-type {\n",
       "        vertical-align: middle;\n",
       "    }\n",
       "\n",
       "    .dataframe tbody tr th {\n",
       "        vertical-align: top;\n",
       "    }\n",
       "\n",
       "    .dataframe thead th {\n",
       "        text-align: right;\n",
       "    }\n",
       "</style>\n",
       "<table border=\"1\" class=\"dataframe\">\n",
       "  <thead>\n",
       "    <tr style=\"text-align: right;\">\n",
       "      <th></th>\n",
       "      <th>LONGITUDE</th>\n",
       "      <th>LATITUDE</th>\n",
       "      <th>OBJECTID</th>\n",
       "      <th>WATBREAKINCIDENTID</th>\n",
       "      <th>INCIDENT_DATE</th>\n",
       "      <th>BREAK_TYPE</th>\n",
       "      <th>HOUR_IMPACTED</th>\n",
       "      <th>STATUS</th>\n",
       "      <th>BREAK_NATURE</th>\n",
       "      <th>BREAK_APPARENT_CAUSE</th>\n",
       "      <th>...</th>\n",
       "      <th>ANODE_INSTALLED</th>\n",
       "      <th>BREAK_CATEGORIZATION</th>\n",
       "      <th>ROADSEGMENTID</th>\n",
       "      <th>STREET</th>\n",
       "      <th>ASSETID</th>\n",
       "      <th>ASSET_SIZE</th>\n",
       "      <th>ASSET_YEAR_INSTALLED</th>\n",
       "      <th>ASSET_MATERIAL</th>\n",
       "      <th>ASSET_EXISTS</th>\n",
       "      <th>GLOBALID</th>\n",
       "    </tr>\n",
       "  </thead>\n",
       "  <tbody>\n",
       "    <tr>\n",
       "      <th>155</th>\n",
       "      <td>-80.573004</td>\n",
       "      <td>43.443999</td>\n",
       "      <td>8140</td>\n",
       "      <td>1405</td>\n",
       "      <td>2009-10-22 00:00:00+00:00</td>\n",
       "      <td>MAIN</td>\n",
       "      <td>8-12 hours</td>\n",
       "      <td>REPAIR COMPLETED</td>\n",
       "      <td>UNKNOWN</td>\n",
       "      <td>OTHER</td>\n",
       "      <td>...</td>\n",
       "      <td>Y</td>\n",
       "      <td>CATEGORY 1</td>\n",
       "      <td>0</td>\n",
       "      <td>NaN</td>\n",
       "      <td>0</td>\n",
       "      <td>NaN</td>\n",
       "      <td>NaN</td>\n",
       "      <td>NaN</td>\n",
       "      <td>N</td>\n",
       "      <td>6b0439bb-b9db-4144-b228-43b612d85586</td>\n",
       "    </tr>\n",
       "    <tr>\n",
       "      <th>293</th>\n",
       "      <td>-80.474160</td>\n",
       "      <td>43.471444</td>\n",
       "      <td>8278</td>\n",
       "      <td>976</td>\n",
       "      <td>2001-03-14 00:00:00+00:00</td>\n",
       "      <td>MAIN</td>\n",
       "      <td>8-12 hours</td>\n",
       "      <td>REPAIR COMPLETED</td>\n",
       "      <td>UNKNOWN</td>\n",
       "      <td>OTHER</td>\n",
       "      <td>...</td>\n",
       "      <td>Y</td>\n",
       "      <td>CATEGORY 1</td>\n",
       "      <td>604217</td>\n",
       "      <td>NaN</td>\n",
       "      <td>32860</td>\n",
       "      <td>200.0</td>\n",
       "      <td>1974.0</td>\n",
       "      <td>DI</td>\n",
       "      <td>Y</td>\n",
       "      <td>b3b77f1f-124e-4653-bb23-32aa195500b9</td>\n",
       "    </tr>\n",
       "    <tr>\n",
       "      <th>493</th>\n",
       "      <td>-80.427697</td>\n",
       "      <td>43.390080</td>\n",
       "      <td>8478</td>\n",
       "      <td>1978</td>\n",
       "      <td>2014-01-10 00:00:00+00:00</td>\n",
       "      <td>MAIN</td>\n",
       "      <td>8-12 hours</td>\n",
       "      <td>REPAIR COMPLETED</td>\n",
       "      <td>UNKNOWN</td>\n",
       "      <td>OTHER</td>\n",
       "      <td>...</td>\n",
       "      <td>Y</td>\n",
       "      <td>CATEGORY 1</td>\n",
       "      <td>50156</td>\n",
       "      <td>NaN</td>\n",
       "      <td>91992</td>\n",
       "      <td>200.0</td>\n",
       "      <td>1977.0</td>\n",
       "      <td>DI</td>\n",
       "      <td>Y</td>\n",
       "      <td>6b29d708-e81b-4808-877c-31c686c9fd8c</td>\n",
       "    </tr>\n",
       "    <tr>\n",
       "      <th>693</th>\n",
       "      <td>-80.573004</td>\n",
       "      <td>43.443999</td>\n",
       "      <td>8678</td>\n",
       "      <td>505</td>\n",
       "      <td>2011-12-15 15:38:27+00:00</td>\n",
       "      <td>MAIN</td>\n",
       "      <td>8-12 hours</td>\n",
       "      <td>REPAIR COMPLETED</td>\n",
       "      <td>UNKNOWN</td>\n",
       "      <td>OTHER</td>\n",
       "      <td>...</td>\n",
       "      <td>Y</td>\n",
       "      <td>CATEGORY 1</td>\n",
       "      <td>0</td>\n",
       "      <td>NaN</td>\n",
       "      <td>0</td>\n",
       "      <td>NaN</td>\n",
       "      <td>NaN</td>\n",
       "      <td>NaN</td>\n",
       "      <td>N</td>\n",
       "      <td>7ce0a441-0385-45b6-b915-6c6d1a8c0876</td>\n",
       "    </tr>\n",
       "    <tr>\n",
       "      <th>1443</th>\n",
       "      <td>-80.573004</td>\n",
       "      <td>43.443999</td>\n",
       "      <td>9428</td>\n",
       "      <td>1330</td>\n",
       "      <td>2011-12-15 15:38:28+00:00</td>\n",
       "      <td>MAIN</td>\n",
       "      <td>8-12 hours</td>\n",
       "      <td>REPAIR COMPLETED</td>\n",
       "      <td>UNKNOWN</td>\n",
       "      <td>OTHER</td>\n",
       "      <td>...</td>\n",
       "      <td>Y</td>\n",
       "      <td>CATEGORY 1</td>\n",
       "      <td>0</td>\n",
       "      <td>NaN</td>\n",
       "      <td>0</td>\n",
       "      <td>NaN</td>\n",
       "      <td>NaN</td>\n",
       "      <td>NaN</td>\n",
       "      <td>N</td>\n",
       "      <td>54d89f5a-f3c7-4a9f-9a64-80a6696ff96b</td>\n",
       "    </tr>\n",
       "    <tr>\n",
       "      <th>1607</th>\n",
       "      <td>-80.573004</td>\n",
       "      <td>43.443999</td>\n",
       "      <td>9592</td>\n",
       "      <td>1329</td>\n",
       "      <td>2011-12-15 15:38:28+00:00</td>\n",
       "      <td>MAIN</td>\n",
       "      <td>8-12 hours</td>\n",
       "      <td>REPAIR COMPLETED</td>\n",
       "      <td>UNKNOWN</td>\n",
       "      <td>OTHER</td>\n",
       "      <td>...</td>\n",
       "      <td>Y</td>\n",
       "      <td>CATEGORY 1</td>\n",
       "      <td>0</td>\n",
       "      <td>NaN</td>\n",
       "      <td>0</td>\n",
       "      <td>NaN</td>\n",
       "      <td>NaN</td>\n",
       "      <td>NaN</td>\n",
       "      <td>N</td>\n",
       "      <td>96d2114a-1e34-439c-8409-a42c298fe957</td>\n",
       "    </tr>\n",
       "    <tr>\n",
       "      <th>1616</th>\n",
       "      <td>-80.573004</td>\n",
       "      <td>43.443999</td>\n",
       "      <td>9601</td>\n",
       "      <td>1403</td>\n",
       "      <td>2009-10-14 00:00:00+00:00</td>\n",
       "      <td>MAIN</td>\n",
       "      <td>8-12 hours</td>\n",
       "      <td>REPAIR COMPLETED</td>\n",
       "      <td>UNKNOWN</td>\n",
       "      <td>OTHER</td>\n",
       "      <td>...</td>\n",
       "      <td>Y</td>\n",
       "      <td>CATEGORY 1</td>\n",
       "      <td>0</td>\n",
       "      <td>NaN</td>\n",
       "      <td>0</td>\n",
       "      <td>NaN</td>\n",
       "      <td>NaN</td>\n",
       "      <td>NaN</td>\n",
       "      <td>N</td>\n",
       "      <td>f79cd49f-967d-478a-97fc-b4ac000d5d24</td>\n",
       "    </tr>\n",
       "    <tr>\n",
       "      <th>1758</th>\n",
       "      <td>-80.457321</td>\n",
       "      <td>43.458436</td>\n",
       "      <td>9743</td>\n",
       "      <td>1335</td>\n",
       "      <td>2009-01-10 00:00:00+00:00</td>\n",
       "      <td>MAIN</td>\n",
       "      <td>8-12 hours</td>\n",
       "      <td>REPAIR COMPLETED</td>\n",
       "      <td>UNKNOWN</td>\n",
       "      <td>OTHER</td>\n",
       "      <td>...</td>\n",
       "      <td>Y</td>\n",
       "      <td>CATEGORY 1</td>\n",
       "      <td>603891</td>\n",
       "      <td>NaN</td>\n",
       "      <td>22910</td>\n",
       "      <td>150.0</td>\n",
       "      <td>1955.0</td>\n",
       "      <td>CI</td>\n",
       "      <td>Y</td>\n",
       "      <td>58888261-25da-4173-b479-a0a6f5ae2fdc</td>\n",
       "    </tr>\n",
       "    <tr>\n",
       "      <th>2039</th>\n",
       "      <td>-80.573004</td>\n",
       "      <td>43.443999</td>\n",
       "      <td>10024</td>\n",
       "      <td>725</td>\n",
       "      <td>2011-12-15 15:38:27+00:00</td>\n",
       "      <td>MAIN</td>\n",
       "      <td>8-12 hours</td>\n",
       "      <td>REPAIR COMPLETED</td>\n",
       "      <td>UNKNOWN</td>\n",
       "      <td>OTHER</td>\n",
       "      <td>...</td>\n",
       "      <td>Y</td>\n",
       "      <td>CATEGORY 1</td>\n",
       "      <td>0</td>\n",
       "      <td>NaN</td>\n",
       "      <td>0</td>\n",
       "      <td>NaN</td>\n",
       "      <td>NaN</td>\n",
       "      <td>NaN</td>\n",
       "      <td>N</td>\n",
       "      <td>73973bb7-ceba-45aa-b61f-f4900024a35d</td>\n",
       "    </tr>\n",
       "    <tr>\n",
       "      <th>2052</th>\n",
       "      <td>-80.573004</td>\n",
       "      <td>43.443999</td>\n",
       "      <td>10037</td>\n",
       "      <td>7</td>\n",
       "      <td>2011-12-15 15:38:26+00:00</td>\n",
       "      <td>MAIN</td>\n",
       "      <td>8-12 hours</td>\n",
       "      <td>REPAIR COMPLETED</td>\n",
       "      <td>UNKNOWN</td>\n",
       "      <td>COMBINATION</td>\n",
       "      <td>...</td>\n",
       "      <td>Y</td>\n",
       "      <td>CATEGORY 1</td>\n",
       "      <td>0</td>\n",
       "      <td>NaN</td>\n",
       "      <td>0</td>\n",
       "      <td>NaN</td>\n",
       "      <td>NaN</td>\n",
       "      <td>NaN</td>\n",
       "      <td>N</td>\n",
       "      <td>0ddf6145-505e-4b7b-bd1b-200fafd74b6c</td>\n",
       "    </tr>\n",
       "    <tr>\n",
       "      <th>2086</th>\n",
       "      <td>-80.573004</td>\n",
       "      <td>43.443999</td>\n",
       "      <td>10071</td>\n",
       "      <td>1035</td>\n",
       "      <td>2011-12-15 15:38:27+00:00</td>\n",
       "      <td>MAIN</td>\n",
       "      <td>8-12 hours</td>\n",
       "      <td>REPAIR COMPLETED</td>\n",
       "      <td>UNKNOWN</td>\n",
       "      <td>OTHER</td>\n",
       "      <td>...</td>\n",
       "      <td>Y</td>\n",
       "      <td>CATEGORY 1</td>\n",
       "      <td>0</td>\n",
       "      <td>NaN</td>\n",
       "      <td>0</td>\n",
       "      <td>NaN</td>\n",
       "      <td>NaN</td>\n",
       "      <td>NaN</td>\n",
       "      <td>N</td>\n",
       "      <td>21fba635-a684-4fd3-8a9e-f75eee7349ca</td>\n",
       "    </tr>\n",
       "    <tr>\n",
       "      <th>2102</th>\n",
       "      <td>-80.573004</td>\n",
       "      <td>43.443999</td>\n",
       "      <td>10087</td>\n",
       "      <td>719</td>\n",
       "      <td>2011-12-15 15:38:27+00:00</td>\n",
       "      <td>MAIN</td>\n",
       "      <td>8-12 hours</td>\n",
       "      <td>REPAIR COMPLETED</td>\n",
       "      <td>UNKNOWN</td>\n",
       "      <td>OTHER</td>\n",
       "      <td>...</td>\n",
       "      <td>Y</td>\n",
       "      <td>CATEGORY 1</td>\n",
       "      <td>0</td>\n",
       "      <td>NaN</td>\n",
       "      <td>0</td>\n",
       "      <td>NaN</td>\n",
       "      <td>NaN</td>\n",
       "      <td>NaN</td>\n",
       "      <td>N</td>\n",
       "      <td>22d45af0-73e8-4bba-a93b-797f4a85b919</td>\n",
       "    </tr>\n",
       "    <tr>\n",
       "      <th>2152</th>\n",
       "      <td>-80.573004</td>\n",
       "      <td>43.443999</td>\n",
       "      <td>10137</td>\n",
       "      <td>1494</td>\n",
       "      <td>2010-07-22 00:00:00+00:00</td>\n",
       "      <td>MAIN</td>\n",
       "      <td>8-12 hours</td>\n",
       "      <td>REPAIR COMPLETED</td>\n",
       "      <td>CIRCUMFERENTIAL</td>\n",
       "      <td>PRESSURE</td>\n",
       "      <td>...</td>\n",
       "      <td>Y</td>\n",
       "      <td>CATEGORY 1</td>\n",
       "      <td>0</td>\n",
       "      <td>NaN</td>\n",
       "      <td>0</td>\n",
       "      <td>NaN</td>\n",
       "      <td>NaN</td>\n",
       "      <td>NaN</td>\n",
       "      <td>N</td>\n",
       "      <td>a2efcfd0-bb01-4324-a775-56f47929510b</td>\n",
       "    </tr>\n",
       "    <tr>\n",
       "      <th>2595</th>\n",
       "      <td>-80.294712</td>\n",
       "      <td>43.538106</td>\n",
       "      <td>36482</td>\n",
       "      <td>140716</td>\n",
       "      <td>2021-02-17 09:53:29+00:00</td>\n",
       "      <td>MAIN</td>\n",
       "      <td>20-24 hours</td>\n",
       "      <td>CANCELLED</td>\n",
       "      <td>UNKNOWN</td>\n",
       "      <td>UNKNOWN</td>\n",
       "      <td>...</td>\n",
       "      <td>Y</td>\n",
       "      <td>UNKNOWN</td>\n",
       "      <td>0</td>\n",
       "      <td>NaN</td>\n",
       "      <td>0</td>\n",
       "      <td>NaN</td>\n",
       "      <td>NaN</td>\n",
       "      <td>NaN</td>\n",
       "      <td>Y</td>\n",
       "      <td>c3e03c5c-1489-4eb2-88e4-645ea92bdf8c</td>\n",
       "    </tr>\n",
       "    <tr>\n",
       "      <th>2596</th>\n",
       "      <td>-80.294712</td>\n",
       "      <td>43.538106</td>\n",
       "      <td>36483</td>\n",
       "      <td>140718</td>\n",
       "      <td>2021-02-17 10:03:55+00:00</td>\n",
       "      <td>MAIN</td>\n",
       "      <td>20-24 hours</td>\n",
       "      <td>CANCELLED</td>\n",
       "      <td>UNKNOWN</td>\n",
       "      <td>UNKNOWN</td>\n",
       "      <td>...</td>\n",
       "      <td>Y</td>\n",
       "      <td>UNKNOWN</td>\n",
       "      <td>0</td>\n",
       "      <td>NaN</td>\n",
       "      <td>0</td>\n",
       "      <td>NaN</td>\n",
       "      <td>NaN</td>\n",
       "      <td>NaN</td>\n",
       "      <td>Y</td>\n",
       "      <td>1ceaeaa1-570c-4a84-ab3a-8c0b1568d6af</td>\n",
       "    </tr>\n",
       "    <tr>\n",
       "      <th>2597</th>\n",
       "      <td>-80.294712</td>\n",
       "      <td>43.538106</td>\n",
       "      <td>36484</td>\n",
       "      <td>140720</td>\n",
       "      <td>2021-02-17 12:05:32+00:00</td>\n",
       "      <td>MAIN</td>\n",
       "      <td>20-24 hours</td>\n",
       "      <td>CANCELLED</td>\n",
       "      <td>UNKNOWN</td>\n",
       "      <td>UNKNOWN</td>\n",
       "      <td>...</td>\n",
       "      <td>Y</td>\n",
       "      <td>UNKNOWN</td>\n",
       "      <td>0</td>\n",
       "      <td>NaN</td>\n",
       "      <td>0</td>\n",
       "      <td>NaN</td>\n",
       "      <td>NaN</td>\n",
       "      <td>NaN</td>\n",
       "      <td>Y</td>\n",
       "      <td>50bb8e78-1a55-43cb-89ad-08707b9fcde0</td>\n",
       "    </tr>\n",
       "  </tbody>\n",
       "</table>\n",
       "<p>16 rows × 25 columns</p>\n",
       "</div>"
      ],
      "text/plain": [
       "      LONGITUDE   LATITUDE  OBJECTID  WATBREAKINCIDENTID  \\\n",
       "155  -80.573004  43.443999      8140                1405   \n",
       "293  -80.474160  43.471444      8278                 976   \n",
       "493  -80.427697  43.390080      8478                1978   \n",
       "693  -80.573004  43.443999      8678                 505   \n",
       "1443 -80.573004  43.443999      9428                1330   \n",
       "1607 -80.573004  43.443999      9592                1329   \n",
       "1616 -80.573004  43.443999      9601                1403   \n",
       "1758 -80.457321  43.458436      9743                1335   \n",
       "2039 -80.573004  43.443999     10024                 725   \n",
       "2052 -80.573004  43.443999     10037                   7   \n",
       "2086 -80.573004  43.443999     10071                1035   \n",
       "2102 -80.573004  43.443999     10087                 719   \n",
       "2152 -80.573004  43.443999     10137                1494   \n",
       "2595 -80.294712  43.538106     36482              140716   \n",
       "2596 -80.294712  43.538106     36483              140718   \n",
       "2597 -80.294712  43.538106     36484              140720   \n",
       "\n",
       "                 INCIDENT_DATE BREAK_TYPE HOUR_IMPACTED            STATUS  \\\n",
       "155  2009-10-22 00:00:00+00:00       MAIN    8-12 hours  REPAIR COMPLETED   \n",
       "293  2001-03-14 00:00:00+00:00       MAIN    8-12 hours  REPAIR COMPLETED   \n",
       "493  2014-01-10 00:00:00+00:00       MAIN    8-12 hours  REPAIR COMPLETED   \n",
       "693  2011-12-15 15:38:27+00:00       MAIN    8-12 hours  REPAIR COMPLETED   \n",
       "1443 2011-12-15 15:38:28+00:00       MAIN    8-12 hours  REPAIR COMPLETED   \n",
       "1607 2011-12-15 15:38:28+00:00       MAIN    8-12 hours  REPAIR COMPLETED   \n",
       "1616 2009-10-14 00:00:00+00:00       MAIN    8-12 hours  REPAIR COMPLETED   \n",
       "1758 2009-01-10 00:00:00+00:00       MAIN    8-12 hours  REPAIR COMPLETED   \n",
       "2039 2011-12-15 15:38:27+00:00       MAIN    8-12 hours  REPAIR COMPLETED   \n",
       "2052 2011-12-15 15:38:26+00:00       MAIN    8-12 hours  REPAIR COMPLETED   \n",
       "2086 2011-12-15 15:38:27+00:00       MAIN    8-12 hours  REPAIR COMPLETED   \n",
       "2102 2011-12-15 15:38:27+00:00       MAIN    8-12 hours  REPAIR COMPLETED   \n",
       "2152 2010-07-22 00:00:00+00:00       MAIN    8-12 hours  REPAIR COMPLETED   \n",
       "2595 2021-02-17 09:53:29+00:00       MAIN   20-24 hours         CANCELLED   \n",
       "2596 2021-02-17 10:03:55+00:00       MAIN   20-24 hours         CANCELLED   \n",
       "2597 2021-02-17 12:05:32+00:00       MAIN   20-24 hours         CANCELLED   \n",
       "\n",
       "         BREAK_NATURE BREAK_APPARENT_CAUSE  ... ANODE_INSTALLED  \\\n",
       "155           UNKNOWN                OTHER  ...               Y   \n",
       "293           UNKNOWN                OTHER  ...               Y   \n",
       "493           UNKNOWN                OTHER  ...               Y   \n",
       "693           UNKNOWN                OTHER  ...               Y   \n",
       "1443          UNKNOWN                OTHER  ...               Y   \n",
       "1607          UNKNOWN                OTHER  ...               Y   \n",
       "1616          UNKNOWN                OTHER  ...               Y   \n",
       "1758          UNKNOWN                OTHER  ...               Y   \n",
       "2039          UNKNOWN                OTHER  ...               Y   \n",
       "2052          UNKNOWN          COMBINATION  ...               Y   \n",
       "2086          UNKNOWN                OTHER  ...               Y   \n",
       "2102          UNKNOWN                OTHER  ...               Y   \n",
       "2152  CIRCUMFERENTIAL             PRESSURE  ...               Y   \n",
       "2595          UNKNOWN              UNKNOWN  ...               Y   \n",
       "2596          UNKNOWN              UNKNOWN  ...               Y   \n",
       "2597          UNKNOWN              UNKNOWN  ...               Y   \n",
       "\n",
       "     BREAK_CATEGORIZATION ROADSEGMENTID STREET ASSETID ASSET_SIZE  \\\n",
       "155            CATEGORY 1             0    NaN       0        NaN   \n",
       "293            CATEGORY 1        604217    NaN   32860      200.0   \n",
       "493            CATEGORY 1         50156    NaN   91992      200.0   \n",
       "693            CATEGORY 1             0    NaN       0        NaN   \n",
       "1443           CATEGORY 1             0    NaN       0        NaN   \n",
       "1607           CATEGORY 1             0    NaN       0        NaN   \n",
       "1616           CATEGORY 1             0    NaN       0        NaN   \n",
       "1758           CATEGORY 1        603891    NaN   22910      150.0   \n",
       "2039           CATEGORY 1             0    NaN       0        NaN   \n",
       "2052           CATEGORY 1             0    NaN       0        NaN   \n",
       "2086           CATEGORY 1             0    NaN       0        NaN   \n",
       "2102           CATEGORY 1             0    NaN       0        NaN   \n",
       "2152           CATEGORY 1             0    NaN       0        NaN   \n",
       "2595              UNKNOWN             0    NaN       0        NaN   \n",
       "2596              UNKNOWN             0    NaN       0        NaN   \n",
       "2597              UNKNOWN             0    NaN       0        NaN   \n",
       "\n",
       "     ASSET_YEAR_INSTALLED  ASSET_MATERIAL ASSET_EXISTS  \\\n",
       "155                   NaN             NaN            N   \n",
       "293                1974.0              DI            Y   \n",
       "493                1977.0              DI            Y   \n",
       "693                   NaN             NaN            N   \n",
       "1443                  NaN             NaN            N   \n",
       "1607                  NaN             NaN            N   \n",
       "1616                  NaN             NaN            N   \n",
       "1758               1955.0              CI            Y   \n",
       "2039                  NaN             NaN            N   \n",
       "2052                  NaN             NaN            N   \n",
       "2086                  NaN             NaN            N   \n",
       "2102                  NaN             NaN            N   \n",
       "2152                  NaN             NaN            N   \n",
       "2595                  NaN             NaN            Y   \n",
       "2596                  NaN             NaN            Y   \n",
       "2597                  NaN             NaN            Y   \n",
       "\n",
       "                                  GLOBALID  \n",
       "155   6b0439bb-b9db-4144-b228-43b612d85586  \n",
       "293   b3b77f1f-124e-4653-bb23-32aa195500b9  \n",
       "493   6b29d708-e81b-4808-877c-31c686c9fd8c  \n",
       "693   7ce0a441-0385-45b6-b915-6c6d1a8c0876  \n",
       "1443  54d89f5a-f3c7-4a9f-9a64-80a6696ff96b  \n",
       "1607  96d2114a-1e34-439c-8409-a42c298fe957  \n",
       "1616  f79cd49f-967d-478a-97fc-b4ac000d5d24  \n",
       "1758  58888261-25da-4173-b479-a0a6f5ae2fdc  \n",
       "2039  73973bb7-ceba-45aa-b61f-f4900024a35d  \n",
       "2052  0ddf6145-505e-4b7b-bd1b-200fafd74b6c  \n",
       "2086  21fba635-a684-4fd3-8a9e-f75eee7349ca  \n",
       "2102  22d45af0-73e8-4bba-a93b-797f4a85b919  \n",
       "2152  a2efcfd0-bb01-4324-a775-56f47929510b  \n",
       "2595  c3e03c5c-1489-4eb2-88e4-645ea92bdf8c  \n",
       "2596  1ceaeaa1-570c-4a84-ab3a-8c0b1568d6af  \n",
       "2597  50bb8e78-1a55-43cb-89ad-08707b9fcde0  \n",
       "\n",
       "[16 rows x 25 columns]"
      ]
     },
     "execution_count": 194,
     "metadata": {},
     "output_type": "execute_result"
    }
   ],
   "source": [
    "no_street = break_data.loc[break_data.STREET.isna()]\n",
    "no_street"
   ]
  },
  {
   "cell_type": "markdown",
   "id": "b6602b1e",
   "metadata": {},
   "source": [
    "Looking at the latitude and longitude of the missing street addresses, there are actually only 5 distinct missing addresses. We can plot them on a map and see where they are located."
   ]
  },
  {
   "cell_type": "code",
   "execution_count": 195,
   "id": "c4b4f01c",
   "metadata": {},
   "outputs": [],
   "source": [
    "import plotly\n",
    "import plotly.express as px"
   ]
  },
  {
   "cell_type": "code",
   "execution_count": 196,
   "id": "b18aca59",
   "metadata": {},
   "outputs": [
    {
     "data": {
      "application/vnd.plotly.v1+json": {
       "config": {
        "plotlyServerURL": "https://plot.ly"
       },
       "data": [
        {
         "hovertemplate": "LATITUDE=%{lat}<br>LONGITUDE=%{lon}<extra></extra>",
         "lat": [
          43.4439990719948,
          43.4714436247102,
          43.3900798855214,
          43.4439990719948,
          43.4439990719948,
          43.4439990719948,
          43.4439990719948,
          43.458435554945,
          43.4439990719948,
          43.4439990719948,
          43.4439990719948,
          43.4439990719948,
          43.4439990719948,
          43.5381064201442,
          43.5381064201442,
          43.5381064201442
         ],
         "legendgroup": "",
         "lon": [
          -80.5730044736258,
          -80.4741603810438,
          -80.4276973204421,
          -80.5730044736258,
          -80.5730044736258,
          -80.5730044736258,
          -80.5730044736258,
          -80.457321116706,
          -80.5730044736258,
          -80.5730044736258,
          -80.5730044736258,
          -80.5730044736258,
          -80.5730044736258,
          -80.2947119204866,
          -80.2947119204866,
          -80.2947119204866
         ],
         "marker": {
          "color": "#636efa"
         },
         "mode": "markers",
         "name": "",
         "showlegend": false,
         "subplot": "mapbox",
         "type": "scattermapbox"
        }
       ],
       "layout": {
        "legend": {
         "tracegroupgap": 0
        },
        "mapbox": {
         "accesstoken": "pk.eyJ1IjoianNlbGxpb3R0IiwiYSI6ImNrdXd5am5rdjJsNHkyeHBnbzlobHZzdmUifQ.9F0qN4tnkVEhl2N-pouj-A",
         "center": {
          "lat": 43.460891815347324,
          "lon": -80.49833495724435
         },
         "domain": {
          "x": [
           0,
           1
          ],
          "y": [
           0,
           1
          ]
         },
         "style": "carto-positron",
         "zoom": 8
        },
        "margin": {
         "t": 60
        },
        "template": {
         "data": {
          "bar": [
           {
            "error_x": {
             "color": "#2a3f5f"
            },
            "error_y": {
             "color": "#2a3f5f"
            },
            "marker": {
             "line": {
              "color": "#E5ECF6",
              "width": 0.5
             },
             "pattern": {
              "fillmode": "overlay",
              "size": 10,
              "solidity": 0.2
             }
            },
            "type": "bar"
           }
          ],
          "barpolar": [
           {
            "marker": {
             "line": {
              "color": "#E5ECF6",
              "width": 0.5
             },
             "pattern": {
              "fillmode": "overlay",
              "size": 10,
              "solidity": 0.2
             }
            },
            "type": "barpolar"
           }
          ],
          "carpet": [
           {
            "aaxis": {
             "endlinecolor": "#2a3f5f",
             "gridcolor": "white",
             "linecolor": "white",
             "minorgridcolor": "white",
             "startlinecolor": "#2a3f5f"
            },
            "baxis": {
             "endlinecolor": "#2a3f5f",
             "gridcolor": "white",
             "linecolor": "white",
             "minorgridcolor": "white",
             "startlinecolor": "#2a3f5f"
            },
            "type": "carpet"
           }
          ],
          "choropleth": [
           {
            "colorbar": {
             "outlinewidth": 0,
             "ticks": ""
            },
            "type": "choropleth"
           }
          ],
          "contour": [
           {
            "colorbar": {
             "outlinewidth": 0,
             "ticks": ""
            },
            "colorscale": [
             [
              0,
              "#0d0887"
             ],
             [
              0.1111111111111111,
              "#46039f"
             ],
             [
              0.2222222222222222,
              "#7201a8"
             ],
             [
              0.3333333333333333,
              "#9c179e"
             ],
             [
              0.4444444444444444,
              "#bd3786"
             ],
             [
              0.5555555555555556,
              "#d8576b"
             ],
             [
              0.6666666666666666,
              "#ed7953"
             ],
             [
              0.7777777777777778,
              "#fb9f3a"
             ],
             [
              0.8888888888888888,
              "#fdca26"
             ],
             [
              1,
              "#f0f921"
             ]
            ],
            "type": "contour"
           }
          ],
          "contourcarpet": [
           {
            "colorbar": {
             "outlinewidth": 0,
             "ticks": ""
            },
            "type": "contourcarpet"
           }
          ],
          "heatmap": [
           {
            "colorbar": {
             "outlinewidth": 0,
             "ticks": ""
            },
            "colorscale": [
             [
              0,
              "#0d0887"
             ],
             [
              0.1111111111111111,
              "#46039f"
             ],
             [
              0.2222222222222222,
              "#7201a8"
             ],
             [
              0.3333333333333333,
              "#9c179e"
             ],
             [
              0.4444444444444444,
              "#bd3786"
             ],
             [
              0.5555555555555556,
              "#d8576b"
             ],
             [
              0.6666666666666666,
              "#ed7953"
             ],
             [
              0.7777777777777778,
              "#fb9f3a"
             ],
             [
              0.8888888888888888,
              "#fdca26"
             ],
             [
              1,
              "#f0f921"
             ]
            ],
            "type": "heatmap"
           }
          ],
          "heatmapgl": [
           {
            "colorbar": {
             "outlinewidth": 0,
             "ticks": ""
            },
            "colorscale": [
             [
              0,
              "#0d0887"
             ],
             [
              0.1111111111111111,
              "#46039f"
             ],
             [
              0.2222222222222222,
              "#7201a8"
             ],
             [
              0.3333333333333333,
              "#9c179e"
             ],
             [
              0.4444444444444444,
              "#bd3786"
             ],
             [
              0.5555555555555556,
              "#d8576b"
             ],
             [
              0.6666666666666666,
              "#ed7953"
             ],
             [
              0.7777777777777778,
              "#fb9f3a"
             ],
             [
              0.8888888888888888,
              "#fdca26"
             ],
             [
              1,
              "#f0f921"
             ]
            ],
            "type": "heatmapgl"
           }
          ],
          "histogram": [
           {
            "marker": {
             "pattern": {
              "fillmode": "overlay",
              "size": 10,
              "solidity": 0.2
             }
            },
            "type": "histogram"
           }
          ],
          "histogram2d": [
           {
            "colorbar": {
             "outlinewidth": 0,
             "ticks": ""
            },
            "colorscale": [
             [
              0,
              "#0d0887"
             ],
             [
              0.1111111111111111,
              "#46039f"
             ],
             [
              0.2222222222222222,
              "#7201a8"
             ],
             [
              0.3333333333333333,
              "#9c179e"
             ],
             [
              0.4444444444444444,
              "#bd3786"
             ],
             [
              0.5555555555555556,
              "#d8576b"
             ],
             [
              0.6666666666666666,
              "#ed7953"
             ],
             [
              0.7777777777777778,
              "#fb9f3a"
             ],
             [
              0.8888888888888888,
              "#fdca26"
             ],
             [
              1,
              "#f0f921"
             ]
            ],
            "type": "histogram2d"
           }
          ],
          "histogram2dcontour": [
           {
            "colorbar": {
             "outlinewidth": 0,
             "ticks": ""
            },
            "colorscale": [
             [
              0,
              "#0d0887"
             ],
             [
              0.1111111111111111,
              "#46039f"
             ],
             [
              0.2222222222222222,
              "#7201a8"
             ],
             [
              0.3333333333333333,
              "#9c179e"
             ],
             [
              0.4444444444444444,
              "#bd3786"
             ],
             [
              0.5555555555555556,
              "#d8576b"
             ],
             [
              0.6666666666666666,
              "#ed7953"
             ],
             [
              0.7777777777777778,
              "#fb9f3a"
             ],
             [
              0.8888888888888888,
              "#fdca26"
             ],
             [
              1,
              "#f0f921"
             ]
            ],
            "type": "histogram2dcontour"
           }
          ],
          "mesh3d": [
           {
            "colorbar": {
             "outlinewidth": 0,
             "ticks": ""
            },
            "type": "mesh3d"
           }
          ],
          "parcoords": [
           {
            "line": {
             "colorbar": {
              "outlinewidth": 0,
              "ticks": ""
             }
            },
            "type": "parcoords"
           }
          ],
          "pie": [
           {
            "automargin": true,
            "type": "pie"
           }
          ],
          "scatter": [
           {
            "fillpattern": {
             "fillmode": "overlay",
             "size": 10,
             "solidity": 0.2
            },
            "type": "scatter"
           }
          ],
          "scatter3d": [
           {
            "line": {
             "colorbar": {
              "outlinewidth": 0,
              "ticks": ""
             }
            },
            "marker": {
             "colorbar": {
              "outlinewidth": 0,
              "ticks": ""
             }
            },
            "type": "scatter3d"
           }
          ],
          "scattercarpet": [
           {
            "marker": {
             "colorbar": {
              "outlinewidth": 0,
              "ticks": ""
             }
            },
            "type": "scattercarpet"
           }
          ],
          "scattergeo": [
           {
            "marker": {
             "colorbar": {
              "outlinewidth": 0,
              "ticks": ""
             }
            },
            "type": "scattergeo"
           }
          ],
          "scattergl": [
           {
            "marker": {
             "colorbar": {
              "outlinewidth": 0,
              "ticks": ""
             }
            },
            "type": "scattergl"
           }
          ],
          "scattermapbox": [
           {
            "marker": {
             "colorbar": {
              "outlinewidth": 0,
              "ticks": ""
             }
            },
            "type": "scattermapbox"
           }
          ],
          "scatterpolar": [
           {
            "marker": {
             "colorbar": {
              "outlinewidth": 0,
              "ticks": ""
             }
            },
            "type": "scatterpolar"
           }
          ],
          "scatterpolargl": [
           {
            "marker": {
             "colorbar": {
              "outlinewidth": 0,
              "ticks": ""
             }
            },
            "type": "scatterpolargl"
           }
          ],
          "scatterternary": [
           {
            "marker": {
             "colorbar": {
              "outlinewidth": 0,
              "ticks": ""
             }
            },
            "type": "scatterternary"
           }
          ],
          "surface": [
           {
            "colorbar": {
             "outlinewidth": 0,
             "ticks": ""
            },
            "colorscale": [
             [
              0,
              "#0d0887"
             ],
             [
              0.1111111111111111,
              "#46039f"
             ],
             [
              0.2222222222222222,
              "#7201a8"
             ],
             [
              0.3333333333333333,
              "#9c179e"
             ],
             [
              0.4444444444444444,
              "#bd3786"
             ],
             [
              0.5555555555555556,
              "#d8576b"
             ],
             [
              0.6666666666666666,
              "#ed7953"
             ],
             [
              0.7777777777777778,
              "#fb9f3a"
             ],
             [
              0.8888888888888888,
              "#fdca26"
             ],
             [
              1,
              "#f0f921"
             ]
            ],
            "type": "surface"
           }
          ],
          "table": [
           {
            "cells": {
             "fill": {
              "color": "#EBF0F8"
             },
             "line": {
              "color": "white"
             }
            },
            "header": {
             "fill": {
              "color": "#C8D4E3"
             },
             "line": {
              "color": "white"
             }
            },
            "type": "table"
           }
          ]
         },
         "layout": {
          "annotationdefaults": {
           "arrowcolor": "#2a3f5f",
           "arrowhead": 0,
           "arrowwidth": 1
          },
          "autotypenumbers": "strict",
          "coloraxis": {
           "colorbar": {
            "outlinewidth": 0,
            "ticks": ""
           }
          },
          "colorscale": {
           "diverging": [
            [
             0,
             "#8e0152"
            ],
            [
             0.1,
             "#c51b7d"
            ],
            [
             0.2,
             "#de77ae"
            ],
            [
             0.3,
             "#f1b6da"
            ],
            [
             0.4,
             "#fde0ef"
            ],
            [
             0.5,
             "#f7f7f7"
            ],
            [
             0.6,
             "#e6f5d0"
            ],
            [
             0.7,
             "#b8e186"
            ],
            [
             0.8,
             "#7fbc41"
            ],
            [
             0.9,
             "#4d9221"
            ],
            [
             1,
             "#276419"
            ]
           ],
           "sequential": [
            [
             0,
             "#0d0887"
            ],
            [
             0.1111111111111111,
             "#46039f"
            ],
            [
             0.2222222222222222,
             "#7201a8"
            ],
            [
             0.3333333333333333,
             "#9c179e"
            ],
            [
             0.4444444444444444,
             "#bd3786"
            ],
            [
             0.5555555555555556,
             "#d8576b"
            ],
            [
             0.6666666666666666,
             "#ed7953"
            ],
            [
             0.7777777777777778,
             "#fb9f3a"
            ],
            [
             0.8888888888888888,
             "#fdca26"
            ],
            [
             1,
             "#f0f921"
            ]
           ],
           "sequentialminus": [
            [
             0,
             "#0d0887"
            ],
            [
             0.1111111111111111,
             "#46039f"
            ],
            [
             0.2222222222222222,
             "#7201a8"
            ],
            [
             0.3333333333333333,
             "#9c179e"
            ],
            [
             0.4444444444444444,
             "#bd3786"
            ],
            [
             0.5555555555555556,
             "#d8576b"
            ],
            [
             0.6666666666666666,
             "#ed7953"
            ],
            [
             0.7777777777777778,
             "#fb9f3a"
            ],
            [
             0.8888888888888888,
             "#fdca26"
            ],
            [
             1,
             "#f0f921"
            ]
           ]
          },
          "colorway": [
           "#636efa",
           "#EF553B",
           "#00cc96",
           "#ab63fa",
           "#FFA15A",
           "#19d3f3",
           "#FF6692",
           "#B6E880",
           "#FF97FF",
           "#FECB52"
          ],
          "font": {
           "color": "#2a3f5f"
          },
          "geo": {
           "bgcolor": "white",
           "lakecolor": "white",
           "landcolor": "#E5ECF6",
           "showlakes": true,
           "showland": true,
           "subunitcolor": "white"
          },
          "hoverlabel": {
           "align": "left"
          },
          "hovermode": "closest",
          "mapbox": {
           "style": "light"
          },
          "paper_bgcolor": "white",
          "plot_bgcolor": "#E5ECF6",
          "polar": {
           "angularaxis": {
            "gridcolor": "white",
            "linecolor": "white",
            "ticks": ""
           },
           "bgcolor": "#E5ECF6",
           "radialaxis": {
            "gridcolor": "white",
            "linecolor": "white",
            "ticks": ""
           }
          },
          "scene": {
           "xaxis": {
            "backgroundcolor": "#E5ECF6",
            "gridcolor": "white",
            "gridwidth": 2,
            "linecolor": "white",
            "showbackground": true,
            "ticks": "",
            "zerolinecolor": "white"
           },
           "yaxis": {
            "backgroundcolor": "#E5ECF6",
            "gridcolor": "white",
            "gridwidth": 2,
            "linecolor": "white",
            "showbackground": true,
            "ticks": "",
            "zerolinecolor": "white"
           },
           "zaxis": {
            "backgroundcolor": "#E5ECF6",
            "gridcolor": "white",
            "gridwidth": 2,
            "linecolor": "white",
            "showbackground": true,
            "ticks": "",
            "zerolinecolor": "white"
           }
          },
          "shapedefaults": {
           "line": {
            "color": "#2a3f5f"
           }
          },
          "ternary": {
           "aaxis": {
            "gridcolor": "white",
            "linecolor": "white",
            "ticks": ""
           },
           "baxis": {
            "gridcolor": "white",
            "linecolor": "white",
            "ticks": ""
           },
           "bgcolor": "#E5ECF6",
           "caxis": {
            "gridcolor": "white",
            "linecolor": "white",
            "ticks": ""
           }
          },
          "title": {
           "x": 0.05
          },
          "xaxis": {
           "automargin": true,
           "gridcolor": "white",
           "linecolor": "white",
           "ticks": "",
           "title": {
            "standoff": 15
           },
           "zerolinecolor": "white",
           "zerolinewidth": 2
          },
          "yaxis": {
           "automargin": true,
           "gridcolor": "white",
           "linecolor": "white",
           "ticks": "",
           "title": {
            "standoff": 15
           },
           "zerolinecolor": "white",
           "zerolinewidth": 2
          }
         }
        }
       }
      }
     },
     "metadata": {},
     "output_type": "display_data"
    }
   ],
   "source": [
    "from config import token\n",
    "api_token = token\n",
    "px.set_mapbox_access_token(token)\n",
    "fig = px.scatter_mapbox(data_frame=no_street, lat='LATITUDE', lon='LONGITUDE')\n",
    "fig.update_layout(mapbox_style=\"carto-positron\", mapbox_accesstoken=token)\n",
    "fig.show();"
   ]
  },
  {
   "attachments": {},
   "cell_type": "markdown",
   "id": "f7904fbc",
   "metadata": {},
   "source": [
    "Plugging the latitude and longitudes that are missing into a reverse geocoding website, we can get the following addresses that we can plug into the data."
   ]
  },
  {
   "cell_type": "code",
   "execution_count": 197,
   "id": "41cf1457",
   "metadata": {},
   "outputs": [],
   "source": [
    "break_data.loc[(break_data['LONGITUDE'] == -80.573004) & (break_data['LATITUDE'] == 43.443999), 'STREET'] = 'ERB ST'\n",
    "break_data.loc[(break_data['LONGITUDE'] == -80.427697) & (break_data['LATITUDE'] == 43.390080), 'STREET'] = 'OLD CARRIAGE DR'\n",
    "break_data.loc[(break_data['LONGITUDE'] == -80.457321) & (break_data['LATITUDE'] == 43.458436), 'STREET'] = 'KRUG ST'\n",
    "break_data.loc[(break_data['LONGITUDE'] == -80.294712) & (break_data['LATITUDE'] == 43.538106), 'STREET'] = 'SPEEDVALE AVE W'"
   ]
  },
  {
   "cell_type": "code",
   "execution_count": 198,
   "id": "b3d5e5b7",
   "metadata": {},
   "outputs": [],
   "source": [
    "break_data.STREET.fillna('UNKNOWN', inplace=True)"
   ]
  },
  {
   "cell_type": "code",
   "execution_count": 199,
   "id": "183f899a",
   "metadata": {},
   "outputs": [
    {
     "name": "stdout",
     "output_type": "stream",
     "text": [
      "LONGITUDE -  0\n",
      "LATITUDE -  0\n",
      "OBJECTID -  0\n",
      "WATBREAKINCIDENTID -  0\n",
      "INCIDENT_DATE -  0\n",
      "BREAK_TYPE -  0\n",
      "HOUR_IMPACTED -  0\n",
      "STATUS -  0\n",
      "BREAK_NATURE -  0\n",
      "BREAK_APPARENT_CAUSE -  0\n",
      "POSITIVE_PRESSURE_MAINTANED -  0\n",
      "AIR_GAP_MAINTANED -  0\n",
      "MECHANICAL_REMOVAL -  0\n",
      "FLUSHING_EXCAVATION -  0\n",
      "HIGHER_VELOCITY_FLUSHING -  0\n",
      "ANODE_INSTALLED -  0\n",
      "BREAK_CATEGORIZATION -  0\n",
      "ROADSEGMENTID -  0\n",
      "STREET -  0\n",
      "ASSETID -  0\n",
      "ASSET_SIZE -  161\n",
      "ASSET_YEAR_INSTALLED -  165\n",
      "ASSET_MATERIAL -  161\n",
      "ASSET_EXISTS -  0\n",
      "GLOBALID -  0\n"
     ]
    }
   ],
   "source": [
    "print_null_values(break_data)"
   ]
  },
  {
   "cell_type": "code",
   "execution_count": 200,
   "id": "9589e7eb",
   "metadata": {},
   "outputs": [
    {
     "data": {
      "text/plain": [
       "150.0     1808\n",
       "300.0      319\n",
       "200.0      289\n",
       "100.0       58\n",
       "450.0       51\n",
       "600.0       17\n",
       "25.0        13\n",
       "250.0       12\n",
       "50.0         7\n",
       "13.0         5\n",
       "1200.0       5\n",
       "0.0          3\n",
       "750.0        2\n",
       "Name: ASSET_SIZE, dtype: int64"
      ]
     },
     "execution_count": 200,
     "metadata": {},
     "output_type": "execute_result"
    }
   ],
   "source": [
    "break_data.ASSET_SIZE.value_counts()"
   ]
  },
  {
   "cell_type": "markdown",
   "id": "0ff7ace2",
   "metadata": {},
   "source": [
    "So there's 121 missing values for `ASSET_SIZE`. We could simply fill the null values with the mean value, the most frequent value, or just set them to 0. Another way that I feel might be the most appropriate approach is visualize on a map where these asset sizes occur, categorizing by street name, and then seeing if the null values occur on the same streets as some of those already known asset sizes, and then fill in the missing sizes with which neighbours their near."
   ]
  },
  {
   "cell_type": "code",
   "execution_count": 201,
   "id": "7e135b47",
   "metadata": {},
   "outputs": [
    {
     "data": {
      "text/html": [
       "<div>\n",
       "<style scoped>\n",
       "    .dataframe tbody tr th:only-of-type {\n",
       "        vertical-align: middle;\n",
       "    }\n",
       "\n",
       "    .dataframe tbody tr th {\n",
       "        vertical-align: top;\n",
       "    }\n",
       "\n",
       "    .dataframe thead th {\n",
       "        text-align: right;\n",
       "    }\n",
       "</style>\n",
       "<table border=\"1\" class=\"dataframe\">\n",
       "  <thead>\n",
       "    <tr style=\"text-align: right;\">\n",
       "      <th></th>\n",
       "      <th>LONGITUDE</th>\n",
       "      <th>LATITUDE</th>\n",
       "      <th>OBJECTID</th>\n",
       "      <th>WATBREAKINCIDENTID</th>\n",
       "      <th>INCIDENT_DATE</th>\n",
       "      <th>BREAK_TYPE</th>\n",
       "      <th>HOUR_IMPACTED</th>\n",
       "      <th>STATUS</th>\n",
       "      <th>BREAK_NATURE</th>\n",
       "      <th>BREAK_APPARENT_CAUSE</th>\n",
       "      <th>...</th>\n",
       "      <th>ANODE_INSTALLED</th>\n",
       "      <th>BREAK_CATEGORIZATION</th>\n",
       "      <th>ROADSEGMENTID</th>\n",
       "      <th>STREET</th>\n",
       "      <th>ASSETID</th>\n",
       "      <th>ASSET_SIZE</th>\n",
       "      <th>ASSET_YEAR_INSTALLED</th>\n",
       "      <th>ASSET_MATERIAL</th>\n",
       "      <th>ASSET_EXISTS</th>\n",
       "      <th>GLOBALID</th>\n",
       "    </tr>\n",
       "  </thead>\n",
       "  <tbody>\n",
       "    <tr>\n",
       "      <th>8</th>\n",
       "      <td>-80.486628</td>\n",
       "      <td>43.436634</td>\n",
       "      <td>7881</td>\n",
       "      <td>2047</td>\n",
       "      <td>2015-03-12 00:00:00+00:00</td>\n",
       "      <td>SERVICE</td>\n",
       "      <td>8-12 hours</td>\n",
       "      <td>REPAIR COMPLETED</td>\n",
       "      <td>UNKNOWN</td>\n",
       "      <td>OTHER</td>\n",
       "      <td>...</td>\n",
       "      <td>Y</td>\n",
       "      <td>CATEGORY 1</td>\n",
       "      <td>11399</td>\n",
       "      <td>MILL ST</td>\n",
       "      <td>4101475</td>\n",
       "      <td>NaN</td>\n",
       "      <td>NaN</td>\n",
       "      <td>NaN</td>\n",
       "      <td>N</td>\n",
       "      <td>536f67ed-4ec6-470e-b0d2-7e916e639d6a</td>\n",
       "    </tr>\n",
       "    <tr>\n",
       "      <th>22</th>\n",
       "      <td>-80.483756</td>\n",
       "      <td>43.435221</td>\n",
       "      <td>8007</td>\n",
       "      <td>67</td>\n",
       "      <td>2003-04-28 00:00:00+00:00</td>\n",
       "      <td>MAIN</td>\n",
       "      <td>8-12 hours</td>\n",
       "      <td>REPAIR COMPLETED</td>\n",
       "      <td>UNKNOWN</td>\n",
       "      <td>OTHER</td>\n",
       "      <td>...</td>\n",
       "      <td>Y</td>\n",
       "      <td>CATEGORY 1</td>\n",
       "      <td>11413</td>\n",
       "      <td>MILL ST</td>\n",
       "      <td>26730</td>\n",
       "      <td>NaN</td>\n",
       "      <td>NaN</td>\n",
       "      <td>NaN</td>\n",
       "      <td>N</td>\n",
       "      <td>2b7d9979-3508-4727-b20d-54a50b6a4e9c</td>\n",
       "    </tr>\n",
       "    <tr>\n",
       "      <th>27</th>\n",
       "      <td>-80.435665</td>\n",
       "      <td>43.431450</td>\n",
       "      <td>8012</td>\n",
       "      <td>1113</td>\n",
       "      <td>2007-03-07 00:00:00+00:00</td>\n",
       "      <td>MAIN</td>\n",
       "      <td>8-12 hours</td>\n",
       "      <td>REPAIR COMPLETED</td>\n",
       "      <td>UNKNOWN</td>\n",
       "      <td>OTHER</td>\n",
       "      <td>...</td>\n",
       "      <td>Y</td>\n",
       "      <td>CATEGORY 1</td>\n",
       "      <td>12095</td>\n",
       "      <td>FLORENCE AVE</td>\n",
       "      <td>14690</td>\n",
       "      <td>NaN</td>\n",
       "      <td>NaN</td>\n",
       "      <td>NaN</td>\n",
       "      <td>N</td>\n",
       "      <td>d9a5c6eb-e57a-4e2d-84b0-0962f6faa35e</td>\n",
       "    </tr>\n",
       "    <tr>\n",
       "      <th>43</th>\n",
       "      <td>-80.479748</td>\n",
       "      <td>43.431306</td>\n",
       "      <td>8028</td>\n",
       "      <td>1384</td>\n",
       "      <td>2009-04-30 00:00:00+00:00</td>\n",
       "      <td>MAIN</td>\n",
       "      <td>8-12 hours</td>\n",
       "      <td>REPAIR COMPLETED</td>\n",
       "      <td>UNKNOWN</td>\n",
       "      <td>OTHER</td>\n",
       "      <td>...</td>\n",
       "      <td>Y</td>\n",
       "      <td>CATEGORY 1</td>\n",
       "      <td>11743</td>\n",
       "      <td>OTTAWA ST S</td>\n",
       "      <td>95460</td>\n",
       "      <td>NaN</td>\n",
       "      <td>NaN</td>\n",
       "      <td>NaN</td>\n",
       "      <td>N</td>\n",
       "      <td>e9f999c9-9b13-4951-aee7-baea12cd9d9e</td>\n",
       "    </tr>\n",
       "    <tr>\n",
       "      <th>83</th>\n",
       "      <td>-80.480002</td>\n",
       "      <td>43.431070</td>\n",
       "      <td>8068</td>\n",
       "      <td>266</td>\n",
       "      <td>1999-01-27 00:00:00+00:00</td>\n",
       "      <td>MAIN</td>\n",
       "      <td>8-12 hours</td>\n",
       "      <td>REPAIR COMPLETED</td>\n",
       "      <td>UNKNOWN</td>\n",
       "      <td>OTHER</td>\n",
       "      <td>...</td>\n",
       "      <td>Y</td>\n",
       "      <td>CATEGORY 1</td>\n",
       "      <td>11743</td>\n",
       "      <td>OTTAWA ST S</td>\n",
       "      <td>29660</td>\n",
       "      <td>NaN</td>\n",
       "      <td>NaN</td>\n",
       "      <td>NaN</td>\n",
       "      <td>N</td>\n",
       "      <td>1c8c083c-e54d-44db-8b6c-91973db0604c</td>\n",
       "    </tr>\n",
       "    <tr>\n",
       "      <th>...</th>\n",
       "      <td>...</td>\n",
       "      <td>...</td>\n",
       "      <td>...</td>\n",
       "      <td>...</td>\n",
       "      <td>...</td>\n",
       "      <td>...</td>\n",
       "      <td>...</td>\n",
       "      <td>...</td>\n",
       "      <td>...</td>\n",
       "      <td>...</td>\n",
       "      <td>...</td>\n",
       "      <td>...</td>\n",
       "      <td>...</td>\n",
       "      <td>...</td>\n",
       "      <td>...</td>\n",
       "      <td>...</td>\n",
       "      <td>...</td>\n",
       "      <td>...</td>\n",
       "      <td>...</td>\n",
       "      <td>...</td>\n",
       "      <td>...</td>\n",
       "    </tr>\n",
       "    <tr>\n",
       "      <th>2577</th>\n",
       "      <td>-80.489597</td>\n",
       "      <td>43.467957</td>\n",
       "      <td>33925</td>\n",
       "      <td>140294</td>\n",
       "      <td>2021-01-16 08:30:32+00:00</td>\n",
       "      <td>MAIN</td>\n",
       "      <td>4-8 hours</td>\n",
       "      <td>CANCELLED</td>\n",
       "      <td>UNKNOWN</td>\n",
       "      <td>UNKNOWN</td>\n",
       "      <td>...</td>\n",
       "      <td>Y</td>\n",
       "      <td>UNKNOWN</td>\n",
       "      <td>10427</td>\n",
       "      <td>BOEHMER ST</td>\n",
       "      <td>3680</td>\n",
       "      <td>NaN</td>\n",
       "      <td>NaN</td>\n",
       "      <td>NaN</td>\n",
       "      <td>Y</td>\n",
       "      <td>4ab4f0f3-960e-4a8d-882e-57dbec087fbe</td>\n",
       "    </tr>\n",
       "    <tr>\n",
       "      <th>2578</th>\n",
       "      <td>-80.489597</td>\n",
       "      <td>43.467885</td>\n",
       "      <td>33926</td>\n",
       "      <td>140296</td>\n",
       "      <td>2021-01-16 08:31:03+00:00</td>\n",
       "      <td>MAIN</td>\n",
       "      <td>4-8 hours</td>\n",
       "      <td>REPAIR COMPLETED</td>\n",
       "      <td>UNKNOWN</td>\n",
       "      <td>UNKNOWN</td>\n",
       "      <td>...</td>\n",
       "      <td>Y</td>\n",
       "      <td>UNKNOWN</td>\n",
       "      <td>10430</td>\n",
       "      <td>BOEHMER ST</td>\n",
       "      <td>3680</td>\n",
       "      <td>NaN</td>\n",
       "      <td>NaN</td>\n",
       "      <td>NaN</td>\n",
       "      <td>N</td>\n",
       "      <td>72a3e429-c580-4d7b-a8a5-ef6e81f20639</td>\n",
       "    </tr>\n",
       "    <tr>\n",
       "      <th>2595</th>\n",
       "      <td>-80.294712</td>\n",
       "      <td>43.538106</td>\n",
       "      <td>36482</td>\n",
       "      <td>140716</td>\n",
       "      <td>2021-02-17 09:53:29+00:00</td>\n",
       "      <td>MAIN</td>\n",
       "      <td>20-24 hours</td>\n",
       "      <td>CANCELLED</td>\n",
       "      <td>UNKNOWN</td>\n",
       "      <td>UNKNOWN</td>\n",
       "      <td>...</td>\n",
       "      <td>Y</td>\n",
       "      <td>UNKNOWN</td>\n",
       "      <td>0</td>\n",
       "      <td>UNKNOWN</td>\n",
       "      <td>0</td>\n",
       "      <td>NaN</td>\n",
       "      <td>NaN</td>\n",
       "      <td>NaN</td>\n",
       "      <td>Y</td>\n",
       "      <td>c3e03c5c-1489-4eb2-88e4-645ea92bdf8c</td>\n",
       "    </tr>\n",
       "    <tr>\n",
       "      <th>2596</th>\n",
       "      <td>-80.294712</td>\n",
       "      <td>43.538106</td>\n",
       "      <td>36483</td>\n",
       "      <td>140718</td>\n",
       "      <td>2021-02-17 10:03:55+00:00</td>\n",
       "      <td>MAIN</td>\n",
       "      <td>20-24 hours</td>\n",
       "      <td>CANCELLED</td>\n",
       "      <td>UNKNOWN</td>\n",
       "      <td>UNKNOWN</td>\n",
       "      <td>...</td>\n",
       "      <td>Y</td>\n",
       "      <td>UNKNOWN</td>\n",
       "      <td>0</td>\n",
       "      <td>UNKNOWN</td>\n",
       "      <td>0</td>\n",
       "      <td>NaN</td>\n",
       "      <td>NaN</td>\n",
       "      <td>NaN</td>\n",
       "      <td>Y</td>\n",
       "      <td>1ceaeaa1-570c-4a84-ab3a-8c0b1568d6af</td>\n",
       "    </tr>\n",
       "    <tr>\n",
       "      <th>2597</th>\n",
       "      <td>-80.294712</td>\n",
       "      <td>43.538106</td>\n",
       "      <td>36484</td>\n",
       "      <td>140720</td>\n",
       "      <td>2021-02-17 12:05:32+00:00</td>\n",
       "      <td>MAIN</td>\n",
       "      <td>20-24 hours</td>\n",
       "      <td>CANCELLED</td>\n",
       "      <td>UNKNOWN</td>\n",
       "      <td>UNKNOWN</td>\n",
       "      <td>...</td>\n",
       "      <td>Y</td>\n",
       "      <td>UNKNOWN</td>\n",
       "      <td>0</td>\n",
       "      <td>UNKNOWN</td>\n",
       "      <td>0</td>\n",
       "      <td>NaN</td>\n",
       "      <td>NaN</td>\n",
       "      <td>NaN</td>\n",
       "      <td>Y</td>\n",
       "      <td>50bb8e78-1a55-43cb-89ad-08707b9fcde0</td>\n",
       "    </tr>\n",
       "  </tbody>\n",
       "</table>\n",
       "<p>161 rows × 25 columns</p>\n",
       "</div>"
      ],
      "text/plain": [
       "      LONGITUDE   LATITUDE  OBJECTID  WATBREAKINCIDENTID  \\\n",
       "8    -80.486628  43.436634      7881                2047   \n",
       "22   -80.483756  43.435221      8007                  67   \n",
       "27   -80.435665  43.431450      8012                1113   \n",
       "43   -80.479748  43.431306      8028                1384   \n",
       "83   -80.480002  43.431070      8068                 266   \n",
       "...         ...        ...       ...                 ...   \n",
       "2577 -80.489597  43.467957     33925              140294   \n",
       "2578 -80.489597  43.467885     33926              140296   \n",
       "2595 -80.294712  43.538106     36482              140716   \n",
       "2596 -80.294712  43.538106     36483              140718   \n",
       "2597 -80.294712  43.538106     36484              140720   \n",
       "\n",
       "                 INCIDENT_DATE BREAK_TYPE HOUR_IMPACTED            STATUS  \\\n",
       "8    2015-03-12 00:00:00+00:00    SERVICE    8-12 hours  REPAIR COMPLETED   \n",
       "22   2003-04-28 00:00:00+00:00       MAIN    8-12 hours  REPAIR COMPLETED   \n",
       "27   2007-03-07 00:00:00+00:00       MAIN    8-12 hours  REPAIR COMPLETED   \n",
       "43   2009-04-30 00:00:00+00:00       MAIN    8-12 hours  REPAIR COMPLETED   \n",
       "83   1999-01-27 00:00:00+00:00       MAIN    8-12 hours  REPAIR COMPLETED   \n",
       "...                        ...        ...           ...               ...   \n",
       "2577 2021-01-16 08:30:32+00:00       MAIN     4-8 hours         CANCELLED   \n",
       "2578 2021-01-16 08:31:03+00:00       MAIN     4-8 hours  REPAIR COMPLETED   \n",
       "2595 2021-02-17 09:53:29+00:00       MAIN   20-24 hours         CANCELLED   \n",
       "2596 2021-02-17 10:03:55+00:00       MAIN   20-24 hours         CANCELLED   \n",
       "2597 2021-02-17 12:05:32+00:00       MAIN   20-24 hours         CANCELLED   \n",
       "\n",
       "     BREAK_NATURE BREAK_APPARENT_CAUSE  ... ANODE_INSTALLED  \\\n",
       "8         UNKNOWN                OTHER  ...               Y   \n",
       "22        UNKNOWN                OTHER  ...               Y   \n",
       "27        UNKNOWN                OTHER  ...               Y   \n",
       "43        UNKNOWN                OTHER  ...               Y   \n",
       "83        UNKNOWN                OTHER  ...               Y   \n",
       "...           ...                  ...  ...             ...   \n",
       "2577      UNKNOWN              UNKNOWN  ...               Y   \n",
       "2578      UNKNOWN              UNKNOWN  ...               Y   \n",
       "2595      UNKNOWN              UNKNOWN  ...               Y   \n",
       "2596      UNKNOWN              UNKNOWN  ...               Y   \n",
       "2597      UNKNOWN              UNKNOWN  ...               Y   \n",
       "\n",
       "     BREAK_CATEGORIZATION ROADSEGMENTID        STREET  ASSETID ASSET_SIZE  \\\n",
       "8              CATEGORY 1         11399       MILL ST  4101475        NaN   \n",
       "22             CATEGORY 1         11413       MILL ST    26730        NaN   \n",
       "27             CATEGORY 1         12095  FLORENCE AVE    14690        NaN   \n",
       "43             CATEGORY 1         11743   OTTAWA ST S    95460        NaN   \n",
       "83             CATEGORY 1         11743   OTTAWA ST S    29660        NaN   \n",
       "...                   ...           ...           ...      ...        ...   \n",
       "2577              UNKNOWN         10427    BOEHMER ST     3680        NaN   \n",
       "2578              UNKNOWN         10430    BOEHMER ST     3680        NaN   \n",
       "2595              UNKNOWN             0       UNKNOWN        0        NaN   \n",
       "2596              UNKNOWN             0       UNKNOWN        0        NaN   \n",
       "2597              UNKNOWN             0       UNKNOWN        0        NaN   \n",
       "\n",
       "     ASSET_YEAR_INSTALLED  ASSET_MATERIAL ASSET_EXISTS  \\\n",
       "8                     NaN             NaN            N   \n",
       "22                    NaN             NaN            N   \n",
       "27                    NaN             NaN            N   \n",
       "43                    NaN             NaN            N   \n",
       "83                    NaN             NaN            N   \n",
       "...                   ...             ...          ...   \n",
       "2577                  NaN             NaN            Y   \n",
       "2578                  NaN             NaN            N   \n",
       "2595                  NaN             NaN            Y   \n",
       "2596                  NaN             NaN            Y   \n",
       "2597                  NaN             NaN            Y   \n",
       "\n",
       "                                  GLOBALID  \n",
       "8     536f67ed-4ec6-470e-b0d2-7e916e639d6a  \n",
       "22    2b7d9979-3508-4727-b20d-54a50b6a4e9c  \n",
       "27    d9a5c6eb-e57a-4e2d-84b0-0962f6faa35e  \n",
       "43    e9f999c9-9b13-4951-aee7-baea12cd9d9e  \n",
       "83    1c8c083c-e54d-44db-8b6c-91973db0604c  \n",
       "...                                    ...  \n",
       "2577  4ab4f0f3-960e-4a8d-882e-57dbec087fbe  \n",
       "2578  72a3e429-c580-4d7b-a8a5-ef6e81f20639  \n",
       "2595  c3e03c5c-1489-4eb2-88e4-645ea92bdf8c  \n",
       "2596  1ceaeaa1-570c-4a84-ab3a-8c0b1568d6af  \n",
       "2597  50bb8e78-1a55-43cb-89ad-08707b9fcde0  \n",
       "\n",
       "[161 rows x 25 columns]"
      ]
     },
     "execution_count": 201,
     "metadata": {},
     "output_type": "execute_result"
    }
   ],
   "source": [
    "# pd.set_option(\"display.max_rows\", None)\n",
    "break_data.loc[break_data.ASSET_SIZE.isna()]"
   ]
  },
  {
   "attachments": {},
   "cell_type": "markdown",
   "id": "6897254a",
   "metadata": {},
   "source": [
    "Unfortunately 13 out of the previous 16 null values for street names occur in this set. But that's okay for those ones, it just means that we might only end up with 13 null values instead of the current 161. It's better to figure out how to fill in the majority of the values and worry about those few afterwards."
   ]
  },
  {
   "cell_type": "markdown",
   "id": "ab88caa9",
   "metadata": {},
   "source": [
    "What I will try to do next is look at a sort of breakdown of the asset sizes, listed with their asset ID's and corresponding street names, and see if we can match up any non-null asset sizes from the same street as asset sizes with null values. There's a possibility of imputing the average asset size value from the same street for the null values. For now I am jusy hypothesizing this, I'm not entirely sure if it'll work but why not try right?"
   ]
  },
  {
   "cell_type": "code",
   "execution_count": 202,
   "id": "217591c8",
   "metadata": {},
   "outputs": [
    {
     "data": {
      "text/html": [
       "<div>\n",
       "<style scoped>\n",
       "    .dataframe tbody tr th:only-of-type {\n",
       "        vertical-align: middle;\n",
       "    }\n",
       "\n",
       "    .dataframe tbody tr th {\n",
       "        vertical-align: top;\n",
       "    }\n",
       "\n",
       "    .dataframe thead th {\n",
       "        text-align: right;\n",
       "    }\n",
       "</style>\n",
       "<table border=\"1\" class=\"dataframe\">\n",
       "  <thead>\n",
       "    <tr style=\"text-align: right;\">\n",
       "      <th></th>\n",
       "      <th>STREET</th>\n",
       "      <th>ASSETID</th>\n",
       "      <th>ASSET_SIZE</th>\n",
       "    </tr>\n",
       "  </thead>\n",
       "  <tbody>\n",
       "    <tr>\n",
       "      <th>2418</th>\n",
       "      <td>SCHWEITZER ST</td>\n",
       "      <td>442</td>\n",
       "      <td>NaN</td>\n",
       "    </tr>\n",
       "    <tr>\n",
       "      <th>1421</th>\n",
       "      <td>BRIDGE ST E</td>\n",
       "      <td>444</td>\n",
       "      <td>NaN</td>\n",
       "    </tr>\n",
       "    <tr>\n",
       "      <th>1572</th>\n",
       "      <td>OTTAWA ST S</td>\n",
       "      <td>29680</td>\n",
       "      <td>NaN</td>\n",
       "    </tr>\n",
       "    <tr>\n",
       "      <th>2326</th>\n",
       "      <td>OTTAWA ST S</td>\n",
       "      <td>29680</td>\n",
       "      <td>NaN</td>\n",
       "    </tr>\n",
       "    <tr>\n",
       "      <th>996</th>\n",
       "      <td>BECKER ST</td>\n",
       "      <td>95100</td>\n",
       "      <td>NaN</td>\n",
       "    </tr>\n",
       "    <tr>\n",
       "      <th>2039</th>\n",
       "      <td>UNKNOWN</td>\n",
       "      <td>0</td>\n",
       "      <td>NaN</td>\n",
       "    </tr>\n",
       "    <tr>\n",
       "      <th>244</th>\n",
       "      <td>FLORENCE AVE</td>\n",
       "      <td>14680</td>\n",
       "      <td>NaN</td>\n",
       "    </tr>\n",
       "    <tr>\n",
       "      <th>2505</th>\n",
       "      <td>MILL ST</td>\n",
       "      <td>4101474</td>\n",
       "      <td>NaN</td>\n",
       "    </tr>\n",
       "    <tr>\n",
       "      <th>1253</th>\n",
       "      <td>GOLFVIEW PL</td>\n",
       "      <td>140414</td>\n",
       "      <td>NaN</td>\n",
       "    </tr>\n",
       "    <tr>\n",
       "      <th>817</th>\n",
       "      <td>OTTAWA ST S</td>\n",
       "      <td>29680</td>\n",
       "      <td>NaN</td>\n",
       "    </tr>\n",
       "  </tbody>\n",
       "</table>\n",
       "</div>"
      ],
      "text/plain": [
       "             STREET  ASSETID  ASSET_SIZE\n",
       "2418  SCHWEITZER ST      442         NaN\n",
       "1421    BRIDGE ST E      444         NaN\n",
       "1572    OTTAWA ST S    29680         NaN\n",
       "2326    OTTAWA ST S    29680         NaN\n",
       "996       BECKER ST    95100         NaN\n",
       "2039        UNKNOWN        0         NaN\n",
       "244    FLORENCE AVE    14680         NaN\n",
       "2505        MILL ST  4101474         NaN\n",
       "1253    GOLFVIEW PL   140414         NaN\n",
       "817     OTTAWA ST S    29680         NaN"
      ]
     },
     "execution_count": 202,
     "metadata": {},
     "output_type": "execute_result"
    }
   ],
   "source": [
    "asset_size = break_data[['STREET', 'ASSETID', 'ASSET_SIZE']]\n",
    "# cherry picking null asset sizes to see which streets we could look at\n",
    "asset_size.loc[asset_size.ASSET_SIZE.isna()].sample(10)"
   ]
  },
  {
   "cell_type": "markdown",
   "id": "2fe3bcff",
   "metadata": {},
   "source": [
    "Next I'll see if there are any matching asset ID's for null and non-null asset sizes. If there are any matches, then it could be safe to say that I could impute the null values with the ID's matching asset size. If this doesn't prove to be true then I'll have to explore more options."
   ]
  },
  {
   "cell_type": "code",
   "execution_count": 203,
   "id": "e5582636",
   "metadata": {},
   "outputs": [
    {
     "data": {
      "text/html": [
       "<div>\n",
       "<style scoped>\n",
       "    .dataframe tbody tr th:only-of-type {\n",
       "        vertical-align: middle;\n",
       "    }\n",
       "\n",
       "    .dataframe tbody tr th {\n",
       "        vertical-align: top;\n",
       "    }\n",
       "\n",
       "    .dataframe thead th {\n",
       "        text-align: right;\n",
       "    }\n",
       "</style>\n",
       "<table border=\"1\" class=\"dataframe\">\n",
       "  <thead>\n",
       "    <tr style=\"text-align: right;\">\n",
       "      <th></th>\n",
       "      <th>STREET</th>\n",
       "      <th>ASSETID</th>\n",
       "      <th>ASSET_SIZE</th>\n",
       "    </tr>\n",
       "  </thead>\n",
       "  <tbody>\n",
       "    <tr>\n",
       "      <th>27</th>\n",
       "      <td>FLORENCE AVE</td>\n",
       "      <td>14690</td>\n",
       "      <td>NaN</td>\n",
       "    </tr>\n",
       "    <tr>\n",
       "      <th>147</th>\n",
       "      <td>FLORENCE AVE</td>\n",
       "      <td>14700</td>\n",
       "      <td>NaN</td>\n",
       "    </tr>\n",
       "    <tr>\n",
       "      <th>244</th>\n",
       "      <td>FLORENCE AVE</td>\n",
       "      <td>14680</td>\n",
       "      <td>NaN</td>\n",
       "    </tr>\n",
       "    <tr>\n",
       "      <th>288</th>\n",
       "      <td>FLORENCE AVE</td>\n",
       "      <td>14690</td>\n",
       "      <td>NaN</td>\n",
       "    </tr>\n",
       "    <tr>\n",
       "      <th>738</th>\n",
       "      <td>FLORENCE AVE</td>\n",
       "      <td>14680</td>\n",
       "      <td>NaN</td>\n",
       "    </tr>\n",
       "    <tr>\n",
       "      <th>1313</th>\n",
       "      <td>FLORENCE AVE</td>\n",
       "      <td>14680</td>\n",
       "      <td>NaN</td>\n",
       "    </tr>\n",
       "    <tr>\n",
       "      <th>1410</th>\n",
       "      <td>FLORENCE AVE</td>\n",
       "      <td>14700</td>\n",
       "      <td>NaN</td>\n",
       "    </tr>\n",
       "    <tr>\n",
       "      <th>1454</th>\n",
       "      <td>FLORENCE AVE</td>\n",
       "      <td>14690</td>\n",
       "      <td>NaN</td>\n",
       "    </tr>\n",
       "    <tr>\n",
       "      <th>1518</th>\n",
       "      <td>FLORENCE AVE</td>\n",
       "      <td>14700</td>\n",
       "      <td>NaN</td>\n",
       "    </tr>\n",
       "    <tr>\n",
       "      <th>1734</th>\n",
       "      <td>FLORENCE AVE</td>\n",
       "      <td>14690</td>\n",
       "      <td>NaN</td>\n",
       "    </tr>\n",
       "    <tr>\n",
       "      <th>1803</th>\n",
       "      <td>FLORENCE AVE</td>\n",
       "      <td>14700</td>\n",
       "      <td>NaN</td>\n",
       "    </tr>\n",
       "    <tr>\n",
       "      <th>1939</th>\n",
       "      <td>FLORENCE AVE</td>\n",
       "      <td>14690</td>\n",
       "      <td>NaN</td>\n",
       "    </tr>\n",
       "    <tr>\n",
       "      <th>2476</th>\n",
       "      <td>FLORENCE AVE</td>\n",
       "      <td>14700</td>\n",
       "      <td>NaN</td>\n",
       "    </tr>\n",
       "    <tr>\n",
       "      <th>2486</th>\n",
       "      <td>FLORENCE AVE</td>\n",
       "      <td>14700</td>\n",
       "      <td>NaN</td>\n",
       "    </tr>\n",
       "  </tbody>\n",
       "</table>\n",
       "</div>"
      ],
      "text/plain": [
       "            STREET  ASSETID  ASSET_SIZE\n",
       "27    FLORENCE AVE    14690         NaN\n",
       "147   FLORENCE AVE    14700         NaN\n",
       "244   FLORENCE AVE    14680         NaN\n",
       "288   FLORENCE AVE    14690         NaN\n",
       "738   FLORENCE AVE    14680         NaN\n",
       "1313  FLORENCE AVE    14680         NaN\n",
       "1410  FLORENCE AVE    14700         NaN\n",
       "1454  FLORENCE AVE    14690         NaN\n",
       "1518  FLORENCE AVE    14700         NaN\n",
       "1734  FLORENCE AVE    14690         NaN\n",
       "1803  FLORENCE AVE    14700         NaN\n",
       "1939  FLORENCE AVE    14690         NaN\n",
       "2476  FLORENCE AVE    14700         NaN\n",
       "2486  FLORENCE AVE    14700         NaN"
      ]
     },
     "execution_count": 203,
     "metadata": {},
     "output_type": "execute_result"
    }
   ],
   "source": [
    "asset_size[asset_size['STREET'] == 'FLORENCE AVE']"
   ]
  },
  {
   "cell_type": "markdown",
   "id": "c507cb1f",
   "metadata": {},
   "source": [
    "Unfortunately there are no matching ID's for this street. Let's check a few more streets to be sure that this trend might not hold..."
   ]
  },
  {
   "cell_type": "code",
   "execution_count": 204,
   "id": "ff99082d",
   "metadata": {},
   "outputs": [
    {
     "data": {
      "text/html": [
       "<div>\n",
       "<style scoped>\n",
       "    .dataframe tbody tr th:only-of-type {\n",
       "        vertical-align: middle;\n",
       "    }\n",
       "\n",
       "    .dataframe tbody tr th {\n",
       "        vertical-align: top;\n",
       "    }\n",
       "\n",
       "    .dataframe thead th {\n",
       "        text-align: right;\n",
       "    }\n",
       "</style>\n",
       "<table border=\"1\" class=\"dataframe\">\n",
       "  <thead>\n",
       "    <tr style=\"text-align: right;\">\n",
       "      <th></th>\n",
       "      <th>STREET</th>\n",
       "      <th>ASSETID</th>\n",
       "      <th>ASSET_SIZE</th>\n",
       "    </tr>\n",
       "  </thead>\n",
       "  <tbody>\n",
       "    <tr>\n",
       "      <th>43</th>\n",
       "      <td>OTTAWA ST S</td>\n",
       "      <td>95460</td>\n",
       "      <td>NaN</td>\n",
       "    </tr>\n",
       "    <tr>\n",
       "      <th>83</th>\n",
       "      <td>OTTAWA ST S</td>\n",
       "      <td>29660</td>\n",
       "      <td>NaN</td>\n",
       "    </tr>\n",
       "    <tr>\n",
       "      <th>395</th>\n",
       "      <td>OTTAWA ST S</td>\n",
       "      <td>64330</td>\n",
       "      <td>NaN</td>\n",
       "    </tr>\n",
       "    <tr>\n",
       "      <th>490</th>\n",
       "      <td>OTTAWA ST S</td>\n",
       "      <td>95460</td>\n",
       "      <td>NaN</td>\n",
       "    </tr>\n",
       "    <tr>\n",
       "      <th>523</th>\n",
       "      <td>OTTAWA ST S</td>\n",
       "      <td>29630</td>\n",
       "      <td>150.0</td>\n",
       "    </tr>\n",
       "    <tr>\n",
       "      <th>596</th>\n",
       "      <td>OTTAWA ST S</td>\n",
       "      <td>29620</td>\n",
       "      <td>150.0</td>\n",
       "    </tr>\n",
       "    <tr>\n",
       "      <th>699</th>\n",
       "      <td>OTTAWA ST S</td>\n",
       "      <td>29620</td>\n",
       "      <td>150.0</td>\n",
       "    </tr>\n",
       "    <tr>\n",
       "      <th>748</th>\n",
       "      <td>OTTAWA ST S</td>\n",
       "      <td>95460</td>\n",
       "      <td>NaN</td>\n",
       "    </tr>\n",
       "    <tr>\n",
       "      <th>753</th>\n",
       "      <td>OTTAWA ST S</td>\n",
       "      <td>29660</td>\n",
       "      <td>NaN</td>\n",
       "    </tr>\n",
       "    <tr>\n",
       "      <th>805</th>\n",
       "      <td>OTTAWA ST S</td>\n",
       "      <td>29630</td>\n",
       "      <td>150.0</td>\n",
       "    </tr>\n",
       "    <tr>\n",
       "      <th>817</th>\n",
       "      <td>OTTAWA ST S</td>\n",
       "      <td>29680</td>\n",
       "      <td>NaN</td>\n",
       "    </tr>\n",
       "    <tr>\n",
       "      <th>926</th>\n",
       "      <td>OTTAWA ST S</td>\n",
       "      <td>29630</td>\n",
       "      <td>150.0</td>\n",
       "    </tr>\n",
       "    <tr>\n",
       "      <th>1056</th>\n",
       "      <td>OTTAWA ST S</td>\n",
       "      <td>29680</td>\n",
       "      <td>NaN</td>\n",
       "    </tr>\n",
       "    <tr>\n",
       "      <th>1060</th>\n",
       "      <td>OTTAWA ST S</td>\n",
       "      <td>95460</td>\n",
       "      <td>NaN</td>\n",
       "    </tr>\n",
       "    <tr>\n",
       "      <th>1227</th>\n",
       "      <td>OTTAWA ST S</td>\n",
       "      <td>29680</td>\n",
       "      <td>NaN</td>\n",
       "    </tr>\n",
       "    <tr>\n",
       "      <th>1358</th>\n",
       "      <td>OTTAWA ST S</td>\n",
       "      <td>64330</td>\n",
       "      <td>NaN</td>\n",
       "    </tr>\n",
       "    <tr>\n",
       "      <th>1491</th>\n",
       "      <td>OTTAWA ST S</td>\n",
       "      <td>29680</td>\n",
       "      <td>NaN</td>\n",
       "    </tr>\n",
       "    <tr>\n",
       "      <th>1572</th>\n",
       "      <td>OTTAWA ST S</td>\n",
       "      <td>29680</td>\n",
       "      <td>NaN</td>\n",
       "    </tr>\n",
       "    <tr>\n",
       "      <th>1585</th>\n",
       "      <td>OTTAWA ST S</td>\n",
       "      <td>29630</td>\n",
       "      <td>150.0</td>\n",
       "    </tr>\n",
       "    <tr>\n",
       "      <th>1732</th>\n",
       "      <td>OTTAWA ST S</td>\n",
       "      <td>13550</td>\n",
       "      <td>450.0</td>\n",
       "    </tr>\n",
       "    <tr>\n",
       "      <th>1851</th>\n",
       "      <td>OTTAWA ST S</td>\n",
       "      <td>29630</td>\n",
       "      <td>150.0</td>\n",
       "    </tr>\n",
       "    <tr>\n",
       "      <th>1901</th>\n",
       "      <td>OTTAWA ST S</td>\n",
       "      <td>58280</td>\n",
       "      <td>300.0</td>\n",
       "    </tr>\n",
       "    <tr>\n",
       "      <th>2046</th>\n",
       "      <td>OTTAWA ST S</td>\n",
       "      <td>29630</td>\n",
       "      <td>150.0</td>\n",
       "    </tr>\n",
       "    <tr>\n",
       "      <th>2050</th>\n",
       "      <td>OTTAWA ST S</td>\n",
       "      <td>29640</td>\n",
       "      <td>150.0</td>\n",
       "    </tr>\n",
       "    <tr>\n",
       "      <th>2139</th>\n",
       "      <td>OTTAWA ST S</td>\n",
       "      <td>29630</td>\n",
       "      <td>150.0</td>\n",
       "    </tr>\n",
       "    <tr>\n",
       "      <th>2326</th>\n",
       "      <td>OTTAWA ST S</td>\n",
       "      <td>29680</td>\n",
       "      <td>NaN</td>\n",
       "    </tr>\n",
       "    <tr>\n",
       "      <th>2345</th>\n",
       "      <td>OTTAWA ST S</td>\n",
       "      <td>29670</td>\n",
       "      <td>150.0</td>\n",
       "    </tr>\n",
       "    <tr>\n",
       "      <th>2349</th>\n",
       "      <td>OTTAWA ST S</td>\n",
       "      <td>29680</td>\n",
       "      <td>NaN</td>\n",
       "    </tr>\n",
       "    <tr>\n",
       "      <th>2432</th>\n",
       "      <td>OTTAWA ST S</td>\n",
       "      <td>95460</td>\n",
       "      <td>NaN</td>\n",
       "    </tr>\n",
       "    <tr>\n",
       "      <th>2720</th>\n",
       "      <td>OTTAWA ST S</td>\n",
       "      <td>58380</td>\n",
       "      <td>450.0</td>\n",
       "    </tr>\n",
       "  </tbody>\n",
       "</table>\n",
       "</div>"
      ],
      "text/plain": [
       "           STREET  ASSETID  ASSET_SIZE\n",
       "43    OTTAWA ST S    95460         NaN\n",
       "83    OTTAWA ST S    29660         NaN\n",
       "395   OTTAWA ST S    64330         NaN\n",
       "490   OTTAWA ST S    95460         NaN\n",
       "523   OTTAWA ST S    29630       150.0\n",
       "596   OTTAWA ST S    29620       150.0\n",
       "699   OTTAWA ST S    29620       150.0\n",
       "748   OTTAWA ST S    95460         NaN\n",
       "753   OTTAWA ST S    29660         NaN\n",
       "805   OTTAWA ST S    29630       150.0\n",
       "817   OTTAWA ST S    29680         NaN\n",
       "926   OTTAWA ST S    29630       150.0\n",
       "1056  OTTAWA ST S    29680         NaN\n",
       "1060  OTTAWA ST S    95460         NaN\n",
       "1227  OTTAWA ST S    29680         NaN\n",
       "1358  OTTAWA ST S    64330         NaN\n",
       "1491  OTTAWA ST S    29680         NaN\n",
       "1572  OTTAWA ST S    29680         NaN\n",
       "1585  OTTAWA ST S    29630       150.0\n",
       "1732  OTTAWA ST S    13550       450.0\n",
       "1851  OTTAWA ST S    29630       150.0\n",
       "1901  OTTAWA ST S    58280       300.0\n",
       "2046  OTTAWA ST S    29630       150.0\n",
       "2050  OTTAWA ST S    29640       150.0\n",
       "2139  OTTAWA ST S    29630       150.0\n",
       "2326  OTTAWA ST S    29680         NaN\n",
       "2345  OTTAWA ST S    29670       150.0\n",
       "2349  OTTAWA ST S    29680         NaN\n",
       "2432  OTTAWA ST S    95460         NaN\n",
       "2720  OTTAWA ST S    58380       450.0"
      ]
     },
     "execution_count": 204,
     "metadata": {},
     "output_type": "execute_result"
    }
   ],
   "source": [
    "asset_size[asset_size['STREET'] == 'OTTAWA ST S']"
   ]
  },
  {
   "cell_type": "code",
   "execution_count": 205,
   "id": "be293b29",
   "metadata": {},
   "outputs": [
    {
     "name": "stdout",
     "output_type": "stream",
     "text": [
      "['MILL ST' 'FLORENCE AVE' 'OTTAWA ST S' 'WEBER ST E' 'OTTAWA ST N'\n",
      " 'UNKNOWN' 'ST CLAIR AVE' 'BRIDGE ST E' 'CORAL CRES' 'BOEHMER ST'\n",
      " 'MAUSSER AVE' 'VALEWOOD PL' 'WINDOM RD' 'REX DR' 'NORFOLK CRES' 'KEHL ST'\n",
      " 'HEIMAN ST' 'HEBEL PL' 'GUERIN AVE' 'BECKER ST' 'STIRLING AVE S'\n",
      " 'MAURICE ST' 'SOUTHILL DR' 'WALKER ST' 'EIGHTH AVE' 'FAIRMOUNT RD'\n",
      " 'FERGUS AVE' 'HUBER ST' 'GOLFVIEW PL' 'PATTANDON AVE' 'HOFFMAN ST'\n",
      " 'SYDNEY ST S' 'ANN ST' 'EDWIN ST' 'SCHWEITZER ST']\n"
     ]
    }
   ],
   "source": [
    "# display street names with no asset size\n",
    "streets_with_na = asset_size.STREET[asset_size['ASSET_SIZE'].isna()].unique()\n",
    "print(streets_with_na)"
   ]
  },
  {
   "cell_type": "code",
   "execution_count": 206,
   "id": "6dab9497",
   "metadata": {},
   "outputs": [
    {
     "data": {
      "text/html": [
       "<div>\n",
       "<style scoped>\n",
       "    .dataframe tbody tr th:only-of-type {\n",
       "        vertical-align: middle;\n",
       "    }\n",
       "\n",
       "    .dataframe tbody tr th {\n",
       "        vertical-align: top;\n",
       "    }\n",
       "\n",
       "    .dataframe thead th {\n",
       "        text-align: right;\n",
       "    }\n",
       "</style>\n",
       "<table border=\"1\" class=\"dataframe\">\n",
       "  <thead>\n",
       "    <tr style=\"text-align: right;\">\n",
       "      <th></th>\n",
       "      <th>STREET</th>\n",
       "      <th>ASSETID</th>\n",
       "      <th>ASSET_SIZE</th>\n",
       "    </tr>\n",
       "  </thead>\n",
       "  <tbody>\n",
       "    <tr>\n",
       "      <th>29</th>\n",
       "      <td>WEBER ST E</td>\n",
       "      <td>41030</td>\n",
       "      <td>150.0</td>\n",
       "    </tr>\n",
       "    <tr>\n",
       "      <th>101</th>\n",
       "      <td>WEBER ST E</td>\n",
       "      <td>79238</td>\n",
       "      <td>NaN</td>\n",
       "    </tr>\n",
       "    <tr>\n",
       "      <th>110</th>\n",
       "      <td>WEBER ST E</td>\n",
       "      <td>40960</td>\n",
       "      <td>NaN</td>\n",
       "    </tr>\n",
       "    <tr>\n",
       "      <th>263</th>\n",
       "      <td>WEBER ST E</td>\n",
       "      <td>40820</td>\n",
       "      <td>NaN</td>\n",
       "    </tr>\n",
       "    <tr>\n",
       "      <th>310</th>\n",
       "      <td>WEBER ST E</td>\n",
       "      <td>41030</td>\n",
       "      <td>150.0</td>\n",
       "    </tr>\n",
       "    <tr>\n",
       "      <th>499</th>\n",
       "      <td>WEBER ST E</td>\n",
       "      <td>40760</td>\n",
       "      <td>NaN</td>\n",
       "    </tr>\n",
       "    <tr>\n",
       "      <th>528</th>\n",
       "      <td>WEBER ST E</td>\n",
       "      <td>41030</td>\n",
       "      <td>150.0</td>\n",
       "    </tr>\n",
       "    <tr>\n",
       "      <th>565</th>\n",
       "      <td>WEBER ST E</td>\n",
       "      <td>40960</td>\n",
       "      <td>NaN</td>\n",
       "    </tr>\n",
       "    <tr>\n",
       "      <th>664</th>\n",
       "      <td>WEBER ST E</td>\n",
       "      <td>40960</td>\n",
       "      <td>NaN</td>\n",
       "    </tr>\n",
       "    <tr>\n",
       "      <th>849</th>\n",
       "      <td>WEBER ST E</td>\n",
       "      <td>40960</td>\n",
       "      <td>NaN</td>\n",
       "    </tr>\n",
       "    <tr>\n",
       "      <th>857</th>\n",
       "      <td>WEBER ST E</td>\n",
       "      <td>40770</td>\n",
       "      <td>NaN</td>\n",
       "    </tr>\n",
       "    <tr>\n",
       "      <th>870</th>\n",
       "      <td>WEBER ST E</td>\n",
       "      <td>40800</td>\n",
       "      <td>NaN</td>\n",
       "    </tr>\n",
       "    <tr>\n",
       "      <th>920</th>\n",
       "      <td>WEBER ST E</td>\n",
       "      <td>40980</td>\n",
       "      <td>NaN</td>\n",
       "    </tr>\n",
       "    <tr>\n",
       "      <th>983</th>\n",
       "      <td>WEBER ST E</td>\n",
       "      <td>40880</td>\n",
       "      <td>NaN</td>\n",
       "    </tr>\n",
       "    <tr>\n",
       "      <th>1180</th>\n",
       "      <td>WEBER ST E</td>\n",
       "      <td>41030</td>\n",
       "      <td>150.0</td>\n",
       "    </tr>\n",
       "    <tr>\n",
       "      <th>1221</th>\n",
       "      <td>WEBER ST E</td>\n",
       "      <td>41030</td>\n",
       "      <td>150.0</td>\n",
       "    </tr>\n",
       "    <tr>\n",
       "      <th>1287</th>\n",
       "      <td>WEBER ST E</td>\n",
       "      <td>40850</td>\n",
       "      <td>NaN</td>\n",
       "    </tr>\n",
       "    <tr>\n",
       "      <th>1428</th>\n",
       "      <td>WEBER ST E</td>\n",
       "      <td>41030</td>\n",
       "      <td>150.0</td>\n",
       "    </tr>\n",
       "    <tr>\n",
       "      <th>1552</th>\n",
       "      <td>WEBER ST E</td>\n",
       "      <td>40900</td>\n",
       "      <td>NaN</td>\n",
       "    </tr>\n",
       "    <tr>\n",
       "      <th>1666</th>\n",
       "      <td>WEBER ST E</td>\n",
       "      <td>41000</td>\n",
       "      <td>150.0</td>\n",
       "    </tr>\n",
       "    <tr>\n",
       "      <th>1707</th>\n",
       "      <td>WEBER ST E</td>\n",
       "      <td>62030</td>\n",
       "      <td>300.0</td>\n",
       "    </tr>\n",
       "    <tr>\n",
       "      <th>1784</th>\n",
       "      <td>WEBER ST E</td>\n",
       "      <td>40810</td>\n",
       "      <td>NaN</td>\n",
       "    </tr>\n",
       "    <tr>\n",
       "      <th>1903</th>\n",
       "      <td>WEBER ST E</td>\n",
       "      <td>40980</td>\n",
       "      <td>NaN</td>\n",
       "    </tr>\n",
       "    <tr>\n",
       "      <th>1961</th>\n",
       "      <td>WEBER ST E</td>\n",
       "      <td>40870</td>\n",
       "      <td>NaN</td>\n",
       "    </tr>\n",
       "    <tr>\n",
       "      <th>2183</th>\n",
       "      <td>WEBER ST E</td>\n",
       "      <td>41030</td>\n",
       "      <td>150.0</td>\n",
       "    </tr>\n",
       "    <tr>\n",
       "      <th>2259</th>\n",
       "      <td>WEBER ST E</td>\n",
       "      <td>41030</td>\n",
       "      <td>150.0</td>\n",
       "    </tr>\n",
       "    <tr>\n",
       "      <th>2335</th>\n",
       "      <td>WEBER ST E</td>\n",
       "      <td>41010</td>\n",
       "      <td>150.0</td>\n",
       "    </tr>\n",
       "    <tr>\n",
       "      <th>2367</th>\n",
       "      <td>WEBER ST E</td>\n",
       "      <td>41040</td>\n",
       "      <td>300.0</td>\n",
       "    </tr>\n",
       "    <tr>\n",
       "      <th>2430</th>\n",
       "      <td>WEBER ST E</td>\n",
       "      <td>40960</td>\n",
       "      <td>NaN</td>\n",
       "    </tr>\n",
       "    <tr>\n",
       "      <th>2457</th>\n",
       "      <td>WEBER ST E</td>\n",
       "      <td>95308</td>\n",
       "      <td>NaN</td>\n",
       "    </tr>\n",
       "    <tr>\n",
       "      <th>2458</th>\n",
       "      <td>WEBER ST E</td>\n",
       "      <td>90446</td>\n",
       "      <td>NaN</td>\n",
       "    </tr>\n",
       "    <tr>\n",
       "      <th>2459</th>\n",
       "      <td>WEBER ST E</td>\n",
       "      <td>95014</td>\n",
       "      <td>NaN</td>\n",
       "    </tr>\n",
       "    <tr>\n",
       "      <th>2460</th>\n",
       "      <td>WEBER ST E</td>\n",
       "      <td>40790</td>\n",
       "      <td>NaN</td>\n",
       "    </tr>\n",
       "    <tr>\n",
       "      <th>2491</th>\n",
       "      <td>WEBER ST E</td>\n",
       "      <td>41000</td>\n",
       "      <td>150.0</td>\n",
       "    </tr>\n",
       "    <tr>\n",
       "      <th>2496</th>\n",
       "      <td>WEBER ST E</td>\n",
       "      <td>41030</td>\n",
       "      <td>150.0</td>\n",
       "    </tr>\n",
       "    <tr>\n",
       "      <th>2592</th>\n",
       "      <td>WEBER ST E</td>\n",
       "      <td>41030</td>\n",
       "      <td>150.0</td>\n",
       "    </tr>\n",
       "    <tr>\n",
       "      <th>2669</th>\n",
       "      <td>WEBER ST E</td>\n",
       "      <td>41030</td>\n",
       "      <td>150.0</td>\n",
       "    </tr>\n",
       "  </tbody>\n",
       "</table>\n",
       "</div>"
      ],
      "text/plain": [
       "          STREET  ASSETID  ASSET_SIZE\n",
       "29    WEBER ST E    41030       150.0\n",
       "101   WEBER ST E    79238         NaN\n",
       "110   WEBER ST E    40960         NaN\n",
       "263   WEBER ST E    40820         NaN\n",
       "310   WEBER ST E    41030       150.0\n",
       "499   WEBER ST E    40760         NaN\n",
       "528   WEBER ST E    41030       150.0\n",
       "565   WEBER ST E    40960         NaN\n",
       "664   WEBER ST E    40960         NaN\n",
       "849   WEBER ST E    40960         NaN\n",
       "857   WEBER ST E    40770         NaN\n",
       "870   WEBER ST E    40800         NaN\n",
       "920   WEBER ST E    40980         NaN\n",
       "983   WEBER ST E    40880         NaN\n",
       "1180  WEBER ST E    41030       150.0\n",
       "1221  WEBER ST E    41030       150.0\n",
       "1287  WEBER ST E    40850         NaN\n",
       "1428  WEBER ST E    41030       150.0\n",
       "1552  WEBER ST E    40900         NaN\n",
       "1666  WEBER ST E    41000       150.0\n",
       "1707  WEBER ST E    62030       300.0\n",
       "1784  WEBER ST E    40810         NaN\n",
       "1903  WEBER ST E    40980         NaN\n",
       "1961  WEBER ST E    40870         NaN\n",
       "2183  WEBER ST E    41030       150.0\n",
       "2259  WEBER ST E    41030       150.0\n",
       "2335  WEBER ST E    41010       150.0\n",
       "2367  WEBER ST E    41040       300.0\n",
       "2430  WEBER ST E    40960         NaN\n",
       "2457  WEBER ST E    95308         NaN\n",
       "2458  WEBER ST E    90446         NaN\n",
       "2459  WEBER ST E    95014         NaN\n",
       "2460  WEBER ST E    40790         NaN\n",
       "2491  WEBER ST E    41000       150.0\n",
       "2496  WEBER ST E    41030       150.0\n",
       "2592  WEBER ST E    41030       150.0\n",
       "2669  WEBER ST E    41030       150.0"
      ]
     },
     "execution_count": 206,
     "metadata": {},
     "output_type": "execute_result"
    }
   ],
   "source": [
    "asset_size[asset_size['STREET'] == 'WEBER ST E']"
   ]
  },
  {
   "cell_type": "markdown",
   "id": "aa568519",
   "metadata": {},
   "source": [
    "Well there we have it, each ID is unique to the asset size whether it's missing or not."
   ]
  },
  {
   "cell_type": "markdown",
   "id": "4dcdec84",
   "metadata": {},
   "source": [
    "I will fill in the `NaN` values with the most frequent number (mode) for now."
   ]
  },
  {
   "cell_type": "code",
   "execution_count": 207,
   "id": "7ee5640c",
   "metadata": {},
   "outputs": [
    {
     "data": {
      "text/plain": [
       "150.0     1808\n",
       "300.0      319\n",
       "200.0      289\n",
       "100.0       58\n",
       "450.0       51\n",
       "600.0       17\n",
       "25.0        13\n",
       "250.0       12\n",
       "50.0         7\n",
       "13.0         5\n",
       "1200.0       5\n",
       "0.0          3\n",
       "750.0        2\n",
       "Name: ASSET_SIZE, dtype: int64"
      ]
     },
     "execution_count": 207,
     "metadata": {},
     "output_type": "execute_result"
    }
   ],
   "source": [
    "asset_size.ASSET_SIZE.value_counts()"
   ]
  },
  {
   "cell_type": "code",
   "execution_count": 208,
   "id": "9705156c",
   "metadata": {},
   "outputs": [],
   "source": [
    "# fill asset size with the mode of the column\n",
    "break_data['ASSET_SIZE'].fillna(break_data['ASSET_SIZE'].mode()[0], inplace=True)"
   ]
  },
  {
   "cell_type": "code",
   "execution_count": 209,
   "id": "fcb1c13e",
   "metadata": {},
   "outputs": [
    {
     "data": {
      "text/plain": [
       "150.0     1969\n",
       "300.0      319\n",
       "200.0      289\n",
       "100.0       58\n",
       "450.0       51\n",
       "600.0       17\n",
       "25.0        13\n",
       "250.0       12\n",
       "50.0         7\n",
       "13.0         5\n",
       "1200.0       5\n",
       "0.0          3\n",
       "750.0        2\n",
       "Name: ASSET_SIZE, dtype: int64"
      ]
     },
     "execution_count": 209,
     "metadata": {},
     "output_type": "execute_result"
    }
   ],
   "source": [
    "break_data.ASSET_SIZE.value_counts()"
   ]
  },
  {
   "cell_type": "code",
   "execution_count": 210,
   "id": "39a89e9f",
   "metadata": {},
   "outputs": [
    {
     "name": "stdout",
     "output_type": "stream",
     "text": [
      "LONGITUDE -  0\n",
      "LATITUDE -  0\n",
      "OBJECTID -  0\n",
      "WATBREAKINCIDENTID -  0\n",
      "INCIDENT_DATE -  0\n",
      "BREAK_TYPE -  0\n",
      "HOUR_IMPACTED -  0\n",
      "STATUS -  0\n",
      "BREAK_NATURE -  0\n",
      "BREAK_APPARENT_CAUSE -  0\n",
      "POSITIVE_PRESSURE_MAINTANED -  0\n",
      "AIR_GAP_MAINTANED -  0\n",
      "MECHANICAL_REMOVAL -  0\n",
      "FLUSHING_EXCAVATION -  0\n",
      "HIGHER_VELOCITY_FLUSHING -  0\n",
      "ANODE_INSTALLED -  0\n",
      "BREAK_CATEGORIZATION -  0\n",
      "ROADSEGMENTID -  0\n",
      "STREET -  0\n",
      "ASSETID -  0\n",
      "ASSET_SIZE -  0\n",
      "ASSET_YEAR_INSTALLED -  165\n",
      "ASSET_MATERIAL -  161\n",
      "ASSET_EXISTS -  0\n",
      "GLOBALID -  0\n"
     ]
    }
   ],
   "source": [
    "print_null_values(break_data)"
   ]
  },
  {
   "cell_type": "code",
   "execution_count": 211,
   "id": "e6a7734c",
   "metadata": {},
   "outputs": [
    {
     "data": {
      "text/plain": [
       "1966.0    159\n",
       "1958.0    158\n",
       "1967.0    156\n",
       "1962.0    110\n",
       "1953.0    104\n",
       "         ... \n",
       "1904.0      1\n",
       "1990.0      1\n",
       "1936.0      1\n",
       "1997.0      1\n",
       "1920.0      1\n",
       "Name: ASSET_YEAR_INSTALLED, Length: 94, dtype: int64"
      ]
     },
     "execution_count": 211,
     "metadata": {},
     "output_type": "execute_result"
    }
   ],
   "source": [
    "break_data.ASSET_YEAR_INSTALLED.value_counts()"
   ]
  },
  {
   "cell_type": "code",
   "execution_count": 212,
   "id": "9126e3d5",
   "metadata": {},
   "outputs": [
    {
     "data": {
      "text/html": [
       "<div>\n",
       "<style scoped>\n",
       "    .dataframe tbody tr th:only-of-type {\n",
       "        vertical-align: middle;\n",
       "    }\n",
       "\n",
       "    .dataframe tbody tr th {\n",
       "        vertical-align: top;\n",
       "    }\n",
       "\n",
       "    .dataframe thead th {\n",
       "        text-align: right;\n",
       "    }\n",
       "</style>\n",
       "<table border=\"1\" class=\"dataframe\">\n",
       "  <thead>\n",
       "    <tr style=\"text-align: right;\">\n",
       "      <th></th>\n",
       "      <th>LONGITUDE</th>\n",
       "      <th>LATITUDE</th>\n",
       "      <th>OBJECTID</th>\n",
       "      <th>WATBREAKINCIDENTID</th>\n",
       "      <th>INCIDENT_DATE</th>\n",
       "      <th>BREAK_TYPE</th>\n",
       "      <th>HOUR_IMPACTED</th>\n",
       "      <th>STATUS</th>\n",
       "      <th>BREAK_NATURE</th>\n",
       "      <th>BREAK_APPARENT_CAUSE</th>\n",
       "      <th>...</th>\n",
       "      <th>ANODE_INSTALLED</th>\n",
       "      <th>BREAK_CATEGORIZATION</th>\n",
       "      <th>ROADSEGMENTID</th>\n",
       "      <th>STREET</th>\n",
       "      <th>ASSETID</th>\n",
       "      <th>ASSET_SIZE</th>\n",
       "      <th>ASSET_YEAR_INSTALLED</th>\n",
       "      <th>ASSET_MATERIAL</th>\n",
       "      <th>ASSET_EXISTS</th>\n",
       "      <th>GLOBALID</th>\n",
       "    </tr>\n",
       "  </thead>\n",
       "  <tbody>\n",
       "    <tr>\n",
       "      <th>512</th>\n",
       "      <td>-80.475181</td>\n",
       "      <td>43.479341</td>\n",
       "      <td>8497</td>\n",
       "      <td>1006</td>\n",
       "      <td>2006-12-19 00:00:00+00:00</td>\n",
       "      <td>MAIN</td>\n",
       "      <td>8-12 hours</td>\n",
       "      <td>REPAIR COMPLETED</td>\n",
       "      <td>UNKNOWN</td>\n",
       "      <td>OTHER</td>\n",
       "      <td>...</td>\n",
       "      <td>Y</td>\n",
       "      <td>CATEGORY 1</td>\n",
       "      <td>13107</td>\n",
       "      <td>BRIDGE ST E</td>\n",
       "      <td>444</td>\n",
       "      <td>150.0</td>\n",
       "      <td>NaN</td>\n",
       "      <td>NaN</td>\n",
       "      <td>N</td>\n",
       "      <td>e82d2806-040a-40aa-a8fa-ead2987f758b</td>\n",
       "    </tr>\n",
       "    <tr>\n",
       "      <th>469</th>\n",
       "      <td>-80.475473</td>\n",
       "      <td>43.434025</td>\n",
       "      <td>8454</td>\n",
       "      <td>1196</td>\n",
       "      <td>2008-02-10 00:00:00+00:00</td>\n",
       "      <td>MAIN</td>\n",
       "      <td>8-12 hours</td>\n",
       "      <td>REPAIR COMPLETED</td>\n",
       "      <td>UNKNOWN</td>\n",
       "      <td>OTHER</td>\n",
       "      <td>...</td>\n",
       "      <td>Y</td>\n",
       "      <td>CATEGORY 1</td>\n",
       "      <td>11455</td>\n",
       "      <td>MILL ST</td>\n",
       "      <td>26700</td>\n",
       "      <td>150.0</td>\n",
       "      <td>NaN</td>\n",
       "      <td>NaN</td>\n",
       "      <td>N</td>\n",
       "      <td>bb133a77-a561-459f-8b86-9cdc6fe2c784</td>\n",
       "    </tr>\n",
       "    <tr>\n",
       "      <th>986</th>\n",
       "      <td>-80.436979</td>\n",
       "      <td>43.432027</td>\n",
       "      <td>8971</td>\n",
       "      <td>1174</td>\n",
       "      <td>2007-12-18 00:00:00+00:00</td>\n",
       "      <td>MAIN</td>\n",
       "      <td>8-12 hours</td>\n",
       "      <td>REPAIR COMPLETED</td>\n",
       "      <td>UNKNOWN</td>\n",
       "      <td>OTHER</td>\n",
       "      <td>...</td>\n",
       "      <td>Y</td>\n",
       "      <td>CATEGORY 1</td>\n",
       "      <td>11544</td>\n",
       "      <td>HUBER ST</td>\n",
       "      <td>19990</td>\n",
       "      <td>150.0</td>\n",
       "      <td>NaN</td>\n",
       "      <td>NaN</td>\n",
       "      <td>N</td>\n",
       "      <td>594ccac5-e1aa-4fa6-941d-b5868584798b</td>\n",
       "    </tr>\n",
       "    <tr>\n",
       "      <th>263</th>\n",
       "      <td>-80.485117</td>\n",
       "      <td>43.450855</td>\n",
       "      <td>8248</td>\n",
       "      <td>1540</td>\n",
       "      <td>2010-11-09 00:00:00+00:00</td>\n",
       "      <td>MAIN</td>\n",
       "      <td>8-12 hours</td>\n",
       "      <td>REPAIR COMPLETED</td>\n",
       "      <td>FITTING/JOINT</td>\n",
       "      <td>AGE</td>\n",
       "      <td>...</td>\n",
       "      <td>Y</td>\n",
       "      <td>CATEGORY 1</td>\n",
       "      <td>6759</td>\n",
       "      <td>WEBER ST E</td>\n",
       "      <td>40820</td>\n",
       "      <td>150.0</td>\n",
       "      <td>NaN</td>\n",
       "      <td>NaN</td>\n",
       "      <td>N</td>\n",
       "      <td>2d17eae0-78e2-4e45-9871-725d0ccb044c</td>\n",
       "    </tr>\n",
       "    <tr>\n",
       "      <th>2416</th>\n",
       "      <td>-80.466276</td>\n",
       "      <td>43.481911</td>\n",
       "      <td>10401</td>\n",
       "      <td>653</td>\n",
       "      <td>2003-02-26 00:00:00+00:00</td>\n",
       "      <td>MAIN</td>\n",
       "      <td>8-12 hours</td>\n",
       "      <td>REPAIR COMPLETED</td>\n",
       "      <td>UNKNOWN</td>\n",
       "      <td>OTHER</td>\n",
       "      <td>...</td>\n",
       "      <td>Y</td>\n",
       "      <td>CATEGORY 1</td>\n",
       "      <td>12946</td>\n",
       "      <td>SCHWEITZER ST</td>\n",
       "      <td>441</td>\n",
       "      <td>150.0</td>\n",
       "      <td>NaN</td>\n",
       "      <td>NaN</td>\n",
       "      <td>N</td>\n",
       "      <td>91861374-1fe7-4e16-b696-48b868c9b93d</td>\n",
       "    </tr>\n",
       "    <tr>\n",
       "      <th>983</th>\n",
       "      <td>-80.480202</td>\n",
       "      <td>43.448642</td>\n",
       "      <td>8968</td>\n",
       "      <td>1423</td>\n",
       "      <td>2009-12-15 00:00:00+00:00</td>\n",
       "      <td>MAIN</td>\n",
       "      <td>8-12 hours</td>\n",
       "      <td>REPAIR COMPLETED</td>\n",
       "      <td>UNKNOWN</td>\n",
       "      <td>OTHER</td>\n",
       "      <td>...</td>\n",
       "      <td>Y</td>\n",
       "      <td>CATEGORY 1</td>\n",
       "      <td>6863</td>\n",
       "      <td>WEBER ST E</td>\n",
       "      <td>40880</td>\n",
       "      <td>150.0</td>\n",
       "      <td>NaN</td>\n",
       "      <td>NaN</td>\n",
       "      <td>N</td>\n",
       "      <td>195fa0dd-c095-46b4-b8e0-c6909bb9e979</td>\n",
       "    </tr>\n",
       "    <tr>\n",
       "      <th>2086</th>\n",
       "      <td>-80.573004</td>\n",
       "      <td>43.443999</td>\n",
       "      <td>10071</td>\n",
       "      <td>1035</td>\n",
       "      <td>2011-12-15 15:38:27+00:00</td>\n",
       "      <td>MAIN</td>\n",
       "      <td>8-12 hours</td>\n",
       "      <td>REPAIR COMPLETED</td>\n",
       "      <td>UNKNOWN</td>\n",
       "      <td>OTHER</td>\n",
       "      <td>...</td>\n",
       "      <td>Y</td>\n",
       "      <td>CATEGORY 1</td>\n",
       "      <td>0</td>\n",
       "      <td>UNKNOWN</td>\n",
       "      <td>0</td>\n",
       "      <td>150.0</td>\n",
       "      <td>NaN</td>\n",
       "      <td>NaN</td>\n",
       "      <td>N</td>\n",
       "      <td>21fba635-a684-4fd3-8a9e-f75eee7349ca</td>\n",
       "    </tr>\n",
       "    <tr>\n",
       "      <th>1549</th>\n",
       "      <td>-80.495598</td>\n",
       "      <td>43.437140</td>\n",
       "      <td>9534</td>\n",
       "      <td>99</td>\n",
       "      <td>2000-01-07 00:00:00+00:00</td>\n",
       "      <td>MAIN</td>\n",
       "      <td>8-12 hours</td>\n",
       "      <td>REPAIR COMPLETED</td>\n",
       "      <td>UNKNOWN</td>\n",
       "      <td>OTHER</td>\n",
       "      <td>...</td>\n",
       "      <td>Y</td>\n",
       "      <td>CATEGORY 1</td>\n",
       "      <td>6450</td>\n",
       "      <td>ST CLAIR AVE</td>\n",
       "      <td>35730</td>\n",
       "      <td>150.0</td>\n",
       "      <td>NaN</td>\n",
       "      <td>NaN</td>\n",
       "      <td>N</td>\n",
       "      <td>134284c5-690d-42cb-b3fc-6211d4910b57</td>\n",
       "    </tr>\n",
       "    <tr>\n",
       "      <th>1056</th>\n",
       "      <td>-80.479118</td>\n",
       "      <td>43.432772</td>\n",
       "      <td>9041</td>\n",
       "      <td>127</td>\n",
       "      <td>1998-12-18 00:00:00+00:00</td>\n",
       "      <td>MAIN</td>\n",
       "      <td>8-12 hours</td>\n",
       "      <td>REPAIR COMPLETED</td>\n",
       "      <td>UNKNOWN</td>\n",
       "      <td>OTHER</td>\n",
       "      <td>...</td>\n",
       "      <td>Y</td>\n",
       "      <td>CATEGORY 1</td>\n",
       "      <td>10877</td>\n",
       "      <td>OTTAWA ST S</td>\n",
       "      <td>29680</td>\n",
       "      <td>150.0</td>\n",
       "      <td>NaN</td>\n",
       "      <td>NaN</td>\n",
       "      <td>N</td>\n",
       "      <td>ac0f49c2-3e7e-4ccd-8fbc-e539e4778ae3</td>\n",
       "    </tr>\n",
       "    <tr>\n",
       "      <th>753</th>\n",
       "      <td>-80.480505</td>\n",
       "      <td>43.430662</td>\n",
       "      <td>8738</td>\n",
       "      <td>267</td>\n",
       "      <td>2005-07-20 00:00:00+00:00</td>\n",
       "      <td>MAIN</td>\n",
       "      <td>8-12 hours</td>\n",
       "      <td>REPAIR COMPLETED</td>\n",
       "      <td>UNKNOWN</td>\n",
       "      <td>OTHER</td>\n",
       "      <td>...</td>\n",
       "      <td>Y</td>\n",
       "      <td>CATEGORY 1</td>\n",
       "      <td>11743</td>\n",
       "      <td>OTTAWA ST S</td>\n",
       "      <td>29660</td>\n",
       "      <td>150.0</td>\n",
       "      <td>NaN</td>\n",
       "      <td>NaN</td>\n",
       "      <td>N</td>\n",
       "      <td>346376f6-1b5e-41dc-9b2a-bbe387e68717</td>\n",
       "    </tr>\n",
       "  </tbody>\n",
       "</table>\n",
       "<p>10 rows × 25 columns</p>\n",
       "</div>"
      ],
      "text/plain": [
       "      LONGITUDE   LATITUDE  OBJECTID  WATBREAKINCIDENTID  \\\n",
       "512  -80.475181  43.479341      8497                1006   \n",
       "469  -80.475473  43.434025      8454                1196   \n",
       "986  -80.436979  43.432027      8971                1174   \n",
       "263  -80.485117  43.450855      8248                1540   \n",
       "2416 -80.466276  43.481911     10401                 653   \n",
       "983  -80.480202  43.448642      8968                1423   \n",
       "2086 -80.573004  43.443999     10071                1035   \n",
       "1549 -80.495598  43.437140      9534                  99   \n",
       "1056 -80.479118  43.432772      9041                 127   \n",
       "753  -80.480505  43.430662      8738                 267   \n",
       "\n",
       "                 INCIDENT_DATE BREAK_TYPE HOUR_IMPACTED            STATUS  \\\n",
       "512  2006-12-19 00:00:00+00:00       MAIN    8-12 hours  REPAIR COMPLETED   \n",
       "469  2008-02-10 00:00:00+00:00       MAIN    8-12 hours  REPAIR COMPLETED   \n",
       "986  2007-12-18 00:00:00+00:00       MAIN    8-12 hours  REPAIR COMPLETED   \n",
       "263  2010-11-09 00:00:00+00:00       MAIN    8-12 hours  REPAIR COMPLETED   \n",
       "2416 2003-02-26 00:00:00+00:00       MAIN    8-12 hours  REPAIR COMPLETED   \n",
       "983  2009-12-15 00:00:00+00:00       MAIN    8-12 hours  REPAIR COMPLETED   \n",
       "2086 2011-12-15 15:38:27+00:00       MAIN    8-12 hours  REPAIR COMPLETED   \n",
       "1549 2000-01-07 00:00:00+00:00       MAIN    8-12 hours  REPAIR COMPLETED   \n",
       "1056 1998-12-18 00:00:00+00:00       MAIN    8-12 hours  REPAIR COMPLETED   \n",
       "753  2005-07-20 00:00:00+00:00       MAIN    8-12 hours  REPAIR COMPLETED   \n",
       "\n",
       "       BREAK_NATURE BREAK_APPARENT_CAUSE  ... ANODE_INSTALLED  \\\n",
       "512         UNKNOWN                OTHER  ...               Y   \n",
       "469         UNKNOWN                OTHER  ...               Y   \n",
       "986         UNKNOWN                OTHER  ...               Y   \n",
       "263   FITTING/JOINT                  AGE  ...               Y   \n",
       "2416        UNKNOWN                OTHER  ...               Y   \n",
       "983         UNKNOWN                OTHER  ...               Y   \n",
       "2086        UNKNOWN                OTHER  ...               Y   \n",
       "1549        UNKNOWN                OTHER  ...               Y   \n",
       "1056        UNKNOWN                OTHER  ...               Y   \n",
       "753         UNKNOWN                OTHER  ...               Y   \n",
       "\n",
       "     BREAK_CATEGORIZATION ROADSEGMENTID         STREET ASSETID ASSET_SIZE  \\\n",
       "512            CATEGORY 1         13107    BRIDGE ST E     444      150.0   \n",
       "469            CATEGORY 1         11455        MILL ST   26700      150.0   \n",
       "986            CATEGORY 1         11544       HUBER ST   19990      150.0   \n",
       "263            CATEGORY 1          6759     WEBER ST E   40820      150.0   \n",
       "2416           CATEGORY 1         12946  SCHWEITZER ST     441      150.0   \n",
       "983            CATEGORY 1          6863     WEBER ST E   40880      150.0   \n",
       "2086           CATEGORY 1             0        UNKNOWN       0      150.0   \n",
       "1549           CATEGORY 1          6450   ST CLAIR AVE   35730      150.0   \n",
       "1056           CATEGORY 1         10877    OTTAWA ST S   29680      150.0   \n",
       "753            CATEGORY 1         11743    OTTAWA ST S   29660      150.0   \n",
       "\n",
       "     ASSET_YEAR_INSTALLED  ASSET_MATERIAL ASSET_EXISTS  \\\n",
       "512                   NaN             NaN            N   \n",
       "469                   NaN             NaN            N   \n",
       "986                   NaN             NaN            N   \n",
       "263                   NaN             NaN            N   \n",
       "2416                  NaN             NaN            N   \n",
       "983                   NaN             NaN            N   \n",
       "2086                  NaN             NaN            N   \n",
       "1549                  NaN             NaN            N   \n",
       "1056                  NaN             NaN            N   \n",
       "753                   NaN             NaN            N   \n",
       "\n",
       "                                  GLOBALID  \n",
       "512   e82d2806-040a-40aa-a8fa-ead2987f758b  \n",
       "469   bb133a77-a561-459f-8b86-9cdc6fe2c784  \n",
       "986   594ccac5-e1aa-4fa6-941d-b5868584798b  \n",
       "263   2d17eae0-78e2-4e45-9871-725d0ccb044c  \n",
       "2416  91861374-1fe7-4e16-b696-48b868c9b93d  \n",
       "983   195fa0dd-c095-46b4-b8e0-c6909bb9e979  \n",
       "2086  21fba635-a684-4fd3-8a9e-f75eee7349ca  \n",
       "1549  134284c5-690d-42cb-b3fc-6211d4910b57  \n",
       "1056  ac0f49c2-3e7e-4ccd-8fbc-e539e4778ae3  \n",
       "753   346376f6-1b5e-41dc-9b2a-bbe387e68717  \n",
       "\n",
       "[10 rows x 25 columns]"
      ]
     },
     "execution_count": 212,
     "metadata": {},
     "output_type": "execute_result"
    }
   ],
   "source": [
    "break_data[break_data['ASSET_YEAR_INSTALLED'].isna()].sample(10)"
   ]
  },
  {
   "cell_type": "markdown",
   "id": "6957f586",
   "metadata": {},
   "source": [
    "From reading different studies, it seems as though the year the pipe was installed or rather the age of the pipe is a critical factor in predicting breaks/time of failure. In this case, I believe I may have to drop the observations where no year is indicated. "
   ]
  },
  {
   "cell_type": "code",
   "execution_count": 213,
   "id": "b2edfd96",
   "metadata": {},
   "outputs": [],
   "source": [
    "break_data.dropna(axis=0, subset=['ASSET_YEAR_INSTALLED'], inplace=True)"
   ]
  },
  {
   "cell_type": "code",
   "execution_count": 214,
   "id": "d8e4a560",
   "metadata": {},
   "outputs": [
    {
     "name": "stdout",
     "output_type": "stream",
     "text": [
      "(2585, 25)\n",
      "LONGITUDE -  0\n",
      "LATITUDE -  0\n",
      "OBJECTID -  0\n",
      "WATBREAKINCIDENTID -  0\n",
      "INCIDENT_DATE -  0\n",
      "BREAK_TYPE -  0\n",
      "HOUR_IMPACTED -  0\n",
      "STATUS -  0\n",
      "BREAK_NATURE -  0\n",
      "BREAK_APPARENT_CAUSE -  0\n",
      "POSITIVE_PRESSURE_MAINTANED -  0\n",
      "AIR_GAP_MAINTANED -  0\n",
      "MECHANICAL_REMOVAL -  0\n",
      "FLUSHING_EXCAVATION -  0\n",
      "HIGHER_VELOCITY_FLUSHING -  0\n",
      "ANODE_INSTALLED -  0\n",
      "BREAK_CATEGORIZATION -  0\n",
      "ROADSEGMENTID -  0\n",
      "STREET -  0\n",
      "ASSETID -  0\n",
      "ASSET_SIZE -  0\n",
      "ASSET_YEAR_INSTALLED -  0\n",
      "ASSET_MATERIAL -  0\n",
      "ASSET_EXISTS -  0\n",
      "GLOBALID -  0\n"
     ]
    }
   ],
   "source": [
    "print(break_data.shape)\n",
    "print_null_values(break_data)"
   ]
  },
  {
   "cell_type": "markdown",
   "id": "fa1930f2",
   "metadata": {},
   "source": [
    "Lucky for us that took care of our missing values in the `ASSET_MATERIAL` column. Now we have a clean dataset finally to do some EDA and feature engineering."
   ]
  },
  {
   "cell_type": "code",
   "execution_count": 215,
   "id": "4543be76",
   "metadata": {},
   "outputs": [],
   "source": [
    "break_data.to_csv('../data/processed/cleaned_break_data.csv', index=False)"
   ]
  },
  {
   "cell_type": "code",
   "execution_count": null,
   "id": "1251411e",
   "metadata": {},
   "outputs": [],
   "source": []
  }
 ],
 "metadata": {
  "kernelspec": {
   "display_name": "Python 3.10.6 ('water_main')",
   "language": "python",
   "name": "python3"
  },
  "language_info": {
   "codemirror_mode": {
    "name": "ipython",
    "version": 3
   },
   "file_extension": ".py",
   "mimetype": "text/x-python",
   "name": "python",
   "nbconvert_exporter": "python",
   "pygments_lexer": "ipython3",
   "version": "3.10.6 | packaged by conda-forge | (main, Aug 22 2022, 20:41:54) [Clang 13.0.1 ]"
  },
  "toc": {
   "base_numbering": 1,
   "nav_menu": {},
   "number_sections": true,
   "sideBar": true,
   "skip_h1_title": false,
   "title_cell": "Table of Contents",
   "title_sidebar": "Contents",
   "toc_cell": false,
   "toc_position": {},
   "toc_section_display": true,
   "toc_window_display": false
  },
  "varInspector": {
   "cols": {
    "lenName": 16,
    "lenType": 16,
    "lenVar": 40
   },
   "kernels_config": {
    "python": {
     "delete_cmd_postfix": "",
     "delete_cmd_prefix": "del ",
     "library": "var_list.py",
     "varRefreshCmd": "print(var_dic_list())"
    },
    "r": {
     "delete_cmd_postfix": ") ",
     "delete_cmd_prefix": "rm(",
     "library": "var_list.r",
     "varRefreshCmd": "cat(var_dic_list()) "
    }
   },
   "types_to_exclude": [
    "module",
    "function",
    "builtin_function_or_method",
    "instance",
    "_Feature"
   ],
   "window_display": false
  },
  "vscode": {
   "interpreter": {
    "hash": "2fdb87a7e5aaaa2e9ad6f68e7c1b0efa8ea12dfe0c07df41cc0311229acfa8cc"
   }
  }
 },
 "nbformat": 4,
 "nbformat_minor": 5
}
